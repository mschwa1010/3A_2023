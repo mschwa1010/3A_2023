{
 "cells": [
  {
   "cell_type": "markdown",
   "metadata": {
    "id": "Z44si7hiwDrV"
   },
   "source": [
    "# Predictive Analytics"
   ]
  },
  {
   "cell_type": "markdown",
   "metadata": {
    "id": "Ulqdz2JPwLvz"
   },
   "source": [
    "To get a better understanding of the dynamics in the field of ride-hailing in Chicago, we want to employ Support Vector Machines and Neural Networks to predict the taxi demand in spatio-temporal resolution.\n",
    "This notebook is structured as follows:\n",
    "* Import necessary python libraries and files\n",
    "* Construction of the final feature sets\n",
    "* Predictive Analytics (SVMs and Neural Networks)\n",
    "\n",
    "Since we use large datasets it could appear that we run into some memory issues. Therefore, we designed this notebook in a way, that the feature set construction and the predictive analytics could be run independently from one another. For that, the saved files from the first part will be imported again at the beginning of the second part."
   ]
  },
  {
   "cell_type": "markdown",
   "metadata": {
    "id": "V6JhKHC9KQL3"
   },
   "source": [
    "### Import libraries"
   ]
  },
  {
   "cell_type": "code",
   "execution_count": 1,
   "metadata": {
    "colab": {
     "base_uri": "https://localhost:8080/"
    },
    "id": "BF0CKEHZKcF3",
    "outputId": "6aa4beb2-06e0-4614-f23a-3a45dd0fa43e"
   },
   "outputs": [
    {
     "name": "stdout",
     "output_type": "stream",
     "text": [
      "Requirement already satisfied: h3 in /Users/justusbertelmann/anaconda3/envs/newenv/lib/python3.8/site-packages (3.7.6)\r\n"
     ]
    }
   ],
   "source": [
    "# Import necessary libraries\n",
    "!pip install h3\n",
    "import pandas as pd\n",
    "import h3\n",
    "\n",
    "import gc\n",
    "\n",
    "import warnings\n",
    "warnings.filterwarnings('ignore')"
   ]
  },
  {
   "cell_type": "markdown",
   "metadata": {
    "id": "pR7Zn6r2KF7U"
   },
   "source": [
    "### Import files"
   ]
  },
  {
   "cell_type": "markdown",
   "metadata": {
    "id": "rZxCTuNU0UP-"
   },
   "source": [
    "First, we need to import the Chicago taxi trip dataset from 2013 and the additional weather dataset that contains hourly weather data. The extended trips dataset, that was created in the Feature Engineering notebook, contains all relevant features, that we will use/try out in the prediction."
   ]
  },
  {
   "cell_type": "code",
   "execution_count": 2,
   "metadata": {
    "id": "_Re7DtEwJhTH"
   },
   "outputs": [],
   "source": [
    "# Import necessary pickle datasets after preprocessing\n",
    "trips_2013 = pd.read_pickle(\"data/trips_2013_extended.pkl\")\n",
    "weather_hourly = pd.read_pickle(\"data/weather_hourly.pkl\")"
   ]
  },
  {
   "cell_type": "code",
   "execution_count": 3,
   "metadata": {
    "colab": {
     "base_uri": "https://localhost:8080/"
    },
    "id": "UZyn7Ur66tPR",
    "outputId": "f0492ccd-a528-4f1f-aa84-98dd132e697a"
   },
   "outputs": [
    {
     "name": "stdout",
     "output_type": "stream",
     "text": [
      "<class 'pandas.core.frame.DataFrame'>\n",
      "Int64Index: 6448673 entries, 0 to 6448672\n",
      "Data columns (total 36 columns):\n",
      " #   Column              Dtype         \n",
      "---  ------              -----         \n",
      " 0   trip_id             object        \n",
      " 1   taxi_id             object        \n",
      " 2   start_time          datetime64[ns]\n",
      " 3   end_time            datetime64[ns]\n",
      " 4   duration            float64       \n",
      " 5   hour                int64         \n",
      " 6   day                 object        \n",
      " 7   week_day            int64         \n",
      " 8   part_of_day         object        \n",
      " 9   is_weekend          int64         \n",
      " 10  month               int64         \n",
      " 11  start_location      object        \n",
      " 12  start_lat           float64       \n",
      " 13  start_long          float64       \n",
      " 14  end_location        object        \n",
      " 15  end_lat             float64       \n",
      " 16  end_long            float64       \n",
      " 17  h3_hex_6            object        \n",
      " 18  h3_hex_7            object        \n",
      " 19  h3_hex_8            object        \n",
      " 20  start_census_tract  int64         \n",
      " 21  end_census_tract    int64         \n",
      " 22  fare                float64       \n",
      " 23  extras              float64       \n",
      " 24  tips                float64       \n",
      " 25  tolls               float64       \n",
      " 26  trip_total          float64       \n",
      " 27  cost_per_minute     float64       \n",
      " 28  cost_per_km         float64       \n",
      " 29  company             object        \n",
      " 30  payment_type        object        \n",
      " 31  poi_count_start     float64       \n",
      " 32  poi_count_end       float64       \n",
      " 33  airport_trip        int64         \n",
      " 34  is_special_date     int64         \n",
      " 35  is_holiday          int64         \n",
      "dtypes: datetime64[ns](2), float64(14), int64(9), object(11)\n",
      "memory usage: 1.8+ GB\n"
     ]
    }
   ],
   "source": [
    "trips_2013.info()"
   ]
  },
  {
   "cell_type": "markdown",
   "metadata": {
    "id": "5KWjRawlGOPg"
   },
   "source": [
    "### Construction of the final feature sets"
   ]
  },
  {
   "cell_type": "markdown",
   "metadata": {
    "id": "eTirfQf41Yjl"
   },
   "source": [
    "As a basis for the construction of the final feature set, we want to extract the date related features that we will try for the prediction. The columns, that we use from the trips dataset, are: start_census_tract/h3, day, hour, week_day, month, poi_count_start, airport_trip, is_holiday, is_special_date.\n",
    "\n",
    "Finally, we construct the feature sets for the four temporal resoulutions (hourly, two-hourly, six-hourly, and daily) and the spacial resolutions (census tract and h3 with three different resolutions)."
   ]
  },
  {
   "cell_type": "code",
   "execution_count": 4,
   "metadata": {
    "id": "1OkVme-HAFj2"
   },
   "outputs": [],
   "source": [
    "# Add some date related columns to the weather dataset\n",
    "weather_hourly['hour'] = weather_hourly['datetime'].dt.hour\n",
    "weather_hourly['day'] = weather_hourly['datetime'].dt.strftime('%Y-%m-%d')\n",
    "weather_hourly['day'] = pd.to_datetime(weather_hourly['day'])\n",
    "weather_hourly['weekday'] = weather_hourly['datetime'].dt.day_of_week\n",
    "weather_hourly['month'] = weather_hourly['datetime'].dt.month\n",
    "weather_hourly['temperature'] = weather_hourly['temperature'].round(0)\n",
    "\n",
    "# Convert the day column to datetime object in order to be able to join it with the weather dataset\n",
    "trips_2013['day'] = pd.to_datetime(trips_2013['day'])"
   ]
  },
  {
   "cell_type": "markdown",
   "metadata": {
    "id": "fMIuN1sNQezT"
   },
   "source": [
    "#### Hourly Feature Sets"
   ]
  },
  {
   "cell_type": "markdown",
   "metadata": {
    "id": "6KSye3QSWpMS"
   },
   "source": [
    "We decided to represent the taxi demand as the total number of trips for a given spacial and temporal resolution.\n",
    "\n",
    "For the hourly feature set we select the spacial resolution (census tract or h3) and group the dataframe by the columns *spacial resolution*, day, and hour to then calculate the number of total trips. We also keep weather data about the day, hour, temperature, and if it rained or not (precipitation) from the hourly weather dataset."
   ]
  },
  {
   "cell_type": "code",
   "execution_count": 5,
   "metadata": {
    "id": "IDBPFkC8MEes"
   },
   "outputs": [],
   "source": [
    "# Extract relevant data from trips_2013 and weather_hourly datasets and define the 'trips' column as the total number of trips per spacial resolution and hour\n",
    "\n",
    "# For cencus tract\n",
    "number_of_trips_ct = trips_2013[['start_census_tract','day','hour','week_day','month','poi_count_start','airport_trip','is_holiday','is_special_date']]\n",
    "trip_counts = trips_2013.groupby(['start_census_tract', 'day', 'hour']).size().reset_index(name='trips')\n",
    "number_of_trips_ct = number_of_trips_ct.merge(trip_counts, on=['start_census_tract', 'day', 'hour'], how='left')\n",
    "number_of_trips_ct.drop_duplicates(inplace=True)\n",
    "number_of_trips_ct = number_of_trips_ct.sort_values(by=['start_census_tract', 'day', 'hour'])\n",
    "number_of_trips_ct.reset_index(drop=True,inplace=True)\n",
    "\n",
    "# For h3 res=6\n",
    "number_of_trips_h3_6 = trips_2013[['h3_hex_6','day','hour','week_day','month','poi_count_start','airport_trip','is_holiday','is_special_date']]\n",
    "trip_counts = trips_2013.groupby(['h3_hex_6', 'day', 'hour']).size().reset_index(name='trips')\n",
    "number_of_trips_h3_6 = number_of_trips_h3_6.merge(trip_counts, on=['h3_hex_6', 'day', 'hour'], how='left')\n",
    "number_of_trips_h3_6.drop_duplicates(inplace=True)\n",
    "number_of_trips_h3_6 = number_of_trips_h3_6.sort_values(by=['h3_hex_6', 'day', 'hour'])\n",
    "number_of_trips_h3_6.reset_index(drop=True,inplace=True)\n",
    "\n",
    "# For h3 res=7\n",
    "number_of_trips_h3_7 = trips_2013[['h3_hex_7','day','hour','week_day','month','poi_count_start','airport_trip','is_holiday','is_special_date']]\n",
    "trip_counts = trips_2013.groupby(['h3_hex_7', 'day', 'hour']).size().reset_index(name='trips')\n",
    "number_of_trips_h3_7 = number_of_trips_h3_7.merge(trip_counts, on=['h3_hex_7', 'day', 'hour'], how='left')\n",
    "number_of_trips_h3_7.drop_duplicates(inplace=True)\n",
    "number_of_trips_h3_7 = number_of_trips_h3_7.sort_values(by=['h3_hex_7', 'day', 'hour'])\n",
    "number_of_trips_h3_7.reset_index(drop=True,inplace=True)\n",
    "\n",
    "# For h3 res=8\n",
    "number_of_trips_h3_8 = trips_2013[['h3_hex_8','day','hour','week_day','month','poi_count_start','airport_trip','is_holiday','is_special_date']]\n",
    "trip_counts = trips_2013.groupby(['h3_hex_8', 'day', 'hour']).size().reset_index(name='trips')\n",
    "number_of_trips_h3_8 = number_of_trips_h3_8.merge(trip_counts, on=['h3_hex_8', 'day', 'hour'], how='left')\n",
    "number_of_trips_h3_8.drop_duplicates(inplace=True)\n",
    "number_of_trips_h3_8 = number_of_trips_h3_8.sort_values(by=['h3_hex_8', 'day', 'hour'])\n",
    "number_of_trips_h3_8.reset_index(drop=True,inplace=True)\n",
    "\n",
    "# For weather data: extract the columns day, hour, temperature, and precip from the hourly weather dataset\n",
    "weather_features = weather_hourly[['day','hour','temperature','precip']]"
   ]
  },
  {
   "cell_type": "markdown",
   "metadata": {
    "id": "q67kfmC1YluG"
   },
   "source": [
    "Now we define functions for joining the census tract or h3 dataframes with the weather dataframe. The functions are needed because we have to do this several times in this notebook."
   ]
  },
  {
   "cell_type": "code",
   "execution_count": 6,
   "metadata": {
    "id": "Ey3Ps_nebbcv"
   },
   "outputs": [],
   "source": [
    "# Join datasets for census tract\n",
    "def join_census_tract(census, weather):\n",
    "  temp_dataset = pd.DataFrame()\n",
    "\n",
    "  # Iterate over unique start_census_tract values\n",
    "  for start_census_tract in census['start_census_tract'].unique():\n",
    "      # Select data for the current start_census_tract group\n",
    "      group_data = census[census['start_census_tract'] == start_census_tract]\n",
    "\n",
    "      # Merge the group data with the hourly weather dataset\n",
    "      if 'hour' in census.columns:\n",
    "        merged_group_data = group_data.merge(weather, on=['day', 'hour'], how='inner')\n",
    "      else: # For the daily feature set as it doesn't contain the hour column\n",
    "        merged_group_data = group_data.merge(weather, on=['day'], how='inner')\n",
    "\n",
    "      # Append the merged group data to the overall merged dataframe\n",
    "      temp_dataset = temp_dataset.append(merged_group_data)\n",
    "\n",
    "  temp_dataset.reset_index(drop=True, inplace=True)\n",
    "  return temp_dataset"
   ]
  },
  {
   "cell_type": "code",
   "execution_count": 7,
   "metadata": {
    "id": "Bx1nJ7cqgBoU"
   },
   "outputs": [],
   "source": [
    "# Join datasets for h3 res=6\n",
    "def join_h3_6(h3_6, weather):\n",
    "  temp6 = pd.DataFrame()\n",
    "\n",
    "  # Iterate over unique h3_hex_6 values\n",
    "  for h3_hex_6 in h3_6['h3_hex_6'].unique():\n",
    "      # Select data for the current start_census_tract group\n",
    "      group_data = h3_6[h3_6['h3_hex_6'] == h3_hex_6]\n",
    "\n",
    "      # Merge the group data with the hourly weather dataset\n",
    "      if 'hour' in h3_6.columns:\n",
    "        merged_group_data = group_data.merge(weather, on=['day', 'hour'], how='inner')\n",
    "      else: # For the daily feature set as it doesn't contain the hour column\n",
    "        merged_group_data = group_data.merge(weather, on=['day'], how='inner')\n",
    "\n",
    "      # Append the merged group data to the overall merged dataframe\n",
    "      temp6 = temp6.append(merged_group_data)\n",
    "\n",
    "  temp6.reset_index(drop=True, inplace=True)\n",
    "  return temp6"
   ]
  },
  {
   "cell_type": "code",
   "execution_count": 8,
   "metadata": {
    "id": "lyn7aYzMg5zj"
   },
   "outputs": [],
   "source": [
    "# Join datasets for h3 res=7\n",
    "def join_h3_7(h3_7, weather):\n",
    "  temp_7 = pd.DataFrame()\n",
    "\n",
    "  # Iterate over unique h3_hex_7 values\n",
    "  for h3_hex_7 in h3_7['h3_hex_7'].unique():\n",
    "      # Select data for the current start_census_tract group\n",
    "      group_data = h3_7[h3_7['h3_hex_7'] == h3_hex_7]\n",
    "\n",
    "      # Merge the group data with the hourly weather dataset\n",
    "      if 'hour' in h3_7.columns:\n",
    "        merged_group_data = group_data.merge(weather, on=['day', 'hour'], how='inner')\n",
    "      else: # For the daily feature set as it doesn't contain the hour column\n",
    "        merged_group_data = group_data.merge(weather, on=['day'], how='inner')\n",
    "\n",
    "      # Append the merged group data to the overall merged dataframe\n",
    "      temp_7 = temp_7.append(merged_group_data)\n",
    "\n",
    "  temp_7.reset_index(drop=True, inplace=True)\n",
    "  return temp_7"
   ]
  },
  {
   "cell_type": "code",
   "execution_count": 9,
   "metadata": {
    "id": "usazv8huhHxj"
   },
   "outputs": [],
   "source": [
    "# Join datasets for h3 res=8\n",
    "def join_h3_8(h3_8, weather):\n",
    "  temp_8 = pd.DataFrame()\n",
    "\n",
    "  # Iterate over unique h3_hex_8 values\n",
    "  for h3_hex_8 in h3_8['h3_hex_8'].unique():\n",
    "    # Select data for the current start_census_tract group\n",
    "    group_data = h3_8[h3_8['h3_hex_8'] == h3_hex_8]\n",
    "\n",
    "    # Merge the group data with the hourly weather dataset\n",
    "    if 'hour' in h3_8.columns:\n",
    "      merged_group_data = group_data.merge(weather, on=['day', 'hour'], how='inner')\n",
    "    else: # For the daily feature set as it doesn't contain the hour column\n",
    "      merged_group_data = group_data.merge(weather, on=['day'], how='inner')\n",
    "\n",
    "    # Append the merged group data to the overall merged dataframe\n",
    "    temp_8 = temp_8.append(merged_group_data)\n",
    "\n",
    "  temp_8.reset_index(drop=True, inplace=True)\n",
    "  return temp_8"
   ]
  },
  {
   "cell_type": "code",
   "execution_count": 10,
   "metadata": {
    "id": "a2eKfDJefR9Y"
   },
   "outputs": [],
   "source": [
    "# Performing the join for the hourly feature sets\n",
    "feature_set_hourly_ct = join_census_tract(number_of_trips_ct, weather_features)\n",
    "feature_set_hourly_h3_6 = join_h3_6(number_of_trips_h3_6, weather_features)\n",
    "feature_set_hourly_h3_7 = join_h3_7(number_of_trips_h3_7, weather_features)\n",
    "feature_set_hourly_h3_8 = join_h3_8(number_of_trips_h3_8, weather_features)"
   ]
  },
  {
   "cell_type": "markdown",
   "metadata": {
    "id": "wRkisoAp20SP"
   },
   "source": [
    "This is what the hourly feature sets look like:"
   ]
  },
  {
   "cell_type": "code",
   "execution_count": 11,
   "metadata": {
    "colab": {
     "base_uri": "https://localhost:8080/",
     "height": 348
    },
    "id": "mVjQFKjd2zeD",
    "outputId": "08e69f92-5267-4cee-9aa0-6b6bf072a436"
   },
   "outputs": [
    {
     "data": {
      "text/html": [
       "<div>\n",
       "<style scoped>\n",
       "    .dataframe tbody tr th:only-of-type {\n",
       "        vertical-align: middle;\n",
       "    }\n",
       "\n",
       "    .dataframe tbody tr th {\n",
       "        vertical-align: top;\n",
       "    }\n",
       "\n",
       "    .dataframe thead th {\n",
       "        text-align: right;\n",
       "    }\n",
       "</style>\n",
       "<table border=\"1\" class=\"dataframe\">\n",
       "  <thead>\n",
       "    <tr style=\"text-align: right;\">\n",
       "      <th></th>\n",
       "      <th>start_census_tract</th>\n",
       "      <th>day</th>\n",
       "      <th>hour</th>\n",
       "      <th>week_day</th>\n",
       "      <th>month</th>\n",
       "      <th>poi_count_start</th>\n",
       "      <th>airport_trip</th>\n",
       "      <th>is_holiday</th>\n",
       "      <th>is_special_date</th>\n",
       "      <th>trips</th>\n",
       "      <th>temperature</th>\n",
       "      <th>precip</th>\n",
       "    </tr>\n",
       "  </thead>\n",
       "  <tbody>\n",
       "    <tr>\n",
       "      <th>0</th>\n",
       "      <td>17031010100</td>\n",
       "      <td>2013-04-21</td>\n",
       "      <td>1</td>\n",
       "      <td>6</td>\n",
       "      <td>4</td>\n",
       "      <td>0.0</td>\n",
       "      <td>0</td>\n",
       "      <td>0</td>\n",
       "      <td>0</td>\n",
       "      <td>1</td>\n",
       "      <td>2.0</td>\n",
       "      <td>0</td>\n",
       "    </tr>\n",
       "    <tr>\n",
       "      <th>1</th>\n",
       "      <td>17031010100</td>\n",
       "      <td>2013-12-06</td>\n",
       "      <td>19</td>\n",
       "      <td>4</td>\n",
       "      <td>12</td>\n",
       "      <td>0.0</td>\n",
       "      <td>0</td>\n",
       "      <td>0</td>\n",
       "      <td>0</td>\n",
       "      <td>1</td>\n",
       "      <td>-6.0</td>\n",
       "      <td>0</td>\n",
       "    </tr>\n",
       "    <tr>\n",
       "      <th>2</th>\n",
       "      <td>17031010201</td>\n",
       "      <td>2013-02-16</td>\n",
       "      <td>19</td>\n",
       "      <td>5</td>\n",
       "      <td>2</td>\n",
       "      <td>1.0</td>\n",
       "      <td>0</td>\n",
       "      <td>0</td>\n",
       "      <td>0</td>\n",
       "      <td>1</td>\n",
       "      <td>-1.0</td>\n",
       "      <td>0</td>\n",
       "    </tr>\n",
       "    <tr>\n",
       "      <th>3</th>\n",
       "      <td>17031010201</td>\n",
       "      <td>2013-03-01</td>\n",
       "      <td>6</td>\n",
       "      <td>4</td>\n",
       "      <td>3</td>\n",
       "      <td>1.0</td>\n",
       "      <td>0</td>\n",
       "      <td>0</td>\n",
       "      <td>0</td>\n",
       "      <td>1</td>\n",
       "      <td>1.0</td>\n",
       "      <td>0</td>\n",
       "    </tr>\n",
       "    <tr>\n",
       "      <th>4</th>\n",
       "      <td>17031010201</td>\n",
       "      <td>2013-03-01</td>\n",
       "      <td>20</td>\n",
       "      <td>4</td>\n",
       "      <td>3</td>\n",
       "      <td>1.0</td>\n",
       "      <td>0</td>\n",
       "      <td>0</td>\n",
       "      <td>0</td>\n",
       "      <td>1</td>\n",
       "      <td>1.0</td>\n",
       "      <td>0</td>\n",
       "    </tr>\n",
       "  </tbody>\n",
       "</table>\n",
       "</div>"
      ],
      "text/plain": [
       "   start_census_tract        day  hour  week_day  month  poi_count_start  \\\n",
       "0         17031010100 2013-04-21     1         6      4              0.0   \n",
       "1         17031010100 2013-12-06    19         4     12              0.0   \n",
       "2         17031010201 2013-02-16    19         5      2              1.0   \n",
       "3         17031010201 2013-03-01     6         4      3              1.0   \n",
       "4         17031010201 2013-03-01    20         4      3              1.0   \n",
       "\n",
       "   airport_trip  is_holiday  is_special_date  trips  temperature precip  \n",
       "0             0           0                0      1          2.0      0  \n",
       "1             0           0                0      1         -6.0      0  \n",
       "2             0           0                0      1         -1.0      0  \n",
       "3             0           0                0      1          1.0      0  \n",
       "4             0           0                0      1          1.0      0  "
      ]
     },
     "execution_count": 11,
     "metadata": {},
     "output_type": "execute_result"
    }
   ],
   "source": [
    "feature_set_hourly_ct.head()"
   ]
  },
  {
   "cell_type": "code",
   "execution_count": 12,
   "metadata": {
    "colab": {
     "base_uri": "https://localhost:8080/",
     "height": 348
    },
    "id": "SFSkgMAe2_G5",
    "outputId": "5db6fb24-8ffa-41ed-b0a5-34c158895709"
   },
   "outputs": [
    {
     "data": {
      "text/html": [
       "<div>\n",
       "<style scoped>\n",
       "    .dataframe tbody tr th:only-of-type {\n",
       "        vertical-align: middle;\n",
       "    }\n",
       "\n",
       "    .dataframe tbody tr th {\n",
       "        vertical-align: top;\n",
       "    }\n",
       "\n",
       "    .dataframe thead th {\n",
       "        text-align: right;\n",
       "    }\n",
       "</style>\n",
       "<table border=\"1\" class=\"dataframe\">\n",
       "  <thead>\n",
       "    <tr style=\"text-align: right;\">\n",
       "      <th></th>\n",
       "      <th>h3_hex_6</th>\n",
       "      <th>day</th>\n",
       "      <th>hour</th>\n",
       "      <th>week_day</th>\n",
       "      <th>month</th>\n",
       "      <th>poi_count_start</th>\n",
       "      <th>airport_trip</th>\n",
       "      <th>is_holiday</th>\n",
       "      <th>is_special_date</th>\n",
       "      <th>trips</th>\n",
       "      <th>temperature</th>\n",
       "      <th>precip</th>\n",
       "    </tr>\n",
       "  </thead>\n",
       "  <tbody>\n",
       "    <tr>\n",
       "      <th>0</th>\n",
       "      <td>862664527ffffff</td>\n",
       "      <td>2013-01-01</td>\n",
       "      <td>10</td>\n",
       "      <td>1</td>\n",
       "      <td>1</td>\n",
       "      <td>1.0</td>\n",
       "      <td>1</td>\n",
       "      <td>1</td>\n",
       "      <td>0</td>\n",
       "      <td>1</td>\n",
       "      <td>1.0</td>\n",
       "      <td>0</td>\n",
       "    </tr>\n",
       "    <tr>\n",
       "      <th>1</th>\n",
       "      <td>862664527ffffff</td>\n",
       "      <td>2013-01-01</td>\n",
       "      <td>11</td>\n",
       "      <td>1</td>\n",
       "      <td>1</td>\n",
       "      <td>1.0</td>\n",
       "      <td>1</td>\n",
       "      <td>1</td>\n",
       "      <td>0</td>\n",
       "      <td>3</td>\n",
       "      <td>1.0</td>\n",
       "      <td>0</td>\n",
       "    </tr>\n",
       "    <tr>\n",
       "      <th>2</th>\n",
       "      <td>862664527ffffff</td>\n",
       "      <td>2013-01-01</td>\n",
       "      <td>12</td>\n",
       "      <td>1</td>\n",
       "      <td>1</td>\n",
       "      <td>1.0</td>\n",
       "      <td>1</td>\n",
       "      <td>1</td>\n",
       "      <td>0</td>\n",
       "      <td>4</td>\n",
       "      <td>1.0</td>\n",
       "      <td>0</td>\n",
       "    </tr>\n",
       "    <tr>\n",
       "      <th>3</th>\n",
       "      <td>862664527ffffff</td>\n",
       "      <td>2013-01-01</td>\n",
       "      <td>13</td>\n",
       "      <td>1</td>\n",
       "      <td>1</td>\n",
       "      <td>1.0</td>\n",
       "      <td>1</td>\n",
       "      <td>1</td>\n",
       "      <td>0</td>\n",
       "      <td>5</td>\n",
       "      <td>1.0</td>\n",
       "      <td>0</td>\n",
       "    </tr>\n",
       "    <tr>\n",
       "      <th>4</th>\n",
       "      <td>862664527ffffff</td>\n",
       "      <td>2013-01-01</td>\n",
       "      <td>14</td>\n",
       "      <td>1</td>\n",
       "      <td>1</td>\n",
       "      <td>1.0</td>\n",
       "      <td>1</td>\n",
       "      <td>1</td>\n",
       "      <td>0</td>\n",
       "      <td>3</td>\n",
       "      <td>1.0</td>\n",
       "      <td>0</td>\n",
       "    </tr>\n",
       "  </tbody>\n",
       "</table>\n",
       "</div>"
      ],
      "text/plain": [
       "          h3_hex_6        day  hour  week_day  month  poi_count_start  \\\n",
       "0  862664527ffffff 2013-01-01    10         1      1              1.0   \n",
       "1  862664527ffffff 2013-01-01    11         1      1              1.0   \n",
       "2  862664527ffffff 2013-01-01    12         1      1              1.0   \n",
       "3  862664527ffffff 2013-01-01    13         1      1              1.0   \n",
       "4  862664527ffffff 2013-01-01    14         1      1              1.0   \n",
       "\n",
       "   airport_trip  is_holiday  is_special_date  trips  temperature precip  \n",
       "0             1           1                0      1          1.0      0  \n",
       "1             1           1                0      3          1.0      0  \n",
       "2             1           1                0      4          1.0      0  \n",
       "3             1           1                0      5          1.0      0  \n",
       "4             1           1                0      3          1.0      0  "
      ]
     },
     "execution_count": 12,
     "metadata": {},
     "output_type": "execute_result"
    }
   ],
   "source": [
    "feature_set_hourly_h3_6.head()"
   ]
  },
  {
   "cell_type": "code",
   "execution_count": 13,
   "metadata": {
    "id": "Eh3lPGWHr4Ou"
   },
   "outputs": [],
   "source": [
    "# Save hourly feature sets as pickle\n",
    "feature_set_hourly_ct.to_pickle('data/feature_set_hourly_ct.pkl')\n",
    "feature_set_hourly_h3_6.to_pickle('data/feature_set_hourly_h3_6.pkl')\n",
    "feature_set_hourly_h3_7.to_pickle('data/feature_set_hourly_h3_7.pkl')\n",
    "feature_set_hourly_h3_8.to_pickle('data/feature_set_hourly_h3_8.pkl')"
   ]
  },
  {
   "cell_type": "code",
   "execution_count": 14,
   "metadata": {
    "colab": {
     "base_uri": "https://localhost:8080/",
     "height": 225
    },
    "id": "xl3tIu6A9I0f",
    "outputId": "22161227-5d78-4809-a43c-c0c0211d0659"
   },
   "outputs": [],
   "source": [
    "# Clear variables\n",
    "del feature_set_hourly_ct, feature_set_hourly_h3_6, feature_set_hourly_h3_7, feature_set_hourly_h3_8"
   ]
  },
  {
   "cell_type": "markdown",
   "metadata": {
    "id": "gLE3AsfMUZds"
   },
   "source": [
    "#### 2-hourly Feature Sets"
   ]
  },
  {
   "cell_type": "markdown",
   "metadata": {
    "id": "UFtlhKWbf0ga"
   },
   "source": [
    "For the two-hourly feature sets we apply the steps from above and use the previously defined functions. Two adjustmens are made here: we have to map the hours to two-hour intervals and therefore we need to adjust the data for temperature and precipitation."
   ]
  },
  {
   "cell_type": "code",
   "execution_count": 15,
   "metadata": {
    "id": "jima_Nz4WQtn"
   },
   "outputs": [],
   "source": [
    "# Function to map hour to the desired two-hour interval\n",
    "def map_to_2_hour_interval(hour):\n",
    "    return hour//2"
   ]
  },
  {
   "cell_type": "markdown",
   "metadata": {
    "id": "PAbstrEoitCw"
   },
   "source": [
    "First, we need to map the hours to the new two-hour intervals. We defined a function above that will return values between 0 and 11. This creates 12 two-hour intervals as desired. Of course, this function is applied to the weather dataframe as well."
   ]
  },
  {
   "cell_type": "code",
   "execution_count": 16,
   "metadata": {
    "colab": {
     "base_uri": "https://localhost:8080/"
    },
    "id": "8to0T9VzYqhT",
    "outputId": "7c30c268-1189-410b-d70b-ae992629ff6d"
   },
   "outputs": [
    {
     "name": "stdout",
     "output_type": "stream",
     "text": [
      "[ 0  1  2  3  4  5  6  7  8  9 10 11]\n"
     ]
    }
   ],
   "source": [
    "trips_2013['hour'] = trips_2013['start_time'].dt.hour.apply(map_to_2_hour_interval)\n",
    "weather_hourly['hour'] = weather_hourly['datetime'].dt.hour.apply(map_to_2_hour_interval)\n",
    "\n",
    "# Print out the resulting intervals\n",
    "print(trips_2013['hour'].unique())"
   ]
  },
  {
   "cell_type": "markdown",
   "metadata": {
    "id": "znKAo84AjRP_"
   },
   "source": [
    "Now we have to adjust the temperature and precipitation data for the corresponding two-hour intervals. It is possible that the two-hour intervals include different values for the temperature and precipitation in the original trips dataframe.\n",
    "\n",
    "For the temperature we decided to calculate the mean temperature of the two hours and set it as the temperature for the new two-hour interval. For the precipitation we use the maximum value for precipitation as the new value for the two-hour interval. As the column only includes 0 and 1 values, this means that the value for the new interval is set to 1, if it rained in any of the two hours."
   ]
  },
  {
   "cell_type": "code",
   "execution_count": 17,
   "metadata": {
    "id": "SOPgXmmqwEzp"
   },
   "outputs": [],
   "source": [
    "# Group by the 'day' and 'hour' columns and calculate the mean temperature and maximum precip value for each 2-hour interval\n",
    "mean_temperatures = weather_hourly.groupby(['day','hour'])['temperature'].mean().reset_index()\n",
    "max_precip = weather_hourly.groupby(['day', 'hour'])['precip'].max().reset_index()\n",
    "\n",
    "# Merge the mean temperatures and maximum precip values back to the weather_hourly dataset based on the 'day' and 'hour' columns\n",
    "weather_hourly = weather_hourly.merge(mean_temperatures, on=['day', 'hour'], suffixes=('', '_mean'))\n",
    "weather_hourly = weather_hourly.merge(max_precip, on=['day', 'hour'], suffixes=('', '_max'))\n",
    "\n",
    "# Update the 'temperature' and 'precip' columns with the calculated values and round the temperature to the nearest integer\n",
    "weather_hourly['temperature'] = weather_hourly['temperature_mean'].round(0)\n",
    "weather_hourly['precip'] = weather_hourly['precip_max']\n",
    "\n",
    "# Drop the extra columns\n",
    "weather_hourly.drop(columns=['temperature_mean', 'precip_max'], inplace=True)"
   ]
  },
  {
   "cell_type": "code",
   "execution_count": 18,
   "metadata": {
    "id": "Ulla8MvMUn17"
   },
   "outputs": [],
   "source": [
    "# Like above: create the dataframes, extract relevant trip and weather data and calculate the number of trips\n",
    "\n",
    "# For cencus tract\n",
    "number_of_trips_ct = trips_2013[['start_census_tract','day','hour','week_day','month','poi_count_start','airport_trip','is_holiday','is_special_date']]\n",
    "trip_counts = trips_2013.groupby(['start_census_tract', 'day', 'hour']).size().reset_index(name='trips')\n",
    "number_of_trips_ct = number_of_trips_ct.merge(trip_counts, on=['start_census_tract', 'day', 'hour'], how='left')\n",
    "number_of_trips_ct.drop_duplicates(inplace=True)\n",
    "number_of_trips_ct = number_of_trips_ct.sort_values(by=['start_census_tract', 'day', 'hour'])\n",
    "number_of_trips_ct.reset_index(drop=True,inplace=True)\n",
    "\n",
    "# For h3 res=6\n",
    "number_of_trips_h3_6 = trips_2013[['h3_hex_6','day','hour','week_day','month','poi_count_start','airport_trip','is_holiday','is_special_date']]\n",
    "trip_counts = trips_2013.groupby(['h3_hex_6', 'day', 'hour']).size().reset_index(name='trips')\n",
    "number_of_trips_h3_6 = number_of_trips_h3_6.merge(trip_counts, on=['h3_hex_6', 'day', 'hour'], how='left')\n",
    "number_of_trips_h3_6.drop_duplicates(inplace=True)\n",
    "number_of_trips_h3_6 = number_of_trips_h3_6.sort_values(by=['h3_hex_6', 'day', 'hour'])\n",
    "number_of_trips_h3_6.reset_index(drop=True,inplace=True)\n",
    "\n",
    "# For h3 res=7\n",
    "number_of_trips_h3_7 = trips_2013[['h3_hex_7','day','hour','week_day','month','poi_count_start','airport_trip','is_holiday','is_special_date']]\n",
    "trip_counts = trips_2013.groupby(['h3_hex_7', 'day', 'hour']).size().reset_index(name='trips')\n",
    "number_of_trips_h3_7 = number_of_trips_h3_7.merge(trip_counts, on=['h3_hex_7', 'day', 'hour'], how='left')\n",
    "number_of_trips_h3_7.drop_duplicates(inplace=True)\n",
    "number_of_trips_h3_7 = number_of_trips_h3_7.sort_values(by=['h3_hex_7', 'day', 'hour'])\n",
    "number_of_trips_h3_7.reset_index(drop=True,inplace=True)\n",
    "\n",
    "# For h3 res=8\n",
    "number_of_trips_h3_8 = trips_2013[['h3_hex_8','day','hour','week_day','month','poi_count_start','airport_trip','is_holiday','is_special_date']]\n",
    "trip_counts = trips_2013.groupby(['h3_hex_8', 'day', 'hour']).size().reset_index(name='trips')\n",
    "number_of_trips_h3_8 = number_of_trips_h3_8.merge(trip_counts, on=['h3_hex_8', 'day', 'hour'], how='left')\n",
    "number_of_trips_h3_8.drop_duplicates(inplace=True)\n",
    "number_of_trips_h3_8 = number_of_trips_h3_8.sort_values(by=['h3_hex_8', 'day', 'hour'])\n",
    "number_of_trips_h3_8.reset_index(drop=True,inplace=True)\n",
    "\n",
    "# For weather data: extract the columns day, hour, temperature, and precip from the hourly weather dataset\n",
    "weather_features = weather_hourly[['day','hour','temperature','precip']]\n",
    "weather_features.drop_duplicates(inplace=True)"
   ]
  },
  {
   "cell_type": "code",
   "execution_count": 19,
   "metadata": {
    "id": "LOoq4rlyA2Mc"
   },
   "outputs": [],
   "source": [
    "# Clear trips and weather variable\n",
    "del trips_2013, weather_hourly"
   ]
  },
  {
   "cell_type": "code",
   "execution_count": 20,
   "metadata": {
    "id": "_xEIjpADweIQ"
   },
   "outputs": [],
   "source": [
    "# Performing the join for the two-hourly feature sets\n",
    "feature_set_2hourly_ct = join_census_tract(number_of_trips_ct, weather_features)\n",
    "feature_set_2hourly_h3_6 = join_h3_6(number_of_trips_h3_6, weather_features)\n",
    "feature_set_2hourly_h3_7 = join_h3_7(number_of_trips_h3_7, weather_features)\n",
    "feature_set_2hourly_h3_8 = join_h3_8(number_of_trips_h3_8, weather_features)"
   ]
  },
  {
   "cell_type": "markdown",
   "metadata": {
    "id": "8wRJBqTe3Js3"
   },
   "source": [
    "This is what the two-hourly feature sets look like:"
   ]
  },
  {
   "cell_type": "code",
   "execution_count": 21,
   "metadata": {
    "colab": {
     "base_uri": "https://localhost:8080/",
     "height": 348
    },
    "id": "5nFOnnle3KNc",
    "outputId": "b84dd275-70cc-4411-aa09-ee5bd3ef6be3"
   },
   "outputs": [
    {
     "data": {
      "text/html": [
       "<div>\n",
       "<style scoped>\n",
       "    .dataframe tbody tr th:only-of-type {\n",
       "        vertical-align: middle;\n",
       "    }\n",
       "\n",
       "    .dataframe tbody tr th {\n",
       "        vertical-align: top;\n",
       "    }\n",
       "\n",
       "    .dataframe thead th {\n",
       "        text-align: right;\n",
       "    }\n",
       "</style>\n",
       "<table border=\"1\" class=\"dataframe\">\n",
       "  <thead>\n",
       "    <tr style=\"text-align: right;\">\n",
       "      <th></th>\n",
       "      <th>start_census_tract</th>\n",
       "      <th>day</th>\n",
       "      <th>hour</th>\n",
       "      <th>week_day</th>\n",
       "      <th>month</th>\n",
       "      <th>poi_count_start</th>\n",
       "      <th>airport_trip</th>\n",
       "      <th>is_holiday</th>\n",
       "      <th>is_special_date</th>\n",
       "      <th>trips</th>\n",
       "      <th>temperature</th>\n",
       "      <th>precip</th>\n",
       "    </tr>\n",
       "  </thead>\n",
       "  <tbody>\n",
       "    <tr>\n",
       "      <th>0</th>\n",
       "      <td>17031010100</td>\n",
       "      <td>2013-04-21</td>\n",
       "      <td>0</td>\n",
       "      <td>6</td>\n",
       "      <td>4</td>\n",
       "      <td>0.0</td>\n",
       "      <td>0</td>\n",
       "      <td>0</td>\n",
       "      <td>0</td>\n",
       "      <td>1</td>\n",
       "      <td>2.0</td>\n",
       "      <td>0</td>\n",
       "    </tr>\n",
       "    <tr>\n",
       "      <th>1</th>\n",
       "      <td>17031010100</td>\n",
       "      <td>2013-12-06</td>\n",
       "      <td>9</td>\n",
       "      <td>4</td>\n",
       "      <td>12</td>\n",
       "      <td>0.0</td>\n",
       "      <td>0</td>\n",
       "      <td>0</td>\n",
       "      <td>0</td>\n",
       "      <td>1</td>\n",
       "      <td>-6.0</td>\n",
       "      <td>0</td>\n",
       "    </tr>\n",
       "    <tr>\n",
       "      <th>2</th>\n",
       "      <td>17031010201</td>\n",
       "      <td>2013-02-16</td>\n",
       "      <td>9</td>\n",
       "      <td>5</td>\n",
       "      <td>2</td>\n",
       "      <td>1.0</td>\n",
       "      <td>0</td>\n",
       "      <td>0</td>\n",
       "      <td>0</td>\n",
       "      <td>1</td>\n",
       "      <td>-1.0</td>\n",
       "      <td>0</td>\n",
       "    </tr>\n",
       "    <tr>\n",
       "      <th>3</th>\n",
       "      <td>17031010201</td>\n",
       "      <td>2013-03-01</td>\n",
       "      <td>3</td>\n",
       "      <td>4</td>\n",
       "      <td>3</td>\n",
       "      <td>1.0</td>\n",
       "      <td>0</td>\n",
       "      <td>0</td>\n",
       "      <td>0</td>\n",
       "      <td>1</td>\n",
       "      <td>1.0</td>\n",
       "      <td>0</td>\n",
       "    </tr>\n",
       "    <tr>\n",
       "      <th>4</th>\n",
       "      <td>17031010201</td>\n",
       "      <td>2013-03-01</td>\n",
       "      <td>10</td>\n",
       "      <td>4</td>\n",
       "      <td>3</td>\n",
       "      <td>1.0</td>\n",
       "      <td>0</td>\n",
       "      <td>0</td>\n",
       "      <td>0</td>\n",
       "      <td>1</td>\n",
       "      <td>1.0</td>\n",
       "      <td>0</td>\n",
       "    </tr>\n",
       "  </tbody>\n",
       "</table>\n",
       "</div>"
      ],
      "text/plain": [
       "   start_census_tract        day  hour  week_day  month  poi_count_start  \\\n",
       "0         17031010100 2013-04-21     0         6      4              0.0   \n",
       "1         17031010100 2013-12-06     9         4     12              0.0   \n",
       "2         17031010201 2013-02-16     9         5      2              1.0   \n",
       "3         17031010201 2013-03-01     3         4      3              1.0   \n",
       "4         17031010201 2013-03-01    10         4      3              1.0   \n",
       "\n",
       "   airport_trip  is_holiday  is_special_date  trips  temperature  precip  \n",
       "0             0           0                0      1          2.0       0  \n",
       "1             0           0                0      1         -6.0       0  \n",
       "2             0           0                0      1         -1.0       0  \n",
       "3             0           0                0      1          1.0       0  \n",
       "4             0           0                0      1          1.0       0  "
      ]
     },
     "execution_count": 21,
     "metadata": {},
     "output_type": "execute_result"
    }
   ],
   "source": [
    "feature_set_2hourly_ct.head()"
   ]
  },
  {
   "cell_type": "code",
   "execution_count": 22,
   "metadata": {
    "colab": {
     "base_uri": "https://localhost:8080/",
     "height": 348
    },
    "id": "nHRQfAZk3Pdm",
    "outputId": "2f1d478a-6e4e-45cf-e55e-364e05e0fadf"
   },
   "outputs": [
    {
     "data": {
      "text/html": [
       "<div>\n",
       "<style scoped>\n",
       "    .dataframe tbody tr th:only-of-type {\n",
       "        vertical-align: middle;\n",
       "    }\n",
       "\n",
       "    .dataframe tbody tr th {\n",
       "        vertical-align: top;\n",
       "    }\n",
       "\n",
       "    .dataframe thead th {\n",
       "        text-align: right;\n",
       "    }\n",
       "</style>\n",
       "<table border=\"1\" class=\"dataframe\">\n",
       "  <thead>\n",
       "    <tr style=\"text-align: right;\">\n",
       "      <th></th>\n",
       "      <th>h3_hex_7</th>\n",
       "      <th>day</th>\n",
       "      <th>hour</th>\n",
       "      <th>week_day</th>\n",
       "      <th>month</th>\n",
       "      <th>poi_count_start</th>\n",
       "      <th>airport_trip</th>\n",
       "      <th>is_holiday</th>\n",
       "      <th>is_special_date</th>\n",
       "      <th>trips</th>\n",
       "      <th>temperature</th>\n",
       "      <th>precip</th>\n",
       "    </tr>\n",
       "  </thead>\n",
       "  <tbody>\n",
       "    <tr>\n",
       "      <th>0</th>\n",
       "      <td>872664520ffffff</td>\n",
       "      <td>2013-12-13</td>\n",
       "      <td>1</td>\n",
       "      <td>4</td>\n",
       "      <td>12</td>\n",
       "      <td>0.0</td>\n",
       "      <td>0</td>\n",
       "      <td>0</td>\n",
       "      <td>0</td>\n",
       "      <td>1</td>\n",
       "      <td>-8.0</td>\n",
       "      <td>0</td>\n",
       "    </tr>\n",
       "    <tr>\n",
       "      <th>1</th>\n",
       "      <td>872664521ffffff</td>\n",
       "      <td>2013-01-01</td>\n",
       "      <td>5</td>\n",
       "      <td>1</td>\n",
       "      <td>1</td>\n",
       "      <td>1.0</td>\n",
       "      <td>1</td>\n",
       "      <td>1</td>\n",
       "      <td>0</td>\n",
       "      <td>4</td>\n",
       "      <td>1.0</td>\n",
       "      <td>0</td>\n",
       "    </tr>\n",
       "    <tr>\n",
       "      <th>2</th>\n",
       "      <td>872664521ffffff</td>\n",
       "      <td>2013-01-01</td>\n",
       "      <td>6</td>\n",
       "      <td>1</td>\n",
       "      <td>1</td>\n",
       "      <td>1.0</td>\n",
       "      <td>1</td>\n",
       "      <td>1</td>\n",
       "      <td>0</td>\n",
       "      <td>9</td>\n",
       "      <td>1.0</td>\n",
       "      <td>0</td>\n",
       "    </tr>\n",
       "    <tr>\n",
       "      <th>3</th>\n",
       "      <td>872664521ffffff</td>\n",
       "      <td>2013-01-01</td>\n",
       "      <td>7</td>\n",
       "      <td>1</td>\n",
       "      <td>1</td>\n",
       "      <td>1.0</td>\n",
       "      <td>1</td>\n",
       "      <td>1</td>\n",
       "      <td>0</td>\n",
       "      <td>9</td>\n",
       "      <td>2.0</td>\n",
       "      <td>0</td>\n",
       "    </tr>\n",
       "    <tr>\n",
       "      <th>4</th>\n",
       "      <td>872664521ffffff</td>\n",
       "      <td>2013-01-01</td>\n",
       "      <td>8</td>\n",
       "      <td>1</td>\n",
       "      <td>1</td>\n",
       "      <td>1.0</td>\n",
       "      <td>1</td>\n",
       "      <td>1</td>\n",
       "      <td>0</td>\n",
       "      <td>8</td>\n",
       "      <td>2.0</td>\n",
       "      <td>0</td>\n",
       "    </tr>\n",
       "  </tbody>\n",
       "</table>\n",
       "</div>"
      ],
      "text/plain": [
       "          h3_hex_7        day  hour  week_day  month  poi_count_start  \\\n",
       "0  872664520ffffff 2013-12-13     1         4     12              0.0   \n",
       "1  872664521ffffff 2013-01-01     5         1      1              1.0   \n",
       "2  872664521ffffff 2013-01-01     6         1      1              1.0   \n",
       "3  872664521ffffff 2013-01-01     7         1      1              1.0   \n",
       "4  872664521ffffff 2013-01-01     8         1      1              1.0   \n",
       "\n",
       "   airport_trip  is_holiday  is_special_date  trips  temperature  precip  \n",
       "0             0           0                0      1         -8.0       0  \n",
       "1             1           1                0      4          1.0       0  \n",
       "2             1           1                0      9          1.0       0  \n",
       "3             1           1                0      9          2.0       0  \n",
       "4             1           1                0      8          2.0       0  "
      ]
     },
     "execution_count": 22,
     "metadata": {},
     "output_type": "execute_result"
    }
   ],
   "source": [
    "feature_set_2hourly_h3_7.head()"
   ]
  },
  {
   "cell_type": "code",
   "execution_count": 23,
   "metadata": {
    "id": "Az5xjkTfwjU-"
   },
   "outputs": [],
   "source": [
    "# Save two-hourly feature sets as pickle\n",
    "feature_set_2hourly_ct.to_pickle('data/feature_set_2hourly_ct.pkl')\n",
    "feature_set_2hourly_h3_6.to_pickle('data/feature_set_2hourly_h3_6.pkl')\n",
    "feature_set_2hourly_h3_7.to_pickle('data/feature_set_2hourly_h3_7.pkl')\n",
    "feature_set_2hourly_h3_8.to_pickle('data/feature_set_2hourly_h3_8.pkl')"
   ]
  },
  {
   "cell_type": "code",
   "execution_count": 24,
   "metadata": {
    "id": "hXVjwI30_i1G"
   },
   "outputs": [
    {
     "data": {
      "text/plain": [
       "0"
      ]
     },
     "execution_count": 24,
     "metadata": {},
     "output_type": "execute_result"
    }
   ],
   "source": [
    "# Clear variables\n",
    "del feature_set_2hourly_ct, feature_set_2hourly_h3_6, feature_set_2hourly_h3_7, feature_set_2hourly_h3_8\n",
    "gc.collect()"
   ]
  },
  {
   "cell_type": "markdown",
   "metadata": {
    "id": "QLVD0VXayzgh"
   },
   "source": [
    "#### 6-hourly Feature Sets"
   ]
  },
  {
   "cell_type": "markdown",
   "metadata": {
    "id": "vx-wdREArZWA"
   },
   "source": [
    "Now we repeat the same steps from before to get the six-hour interval feature sets."
   ]
  },
  {
   "cell_type": "code",
   "execution_count": 25,
   "metadata": {
    "id": "tGRr69tIy0Lv"
   },
   "outputs": [],
   "source": [
    "# Function to map hour to the desired six-hour interval\n",
    "def map_to_6_hour_interval(hour):\n",
    "    return hour//6"
   ]
  },
  {
   "cell_type": "markdown",
   "metadata": {
    "id": "jSl9KWtfs_Ax"
   },
   "source": [
    "We have to import the trips and weather datasets again because we modified the dataframes in the previous steps for the two-hour interval data."
   ]
  },
  {
   "cell_type": "code",
   "execution_count": 26,
   "metadata": {
    "id": "zRnV9bAozF1O"
   },
   "outputs": [],
   "source": [
    "# Import necessary pickle datasets after preprocessing\n",
    "trips_2013 = pd.read_pickle(\"data/trips_2013_extended.pkl\")\n",
    "weather_hourly = pd.read_pickle(\"data/weather_hourly.pkl\")"
   ]
  },
  {
   "cell_type": "code",
   "execution_count": 27,
   "metadata": {
    "id": "qQqDlYz1y7dR"
   },
   "outputs": [],
   "source": [
    "# Add some date related columns to the weather dataset\n",
    "weather_hourly['hour'] = weather_hourly['datetime'].dt.hour\n",
    "weather_hourly['day'] = weather_hourly['datetime'].dt.strftime('%Y-%m-%d')\n",
    "weather_hourly['day'] = pd.to_datetime(weather_hourly['day'])\n",
    "weather_hourly['weekday'] = weather_hourly['datetime'].dt.day_of_week\n",
    "weather_hourly['month'] = weather_hourly['datetime'].dt.month\n",
    "weather_hourly['temperature'] = weather_hourly['temperature'].round(0)\n",
    "\n",
    "trips_2013['day'] = pd.to_datetime(trips_2013['day'])"
   ]
  },
  {
   "cell_type": "markdown",
   "metadata": {
    "id": "mxeOQ4O4vv3H"
   },
   "source": [
    "As we map the hours in the trips and weather dataframes to the corresponding six-hour intervals, we get the 4 six-hour intervals as expected."
   ]
  },
  {
   "cell_type": "code",
   "execution_count": 28,
   "metadata": {
    "colab": {
     "base_uri": "https://localhost:8080/"
    },
    "id": "IXRbvFEl0AeC",
    "outputId": "1e9f1d1f-8a00-468b-dd08-91b5ebffd273"
   },
   "outputs": [
    {
     "name": "stdout",
     "output_type": "stream",
     "text": [
      "[0 1 2 3]\n"
     ]
    }
   ],
   "source": [
    "trips_2013['hour'] = trips_2013['start_time'].dt.hour.apply(map_to_6_hour_interval)\n",
    "weather_hourly['hour'] = weather_hourly['datetime'].dt.hour.apply(map_to_6_hour_interval)\n",
    "\n",
    "# Print out the resulting intervals\n",
    "print(trips_2013['hour'].unique())"
   ]
  },
  {
   "cell_type": "code",
   "execution_count": 29,
   "metadata": {
    "id": "AeqGKXEO0H1t"
   },
   "outputs": [],
   "source": [
    "# Group by the 'day' and 'hour' columns and calculate the mean temperature and maximum precip value for each six-hour interval\n",
    "mean_temperatures = weather_hourly.groupby(['day','hour'])['temperature'].mean().reset_index()\n",
    "max_precip = weather_hourly.groupby(['day', 'hour'])['precip'].max().reset_index()\n",
    "\n",
    "# Merge the mean temperatures and maximum precip values back to the weather_hourly dataset based on the 'day' and 'hour' columns\n",
    "weather_hourly = weather_hourly.merge(mean_temperatures, on=['day', 'hour'], suffixes=('', '_mean'))\n",
    "weather_hourly = weather_hourly.merge(max_precip, on=['day', 'hour'], suffixes=('', '_max'))\n",
    "\n",
    "# Update the 'temperature' and 'precip' columns with the calculated values and round the temperature to the nearest integer\n",
    "weather_hourly['temperature'] = weather_hourly['temperature_mean'].round(0)\n",
    "weather_hourly['precip'] = weather_hourly['precip_max']\n",
    "\n",
    "# Drop the extra columns\n",
    "weather_hourly.drop(columns=['temperature_mean', 'precip_max'], inplace=True)"
   ]
  },
  {
   "cell_type": "code",
   "execution_count": 30,
   "metadata": {
    "id": "WP9zbO3R0LUL"
   },
   "outputs": [],
   "source": [
    "# Like above: create the dataframes, extract relevant trip and weather data and calculate the number of trips\n",
    "\n",
    "# For cencus tract\n",
    "number_of_trips_ct = trips_2013[['start_census_tract','day','hour','week_day','month','poi_count_start','airport_trip','is_holiday','is_special_date']]\n",
    "trip_counts = trips_2013.groupby(['start_census_tract', 'day', 'hour']).size().reset_index(name='trips')\n",
    "number_of_trips_ct = number_of_trips_ct.merge(trip_counts, on=['start_census_tract', 'day', 'hour'], how='left')\n",
    "number_of_trips_ct.drop_duplicates(inplace=True)\n",
    "number_of_trips_ct = number_of_trips_ct.sort_values(by=['start_census_tract', 'day', 'hour'])\n",
    "number_of_trips_ct.reset_index(drop=True,inplace=True)\n",
    "\n",
    "# For h3 res=6\n",
    "number_of_trips_h3_6 = trips_2013[['h3_hex_6','day','hour','week_day','month','poi_count_start','airport_trip','is_holiday','is_special_date']]\n",
    "trip_counts = trips_2013.groupby(['h3_hex_6', 'day', 'hour']).size().reset_index(name='trips')\n",
    "number_of_trips_h3_6 = number_of_trips_h3_6.merge(trip_counts, on=['h3_hex_6', 'day', 'hour'], how='left')\n",
    "number_of_trips_h3_6.drop_duplicates(inplace=True)\n",
    "number_of_trips_h3_6 = number_of_trips_h3_6.sort_values(by=['h3_hex_6', 'day', 'hour'])\n",
    "number_of_trips_h3_6.reset_index(drop=True,inplace=True)\n",
    "\n",
    "# For h3 res=7\n",
    "number_of_trips_h3_7 = trips_2013[['h3_hex_7','day','hour','week_day','month','poi_count_start','airport_trip','is_holiday','is_special_date']]\n",
    "trip_counts = trips_2013.groupby(['h3_hex_7', 'day', 'hour']).size().reset_index(name='trips')\n",
    "number_of_trips_h3_7 = number_of_trips_h3_7.merge(trip_counts, on=['h3_hex_7', 'day', 'hour'], how='left')\n",
    "number_of_trips_h3_7.drop_duplicates(inplace=True)\n",
    "number_of_trips_h3_7 = number_of_trips_h3_7.sort_values(by=['h3_hex_7', 'day', 'hour'])\n",
    "number_of_trips_h3_7.reset_index(drop=True,inplace=True)\n",
    "\n",
    "# For h3 res=8\n",
    "number_of_trips_h3_8 = trips_2013[['h3_hex_8','day','hour','week_day','month','poi_count_start','airport_trip','is_holiday','is_special_date']]\n",
    "trip_counts = trips_2013.groupby(['h3_hex_8', 'day', 'hour']).size().reset_index(name='trips')\n",
    "number_of_trips_h3_8 = number_of_trips_h3_8.merge(trip_counts, on=['h3_hex_8', 'day', 'hour'], how='left')\n",
    "number_of_trips_h3_8.drop_duplicates(inplace=True)\n",
    "number_of_trips_h3_8 = number_of_trips_h3_8.sort_values(by=['h3_hex_8', 'day', 'hour'])\n",
    "number_of_trips_h3_8.reset_index(drop=True,inplace=True)\n",
    "\n",
    "# For weather data: extract the columns day, hour, temperature, and precip from the hourly weather dataset\n",
    "weather_features = weather_hourly[['day','hour','temperature','precip']]\n",
    "weather_features.drop_duplicates(inplace=True)"
   ]
  },
  {
   "cell_type": "code",
   "execution_count": 31,
   "metadata": {
    "id": "i1IfQZ8NAdyf"
   },
   "outputs": [],
   "source": [
    "# Clear trips and weather variable\n",
    "del trips_2013, weather_hourly"
   ]
  },
  {
   "cell_type": "code",
   "execution_count": 32,
   "metadata": {
    "id": "QRA5oo2Z0l6x"
   },
   "outputs": [],
   "source": [
    "# Performing the join for the 6-hourly feature sets\n",
    "feature_set_6hourly_ct = join_census_tract(number_of_trips_ct, weather_features)\n",
    "feature_set_6hourly_h3_6 = join_h3_6(number_of_trips_h3_6, weather_features)\n",
    "feature_set_6hourly_h3_7 = join_h3_7(number_of_trips_h3_7, weather_features)\n",
    "feature_set_6hourly_h3_8 = join_h3_8(number_of_trips_h3_8, weather_features)"
   ]
  },
  {
   "cell_type": "markdown",
   "metadata": {
    "id": "VOqTutfh3Wat"
   },
   "source": [
    "This is what the six-hourly feature sets look like:"
   ]
  },
  {
   "cell_type": "code",
   "execution_count": 33,
   "metadata": {
    "colab": {
     "base_uri": "https://localhost:8080/",
     "height": 348
    },
    "id": "wed9ym6V3Xmt",
    "outputId": "7984f312-36d1-4afd-e086-dfd907e52a6f"
   },
   "outputs": [
    {
     "data": {
      "text/html": [
       "<div>\n",
       "<style scoped>\n",
       "    .dataframe tbody tr th:only-of-type {\n",
       "        vertical-align: middle;\n",
       "    }\n",
       "\n",
       "    .dataframe tbody tr th {\n",
       "        vertical-align: top;\n",
       "    }\n",
       "\n",
       "    .dataframe thead th {\n",
       "        text-align: right;\n",
       "    }\n",
       "</style>\n",
       "<table border=\"1\" class=\"dataframe\">\n",
       "  <thead>\n",
       "    <tr style=\"text-align: right;\">\n",
       "      <th></th>\n",
       "      <th>start_census_tract</th>\n",
       "      <th>day</th>\n",
       "      <th>hour</th>\n",
       "      <th>week_day</th>\n",
       "      <th>month</th>\n",
       "      <th>poi_count_start</th>\n",
       "      <th>airport_trip</th>\n",
       "      <th>is_holiday</th>\n",
       "      <th>is_special_date</th>\n",
       "      <th>trips</th>\n",
       "      <th>temperature</th>\n",
       "      <th>precip</th>\n",
       "    </tr>\n",
       "  </thead>\n",
       "  <tbody>\n",
       "    <tr>\n",
       "      <th>0</th>\n",
       "      <td>17031010100</td>\n",
       "      <td>2013-04-21</td>\n",
       "      <td>0</td>\n",
       "      <td>6</td>\n",
       "      <td>4</td>\n",
       "      <td>0.0</td>\n",
       "      <td>0</td>\n",
       "      <td>0</td>\n",
       "      <td>0</td>\n",
       "      <td>1</td>\n",
       "      <td>2.0</td>\n",
       "      <td>1</td>\n",
       "    </tr>\n",
       "    <tr>\n",
       "      <th>1</th>\n",
       "      <td>17031010100</td>\n",
       "      <td>2013-12-06</td>\n",
       "      <td>3</td>\n",
       "      <td>4</td>\n",
       "      <td>12</td>\n",
       "      <td>0.0</td>\n",
       "      <td>0</td>\n",
       "      <td>0</td>\n",
       "      <td>0</td>\n",
       "      <td>1</td>\n",
       "      <td>-6.0</td>\n",
       "      <td>0</td>\n",
       "    </tr>\n",
       "    <tr>\n",
       "      <th>2</th>\n",
       "      <td>17031010201</td>\n",
       "      <td>2013-02-16</td>\n",
       "      <td>3</td>\n",
       "      <td>5</td>\n",
       "      <td>2</td>\n",
       "      <td>1.0</td>\n",
       "      <td>0</td>\n",
       "      <td>0</td>\n",
       "      <td>0</td>\n",
       "      <td>1</td>\n",
       "      <td>-1.0</td>\n",
       "      <td>0</td>\n",
       "    </tr>\n",
       "    <tr>\n",
       "      <th>3</th>\n",
       "      <td>17031010201</td>\n",
       "      <td>2013-03-01</td>\n",
       "      <td>1</td>\n",
       "      <td>4</td>\n",
       "      <td>3</td>\n",
       "      <td>1.0</td>\n",
       "      <td>0</td>\n",
       "      <td>0</td>\n",
       "      <td>0</td>\n",
       "      <td>1</td>\n",
       "      <td>1.0</td>\n",
       "      <td>0</td>\n",
       "    </tr>\n",
       "    <tr>\n",
       "      <th>4</th>\n",
       "      <td>17031010201</td>\n",
       "      <td>2013-03-01</td>\n",
       "      <td>3</td>\n",
       "      <td>4</td>\n",
       "      <td>3</td>\n",
       "      <td>1.0</td>\n",
       "      <td>0</td>\n",
       "      <td>0</td>\n",
       "      <td>0</td>\n",
       "      <td>1</td>\n",
       "      <td>1.0</td>\n",
       "      <td>1</td>\n",
       "    </tr>\n",
       "  </tbody>\n",
       "</table>\n",
       "</div>"
      ],
      "text/plain": [
       "   start_census_tract        day  hour  week_day  month  poi_count_start  \\\n",
       "0         17031010100 2013-04-21     0         6      4              0.0   \n",
       "1         17031010100 2013-12-06     3         4     12              0.0   \n",
       "2         17031010201 2013-02-16     3         5      2              1.0   \n",
       "3         17031010201 2013-03-01     1         4      3              1.0   \n",
       "4         17031010201 2013-03-01     3         4      3              1.0   \n",
       "\n",
       "   airport_trip  is_holiday  is_special_date  trips  temperature  precip  \n",
       "0             0           0                0      1          2.0       1  \n",
       "1             0           0                0      1         -6.0       0  \n",
       "2             0           0                0      1         -1.0       0  \n",
       "3             0           0                0      1          1.0       0  \n",
       "4             0           0                0      1          1.0       1  "
      ]
     },
     "execution_count": 33,
     "metadata": {},
     "output_type": "execute_result"
    }
   ],
   "source": [
    "feature_set_6hourly_ct.head()"
   ]
  },
  {
   "cell_type": "code",
   "execution_count": 34,
   "metadata": {
    "colab": {
     "base_uri": "https://localhost:8080/",
     "height": 348
    },
    "id": "nmg8o4e93Zeq",
    "outputId": "fdc52a0f-d53d-4617-a7a9-8c5e44bab622"
   },
   "outputs": [
    {
     "data": {
      "text/html": [
       "<div>\n",
       "<style scoped>\n",
       "    .dataframe tbody tr th:only-of-type {\n",
       "        vertical-align: middle;\n",
       "    }\n",
       "\n",
       "    .dataframe tbody tr th {\n",
       "        vertical-align: top;\n",
       "    }\n",
       "\n",
       "    .dataframe thead th {\n",
       "        text-align: right;\n",
       "    }\n",
       "</style>\n",
       "<table border=\"1\" class=\"dataframe\">\n",
       "  <thead>\n",
       "    <tr style=\"text-align: right;\">\n",
       "      <th></th>\n",
       "      <th>h3_hex_8</th>\n",
       "      <th>day</th>\n",
       "      <th>hour</th>\n",
       "      <th>week_day</th>\n",
       "      <th>month</th>\n",
       "      <th>poi_count_start</th>\n",
       "      <th>airport_trip</th>\n",
       "      <th>is_holiday</th>\n",
       "      <th>is_special_date</th>\n",
       "      <th>trips</th>\n",
       "      <th>temperature</th>\n",
       "      <th>precip</th>\n",
       "    </tr>\n",
       "  </thead>\n",
       "  <tbody>\n",
       "    <tr>\n",
       "      <th>0</th>\n",
       "      <td>8826645215fffff</td>\n",
       "      <td>2013-09-13</td>\n",
       "      <td>1</td>\n",
       "      <td>4</td>\n",
       "      <td>9</td>\n",
       "      <td>1.0</td>\n",
       "      <td>0</td>\n",
       "      <td>0</td>\n",
       "      <td>0</td>\n",
       "      <td>1</td>\n",
       "      <td>16.0</td>\n",
       "      <td>1</td>\n",
       "    </tr>\n",
       "    <tr>\n",
       "      <th>1</th>\n",
       "      <td>8826645215fffff</td>\n",
       "      <td>2013-11-01</td>\n",
       "      <td>1</td>\n",
       "      <td>4</td>\n",
       "      <td>11</td>\n",
       "      <td>1.0</td>\n",
       "      <td>0</td>\n",
       "      <td>0</td>\n",
       "      <td>0</td>\n",
       "      <td>1</td>\n",
       "      <td>8.0</td>\n",
       "      <td>1</td>\n",
       "    </tr>\n",
       "    <tr>\n",
       "      <th>2</th>\n",
       "      <td>8826645219fffff</td>\n",
       "      <td>2013-01-01</td>\n",
       "      <td>1</td>\n",
       "      <td>1</td>\n",
       "      <td>1</td>\n",
       "      <td>1.0</td>\n",
       "      <td>1</td>\n",
       "      <td>1</td>\n",
       "      <td>0</td>\n",
       "      <td>4</td>\n",
       "      <td>1.0</td>\n",
       "      <td>0</td>\n",
       "    </tr>\n",
       "    <tr>\n",
       "      <th>3</th>\n",
       "      <td>8826645219fffff</td>\n",
       "      <td>2013-01-01</td>\n",
       "      <td>2</td>\n",
       "      <td>1</td>\n",
       "      <td>1</td>\n",
       "      <td>1.0</td>\n",
       "      <td>1</td>\n",
       "      <td>1</td>\n",
       "      <td>0</td>\n",
       "      <td>26</td>\n",
       "      <td>1.0</td>\n",
       "      <td>0</td>\n",
       "    </tr>\n",
       "    <tr>\n",
       "      <th>4</th>\n",
       "      <td>8826645219fffff</td>\n",
       "      <td>2013-01-01</td>\n",
       "      <td>3</td>\n",
       "      <td>1</td>\n",
       "      <td>1</td>\n",
       "      <td>1.0</td>\n",
       "      <td>1</td>\n",
       "      <td>1</td>\n",
       "      <td>0</td>\n",
       "      <td>39</td>\n",
       "      <td>-0.0</td>\n",
       "      <td>0</td>\n",
       "    </tr>\n",
       "  </tbody>\n",
       "</table>\n",
       "</div>"
      ],
      "text/plain": [
       "          h3_hex_8        day  hour  week_day  month  poi_count_start  \\\n",
       "0  8826645215fffff 2013-09-13     1         4      9              1.0   \n",
       "1  8826645215fffff 2013-11-01     1         4     11              1.0   \n",
       "2  8826645219fffff 2013-01-01     1         1      1              1.0   \n",
       "3  8826645219fffff 2013-01-01     2         1      1              1.0   \n",
       "4  8826645219fffff 2013-01-01     3         1      1              1.0   \n",
       "\n",
       "   airport_trip  is_holiday  is_special_date  trips  temperature  precip  \n",
       "0             0           0                0      1         16.0       1  \n",
       "1             0           0                0      1          8.0       1  \n",
       "2             1           1                0      4          1.0       0  \n",
       "3             1           1                0     26          1.0       0  \n",
       "4             1           1                0     39         -0.0       0  "
      ]
     },
     "execution_count": 34,
     "metadata": {},
     "output_type": "execute_result"
    }
   ],
   "source": [
    "feature_set_6hourly_h3_8.head()"
   ]
  },
  {
   "cell_type": "code",
   "execution_count": 35,
   "metadata": {
    "id": "7omoyRcJ0wNk"
   },
   "outputs": [],
   "source": [
    "# Save six-hourly feature sets as pickle\n",
    "feature_set_6hourly_ct.to_pickle('data/feature_set_6hourly_ct.pkl')\n",
    "feature_set_6hourly_h3_6.to_pickle('data/feature_set_6hourly_h3_6.pkl')\n",
    "feature_set_6hourly_h3_7.to_pickle('data/feature_set_6hourly_h3_7.pkl')\n",
    "feature_set_6hourly_h3_8.to_pickle('data/feature_set_6hourly_h3_8.pkl')"
   ]
  },
  {
   "cell_type": "code",
   "execution_count": 36,
   "metadata": {
    "colab": {
     "base_uri": "https://localhost:8080/"
    },
    "id": "Ya2-u6HPBUnW",
    "outputId": "fbdaef16-5868-448c-bf5c-ebd9c8f3608f"
   },
   "outputs": [
    {
     "data": {
      "text/plain": [
       "0"
      ]
     },
     "execution_count": 36,
     "metadata": {},
     "output_type": "execute_result"
    }
   ],
   "source": [
    "# Clear variables\n",
    "del feature_set_6hourly_ct, feature_set_6hourly_h3_6, feature_set_6hourly_h3_7, feature_set_6hourly_h3_8\n",
    "gc.collect()"
   ]
  },
  {
   "cell_type": "markdown",
   "metadata": {
    "id": "nx5itvCbulgP"
   },
   "source": [
    "#### 24-hourly/daily Feature Sets"
   ]
  },
  {
   "cell_type": "markdown",
   "metadata": {
    "id": "jP4__8OSy4ex"
   },
   "source": [
    "For the 24-hourly/daily feature sets we again need to import the trips dataset as we modified it before. Now, we import the daily weather dataset instead of the hourly weather dataset to save some time and shorten the code.\n",
    "\n",
    "The additional date related columns are the same as before for now. The important difference for the daily feature sets will be made here."
   ]
  },
  {
   "cell_type": "code",
   "execution_count": 37,
   "metadata": {
    "id": "Vh-T-2v1urDm"
   },
   "outputs": [],
   "source": [
    "# Import necessary pickle datasets after preprocessing\n",
    "trips_2013 = pd.read_pickle(\"data/trips_2013_extended.pkl\")\n",
    "weather_daily = pd.read_pickle(\"data/weather_daily.pkl\")"
   ]
  },
  {
   "cell_type": "code",
   "execution_count": 38,
   "metadata": {
    "id": "fZ1CVjlWu4xJ"
   },
   "outputs": [],
   "source": [
    "# Add some date related columns to the weather dataset\n",
    "weather_daily['hour'] = weather_daily['datetime'].dt.hour\n",
    "weather_daily['day'] = weather_daily['datetime'].dt.strftime('%Y-%m-%d')\n",
    "weather_daily['day'] = pd.to_datetime(weather_daily['day'])\n",
    "weather_daily['weekday'] = weather_daily['datetime'].dt.day_of_week\n",
    "weather_daily['month'] = weather_daily['datetime'].dt.month\n",
    "weather_daily['temperature'] = weather_daily['temperature'].round(0)\n",
    "\n",
    "trips_2013['day'] = pd.to_datetime(trips_2013['day'])"
   ]
  },
  {
   "cell_type": "markdown",
   "metadata": {
    "id": "Jvab1-YU0Cx9"
   },
   "source": [
    "When constructing the dataframes that contain the number of trips and the weather data, the day is the only date related column that will be included. The hour is no longer added here. This results in dataframes that capture the 24-hourly/daily intervals."
   ]
  },
  {
   "cell_type": "code",
   "execution_count": 39,
   "metadata": {
    "id": "5SH9wy9mvq3O"
   },
   "outputs": [],
   "source": [
    "# Like above: create the dataframes, extract relevant trip and weather data and calculate the number of trips\n",
    "\n",
    "# For cencus tract\n",
    "number_of_trips_ct = trips_2013[['start_census_tract','day','week_day','month','poi_count_start','airport_trip','is_holiday','is_special_date']]\n",
    "trip_counts = trips_2013.groupby(['start_census_tract', 'day']).size().reset_index(name='trips')\n",
    "number_of_trips_ct = number_of_trips_ct.merge(trip_counts, on=['start_census_tract', 'day'], how='left')\n",
    "number_of_trips_ct.drop_duplicates(inplace=True)\n",
    "number_of_trips_ct = number_of_trips_ct.sort_values(by=['start_census_tract', 'day'])\n",
    "number_of_trips_ct.reset_index(drop=True,inplace=True)\n",
    "\n",
    "# For h3 res=6\n",
    "number_of_trips_h3_6 = trips_2013[['h3_hex_6','day','week_day','month','poi_count_start','airport_trip','is_holiday','is_special_date']]\n",
    "trip_counts = trips_2013.groupby(['h3_hex_6', 'day']).size().reset_index(name='trips')\n",
    "number_of_trips_h3_6 = number_of_trips_h3_6.merge(trip_counts, on=['h3_hex_6', 'day'], how='left')\n",
    "number_of_trips_h3_6.drop_duplicates(inplace=True)\n",
    "number_of_trips_h3_6 = number_of_trips_h3_6.sort_values(by=['h3_hex_6', 'day'])\n",
    "number_of_trips_h3_6.reset_index(drop=True,inplace=True)\n",
    "\n",
    "# For h3 res=7\n",
    "number_of_trips_h3_7 = trips_2013[['h3_hex_7','day','week_day','month','poi_count_start','airport_trip','is_holiday','is_special_date']]\n",
    "trip_counts = trips_2013.groupby(['h3_hex_7', 'day']).size().reset_index(name='trips')\n",
    "number_of_trips_h3_7 = number_of_trips_h3_7.merge(trip_counts, on=['h3_hex_7', 'day'], how='left')\n",
    "number_of_trips_h3_7.drop_duplicates(inplace=True)\n",
    "number_of_trips_h3_7 = number_of_trips_h3_7.sort_values(by=['h3_hex_7', 'day'])\n",
    "number_of_trips_h3_7.reset_index(drop=True,inplace=True)\n",
    "\n",
    "# For h3 res=8\n",
    "number_of_trips_h3_8 = trips_2013[['h3_hex_8','day','week_day','month','poi_count_start','airport_trip','is_holiday','is_special_date']]\n",
    "trip_counts = trips_2013.groupby(['h3_hex_8', 'day']).size().reset_index(name='trips')\n",
    "number_of_trips_h3_8 = number_of_trips_h3_8.merge(trip_counts, on=['h3_hex_8', 'day'], how='left')\n",
    "number_of_trips_h3_8.drop_duplicates(inplace=True)\n",
    "number_of_trips_h3_8 = number_of_trips_h3_8.sort_values(by=['h3_hex_8', 'day'])\n",
    "number_of_trips_h3_8.reset_index(drop=True,inplace=True)\n",
    "\n",
    "# for weather data\n",
    "weather_features = weather_daily[['day','temperature','precip']]"
   ]
  },
  {
   "cell_type": "code",
   "execution_count": 40,
   "metadata": {
    "id": "JozeptBRCurt"
   },
   "outputs": [],
   "source": [
    "# Clear trips and weather variable\n",
    "del trips_2013, weather_daily"
   ]
  },
  {
   "cell_type": "code",
   "execution_count": 41,
   "metadata": {
    "id": "ysHPV0IaxSk0"
   },
   "outputs": [],
   "source": [
    "# Performing the join for the 24-hourly/daily feature sets\n",
    "feature_set_daily_ct = join_census_tract(number_of_trips_ct, weather_features)\n",
    "feature_set_daily_h3_6 = join_h3_6(number_of_trips_h3_6, weather_features)\n",
    "feature_set_daily_h3_7 = join_h3_7(number_of_trips_h3_7, weather_features)\n",
    "feature_set_daily_h3_8 = join_h3_8(number_of_trips_h3_8, weather_features)"
   ]
  },
  {
   "cell_type": "markdown",
   "metadata": {
    "id": "DIqflEJ24Hiu"
   },
   "source": [
    "This is what the 24-hourly/daily feature sets look like:"
   ]
  },
  {
   "cell_type": "code",
   "execution_count": 42,
   "metadata": {
    "colab": {
     "base_uri": "https://localhost:8080/",
     "height": 348
    },
    "id": "qClVJldg4JVr",
    "outputId": "ebfb6ef5-46ef-46ff-851f-7aaf20501b23"
   },
   "outputs": [
    {
     "data": {
      "text/html": [
       "<div>\n",
       "<style scoped>\n",
       "    .dataframe tbody tr th:only-of-type {\n",
       "        vertical-align: middle;\n",
       "    }\n",
       "\n",
       "    .dataframe tbody tr th {\n",
       "        vertical-align: top;\n",
       "    }\n",
       "\n",
       "    .dataframe thead th {\n",
       "        text-align: right;\n",
       "    }\n",
       "</style>\n",
       "<table border=\"1\" class=\"dataframe\">\n",
       "  <thead>\n",
       "    <tr style=\"text-align: right;\">\n",
       "      <th></th>\n",
       "      <th>start_census_tract</th>\n",
       "      <th>day</th>\n",
       "      <th>week_day</th>\n",
       "      <th>month</th>\n",
       "      <th>poi_count_start</th>\n",
       "      <th>airport_trip</th>\n",
       "      <th>is_holiday</th>\n",
       "      <th>is_special_date</th>\n",
       "      <th>trips</th>\n",
       "      <th>temperature</th>\n",
       "      <th>precip</th>\n",
       "    </tr>\n",
       "  </thead>\n",
       "  <tbody>\n",
       "    <tr>\n",
       "      <th>0</th>\n",
       "      <td>17031010100</td>\n",
       "      <td>2013-04-21</td>\n",
       "      <td>6</td>\n",
       "      <td>4</td>\n",
       "      <td>0.0</td>\n",
       "      <td>0</td>\n",
       "      <td>0</td>\n",
       "      <td>0</td>\n",
       "      <td>1</td>\n",
       "      <td>3.0</td>\n",
       "      <td>0</td>\n",
       "    </tr>\n",
       "    <tr>\n",
       "      <th>1</th>\n",
       "      <td>17031010100</td>\n",
       "      <td>2013-12-06</td>\n",
       "      <td>4</td>\n",
       "      <td>12</td>\n",
       "      <td>0.0</td>\n",
       "      <td>0</td>\n",
       "      <td>0</td>\n",
       "      <td>0</td>\n",
       "      <td>1</td>\n",
       "      <td>-6.0</td>\n",
       "      <td>0</td>\n",
       "    </tr>\n",
       "    <tr>\n",
       "      <th>2</th>\n",
       "      <td>17031010201</td>\n",
       "      <td>2013-02-16</td>\n",
       "      <td>5</td>\n",
       "      <td>2</td>\n",
       "      <td>1.0</td>\n",
       "      <td>0</td>\n",
       "      <td>0</td>\n",
       "      <td>0</td>\n",
       "      <td>1</td>\n",
       "      <td>-1.0</td>\n",
       "      <td>0</td>\n",
       "    </tr>\n",
       "    <tr>\n",
       "      <th>3</th>\n",
       "      <td>17031010201</td>\n",
       "      <td>2013-03-01</td>\n",
       "      <td>4</td>\n",
       "      <td>3</td>\n",
       "      <td>1.0</td>\n",
       "      <td>0</td>\n",
       "      <td>0</td>\n",
       "      <td>0</td>\n",
       "      <td>2</td>\n",
       "      <td>1.0</td>\n",
       "      <td>0</td>\n",
       "    </tr>\n",
       "    <tr>\n",
       "      <th>4</th>\n",
       "      <td>17031010201</td>\n",
       "      <td>2013-06-14</td>\n",
       "      <td>4</td>\n",
       "      <td>6</td>\n",
       "      <td>1.0</td>\n",
       "      <td>0</td>\n",
       "      <td>0</td>\n",
       "      <td>0</td>\n",
       "      <td>2</td>\n",
       "      <td>18.0</td>\n",
       "      <td>1</td>\n",
       "    </tr>\n",
       "  </tbody>\n",
       "</table>\n",
       "</div>"
      ],
      "text/plain": [
       "   start_census_tract        day  week_day  month  poi_count_start  \\\n",
       "0         17031010100 2013-04-21         6      4              0.0   \n",
       "1         17031010100 2013-12-06         4     12              0.0   \n",
       "2         17031010201 2013-02-16         5      2              1.0   \n",
       "3         17031010201 2013-03-01         4      3              1.0   \n",
       "4         17031010201 2013-06-14         4      6              1.0   \n",
       "\n",
       "   airport_trip  is_holiday  is_special_date  trips  temperature  precip  \n",
       "0             0           0                0      1          3.0       0  \n",
       "1             0           0                0      1         -6.0       0  \n",
       "2             0           0                0      1         -1.0       0  \n",
       "3             0           0                0      2          1.0       0  \n",
       "4             0           0                0      2         18.0       1  "
      ]
     },
     "execution_count": 42,
     "metadata": {},
     "output_type": "execute_result"
    }
   ],
   "source": [
    "feature_set_daily_ct.head()"
   ]
  },
  {
   "cell_type": "code",
   "execution_count": 43,
   "metadata": {
    "colab": {
     "base_uri": "https://localhost:8080/",
     "height": 348
    },
    "id": "kFntJdlV4LwR",
    "outputId": "91bd7afb-f50b-407a-ceea-94c7809d7373"
   },
   "outputs": [
    {
     "data": {
      "text/html": [
       "<div>\n",
       "<style scoped>\n",
       "    .dataframe tbody tr th:only-of-type {\n",
       "        vertical-align: middle;\n",
       "    }\n",
       "\n",
       "    .dataframe tbody tr th {\n",
       "        vertical-align: top;\n",
       "    }\n",
       "\n",
       "    .dataframe thead th {\n",
       "        text-align: right;\n",
       "    }\n",
       "</style>\n",
       "<table border=\"1\" class=\"dataframe\">\n",
       "  <thead>\n",
       "    <tr style=\"text-align: right;\">\n",
       "      <th></th>\n",
       "      <th>h3_hex_6</th>\n",
       "      <th>day</th>\n",
       "      <th>week_day</th>\n",
       "      <th>month</th>\n",
       "      <th>poi_count_start</th>\n",
       "      <th>airport_trip</th>\n",
       "      <th>is_holiday</th>\n",
       "      <th>is_special_date</th>\n",
       "      <th>trips</th>\n",
       "      <th>temperature</th>\n",
       "      <th>precip</th>\n",
       "    </tr>\n",
       "  </thead>\n",
       "  <tbody>\n",
       "    <tr>\n",
       "      <th>0</th>\n",
       "      <td>862664527ffffff</td>\n",
       "      <td>2013-01-01</td>\n",
       "      <td>1</td>\n",
       "      <td>1</td>\n",
       "      <td>1.0</td>\n",
       "      <td>1</td>\n",
       "      <td>1</td>\n",
       "      <td>0</td>\n",
       "      <td>69</td>\n",
       "      <td>0.0</td>\n",
       "      <td>0</td>\n",
       "    </tr>\n",
       "    <tr>\n",
       "      <th>1</th>\n",
       "      <td>862664527ffffff</td>\n",
       "      <td>2013-01-02</td>\n",
       "      <td>2</td>\n",
       "      <td>1</td>\n",
       "      <td>1.0</td>\n",
       "      <td>1</td>\n",
       "      <td>0</td>\n",
       "      <td>0</td>\n",
       "      <td>102</td>\n",
       "      <td>-6.0</td>\n",
       "      <td>0</td>\n",
       "    </tr>\n",
       "    <tr>\n",
       "      <th>2</th>\n",
       "      <td>862664527ffffff</td>\n",
       "      <td>2013-01-03</td>\n",
       "      <td>3</td>\n",
       "      <td>1</td>\n",
       "      <td>1.0</td>\n",
       "      <td>1</td>\n",
       "      <td>0</td>\n",
       "      <td>0</td>\n",
       "      <td>74</td>\n",
       "      <td>-7.0</td>\n",
       "      <td>0</td>\n",
       "    </tr>\n",
       "    <tr>\n",
       "      <th>3</th>\n",
       "      <td>862664527ffffff</td>\n",
       "      <td>2013-01-04</td>\n",
       "      <td>4</td>\n",
       "      <td>1</td>\n",
       "      <td>1.0</td>\n",
       "      <td>1</td>\n",
       "      <td>0</td>\n",
       "      <td>0</td>\n",
       "      <td>56</td>\n",
       "      <td>-3.0</td>\n",
       "      <td>0</td>\n",
       "    </tr>\n",
       "    <tr>\n",
       "      <th>4</th>\n",
       "      <td>862664527ffffff</td>\n",
       "      <td>2013-01-05</td>\n",
       "      <td>5</td>\n",
       "      <td>1</td>\n",
       "      <td>1.0</td>\n",
       "      <td>1</td>\n",
       "      <td>0</td>\n",
       "      <td>0</td>\n",
       "      <td>54</td>\n",
       "      <td>-4.0</td>\n",
       "      <td>0</td>\n",
       "    </tr>\n",
       "  </tbody>\n",
       "</table>\n",
       "</div>"
      ],
      "text/plain": [
       "          h3_hex_6        day  week_day  month  poi_count_start  airport_trip  \\\n",
       "0  862664527ffffff 2013-01-01         1      1              1.0             1   \n",
       "1  862664527ffffff 2013-01-02         2      1              1.0             1   \n",
       "2  862664527ffffff 2013-01-03         3      1              1.0             1   \n",
       "3  862664527ffffff 2013-01-04         4      1              1.0             1   \n",
       "4  862664527ffffff 2013-01-05         5      1              1.0             1   \n",
       "\n",
       "   is_holiday  is_special_date  trips  temperature  precip  \n",
       "0           1                0     69          0.0       0  \n",
       "1           0                0    102         -6.0       0  \n",
       "2           0                0     74         -7.0       0  \n",
       "3           0                0     56         -3.0       0  \n",
       "4           0                0     54         -4.0       0  "
      ]
     },
     "execution_count": 43,
     "metadata": {},
     "output_type": "execute_result"
    }
   ],
   "source": [
    "feature_set_daily_h3_6.head()"
   ]
  },
  {
   "cell_type": "code",
   "execution_count": 44,
   "metadata": {
    "id": "ioSCAXXK1Mhm"
   },
   "outputs": [],
   "source": [
    "# Save 24-hourly/daily feature sets as pickle\n",
    "feature_set_daily_ct.to_pickle('data/feature_set_daily_ct.pkl')\n",
    "feature_set_daily_h3_6.to_pickle('data/feature_set_daily_h3_6.pkl')\n",
    "feature_set_daily_h3_7.to_pickle('data/feature_set_daily_h3_7.pkl')\n",
    "feature_set_daily_h3_8.to_pickle('data/feature_set_daily_h3_8.pkl')"
   ]
  },
  {
   "cell_type": "code",
   "execution_count": 45,
   "metadata": {
    "id": "4fBeIeE3CzfV"
   },
   "outputs": [
    {
     "data": {
      "text/plain": [
       "0"
      ]
     },
     "execution_count": 45,
     "metadata": {},
     "output_type": "execute_result"
    }
   ],
   "source": [
    "# Clear variables\n",
    "del feature_set_daily_ct, feature_set_daily_h3_6, feature_set_daily_h3_7, feature_set_daily_h3_8\n",
    "del number_of_trips_ct, number_of_trips_h3_6, number_of_trips_h3_7, number_of_trips_h3_8, weather_features\n",
    "gc.collect()"
   ]
  },
  {
   "cell_type": "markdown",
   "metadata": {
    "id": "aYFrjDdE6Ufe"
   },
   "source": [
    "# Predictive Analytics"
   ]
  },
  {
   "cell_type": "markdown",
   "metadata": {
    "id": "d9GodoPCOyxY"
   },
   "source": [
    "In the following, we want to actually train models with Support Vector Machines and Neural Networks to predict the taxi demand for Chicago. We first start with SVMs, followed by Neural Networks."
   ]
  },
  {
   "cell_type": "markdown",
   "metadata": {
    "id": "JLGzcf9coYs8"
   },
   "source": [
    "## SVM Regression"
   ]
  },
  {
   "cell_type": "markdown",
   "metadata": {
    "id": "Ol0pnqNpPFk0"
   },
   "source": [
    "We start with Support Vector Machines. The steps will be very similar for all of the spatial resolutions and time buckets. Therefore, we define several functions in the first part (hourly prediction) that will be used afterwards."
   ]
  },
  {
   "cell_type": "markdown",
   "metadata": {
    "id": "PXaPdS5HoaL_"
   },
   "source": [
    "### Census Tract Feature Set"
   ]
  },
  {
   "cell_type": "markdown",
   "metadata": {
    "id": "kuFFyZlvoa2s"
   },
   "source": [
    "#### Hourly basis"
   ]
  },
  {
   "cell_type": "markdown",
   "metadata": {
    "id": "Wlo-MwVdQElv"
   },
   "source": [
    "First we import all necessary libraries. Since we aren't dealing with a classification problem, we use Support Vector Regression intead of the Support Vector Classifier. To evaluate the models and assess their performance, we will compare the R2 Scores, Mean Squared Errors, and Mean Absolute Errors."
   ]
  },
  {
   "cell_type": "code",
   "execution_count": 46,
   "metadata": {
    "id": "6sFf0m-U6YOj"
   },
   "outputs": [],
   "source": [
    "# Import necessary libraries for predictive analysis\n",
    "import pandas as pd\n",
    "import numpy as np\n",
    "\n",
    "from sklearn.model_selection import train_test_split, GridSearchCV\n",
    "from sklearn.svm import SVR\n",
    "from sklearn.preprocessing import StandardScaler, MinMaxScaler\n",
    "\n",
    "from sklearn.metrics import r2_score, mean_squared_error, mean_absolute_error\n",
    "\n",
    "import gc\n",
    "\n",
    "import warnings\n",
    "warnings.filterwarnings('ignore')"
   ]
  },
  {
   "cell_type": "markdown",
   "metadata": {
    "id": "de-sGBS9SZTl"
   },
   "source": [
    "The hourly feature set for census tract data contains 474 different census tracts. Since we don't want the high numerical values, that represent the different census tracts, have an impact on the prediction, we use target encoding. We chose target encoding instead of one-hot encoding, because one-hot encoding would add a binary variable for each census tract that would result in adding 474 columns to the dataset, which would lead to a too sparse dataset and high model complexity.\n",
    "\n",
    "Furthermore, the hourly feature set contains over 500.000 entries. We noticed that the runtimes of training SVR models with that much data is not practicle. Instead, we create a subset from the hourly feature set with 20.000 entries and use a random state to make it reproducable."
   ]
  },
  {
   "cell_type": "code",
   "execution_count": 47,
   "metadata": {
    "id": "tkA8ZYU68iG7"
   },
   "outputs": [],
   "source": [
    "# Load census tract feature set\n",
    "feature_set_hourly_ct = pd.read_pickle('data/feature_set_hourly_ct.pkl')\n",
    "\n",
    "# Target encoding\n",
    "target_encoding_map = feature_set_hourly_ct.groupby('start_census_tract')['trips'].mean().to_dict()\n",
    "feature_set_hourly_ct['start_census_tract_encoded'] = feature_set_hourly_ct['start_census_tract'].map(target_encoding_map)\n",
    "\n",
    "# Subset for SVM\n",
    "feature_set_hourly_ct_subset = feature_set_hourly_ct.sample(n=20000, random_state=42)"
   ]
  },
  {
   "cell_type": "markdown",
   "metadata": {
    "id": "vGtWUAl9Vn_L"
   },
   "source": [
    "Before training a model, we use the following function that splits the dataset into a training set (70%) and test set (30%), since we use a grid search method, that automatically creates and uses a validation set.\n",
    "Furthermore, the functions scale the input features to increase later prediction performance."
   ]
  },
  {
   "cell_type": "code",
   "execution_count": 48,
   "metadata": {
    "id": "kkNA5FK5Tq1S"
   },
   "outputs": [],
   "source": [
    "# Function to split dataset and scale features for grid search\n",
    "def split_and_scale(x, y, test_size):\n",
    "  # split into train and test set because of integrated gridsearch (GridSearchCV)\n",
    "  x_train, x_test, y_train, y_test = train_test_split(x, y, test_size=test_size, random_state=42)\n",
    "\n",
    "  # Create an instance of StandardScaler\n",
    "  scaler = StandardScaler()\n",
    "\n",
    "  # Apply feature scaling to your input features\n",
    "  x_train_scaled = scaler.fit_transform(x_train)\n",
    "  x_test_scaled = scaler.transform(x_test)\n",
    "\n",
    "  return x_train_scaled, y_train, x_test_scaled, y_test"
   ]
  },
  {
   "cell_type": "markdown",
   "metadata": {
    "id": "i3guHKHpiETJ"
   },
   "source": [
    "For doing a grid search, to find optimal paramteres, we use the GridSearchCV class. The function creates an SVR model, does a grid search with the model and a set of previously defined hyperparameters. Finally, the function prints out the best set of parameters that the model was trained and validated on."
   ]
  },
  {
   "cell_type": "code",
   "execution_count": 49,
   "metadata": {
    "id": "JllAVadehxZH"
   },
   "outputs": [],
   "source": [
    "def grid_search_SVR(x_train_scaled, y_train, folds, param_grid):\n",
    "    # Create an instance of SVR\n",
    "    model = SVR()\n",
    "\n",
    "    # Create GridSearchCV object\n",
    "    grid_search = GridSearchCV(estimator=model, param_grid=param_grid, scoring='neg_mean_squared_error', cv=folds, verbose = 2)\n",
    "\n",
    "    # Fit the grid search to find the best parameters\n",
    "    grid_search.fit(x_train_scaled, y_train)\n",
    "\n",
    "    # Print the best parameters and best score\n",
    "    print(\"Best Parameters: \", grid_search.best_params_)\n",
    "    print(\"Best Score: \", -grid_search.best_score_)"
   ]
  },
  {
   "cell_type": "markdown",
   "metadata": {
    "id": "4J-ynYIFjFOr"
   },
   "source": [
    "The following evaluate function does the same except of the grid search. It allows us to perform training and evaluation seperately or for the final test set. For evaluation we use the R2 score, MSE, and MAE as mentioned before.\n",
    "\n",
    "The second evaluate function includes the return of the R2 score that will be stored in lists, that represent the spatial resolutions, to compare them in the end."
   ]
  },
  {
   "cell_type": "code",
   "execution_count": 50,
   "metadata": {
    "id": "if5hcMIJh8hp"
   },
   "outputs": [],
   "source": [
    "def evaluate(x_train_scaled,  y_train, x_val_scaled, y_val, params):\n",
    "    # Initializing and training the SVR model\n",
    "    model = SVR(**params)\n",
    "    model.fit(x_train_scaled, y_train)\n",
    "\n",
    "    # Test model on validation dataset\n",
    "    y_pred = model.predict(x_val_scaled)\n",
    "    y_pred\n",
    "\n",
    "    # Compute evaluation metrics\n",
    "    r2 = r2_score(y_val, y_pred)\n",
    "    mse = mean_squared_error(y_val, y_pred)\n",
    "    mae = mean_absolute_error(y_val, y_pred)\n",
    "\n",
    "    # Print the evaluation metrics\n",
    "    print(f\"MSE: {mse}\")\n",
    "    print(f\"MAE: {mae}\")\n",
    "    print(\"R-squared (R2) Score:\", r2)"
   ]
  },
  {
   "cell_type": "code",
   "execution_count": 51,
   "metadata": {
    "id": "faE54mmO0rUh"
   },
   "outputs": [],
   "source": [
    "def evaluate_return(x_train_scaled,  y_train, x_val_scaled, y_val, params):\n",
    "    # Initializing and training the SVR model\n",
    "    model = SVR(**params)\n",
    "    model.fit(x_train_scaled, y_train)\n",
    "\n",
    "    # Test model on validation dataset\n",
    "    y_pred = model.predict(x_val_scaled)\n",
    "    y_pred\n",
    "\n",
    "    # Compute evaluation metrics\n",
    "    r2 = r2_score(y_val, y_pred)\n",
    "    mse = mean_squared_error(y_val, y_pred)\n",
    "    mae = mean_absolute_error(y_val, y_pred)\n",
    "\n",
    "    # Print the evaluation metrics\n",
    "    print(f\"MSE: {mse}\")\n",
    "    print(f\"MAE: {mae}\")\n",
    "    print(\"R-squared (R2) Score:\", r2)\n",
    "\n",
    "    return r2"
   ]
  },
  {
   "cell_type": "markdown",
   "metadata": {
    "id": "SDYnT2O7Zk29"
   },
   "source": [
    "In the following we will try different input feature combinations to get an inside on how they influence model performance."
   ]
  },
  {
   "cell_type": "code",
   "execution_count": 52,
   "metadata": {
    "id": "fg2NPsl9c0MF"
   },
   "outputs": [],
   "source": [
    "# Define parameters for gridsearch\n",
    "param_grid = {\n",
    "    'kernel': ['rbf','poly'],\n",
    "    'C': [1],\n",
    "    'gamma': ['auto','scale'],\n",
    "    'degree': [3,4,5]  # Specify the degrees of the polynomial kernel\n",
    "}"
   ]
  },
  {
   "cell_type": "code",
   "execution_count": 53,
   "metadata": {
    "colab": {
     "base_uri": "https://localhost:8080/"
    },
    "id": "1CDklRZ4ZuXp",
    "outputId": "7c5d8ae8-bff8-4ee2-f904-465bc0d56a5d"
   },
   "outputs": [
    {
     "name": "stdout",
     "output_type": "stream",
     "text": [
      "Fitting 3 folds for each of 12 candidates, totalling 36 fits\n",
      "[CV] END ..............C=1, degree=3, gamma=auto, kernel=rbf; total time=   2.7s\n",
      "[CV] END ..............C=1, degree=3, gamma=auto, kernel=rbf; total time=   2.7s\n",
      "[CV] END ..............C=1, degree=3, gamma=auto, kernel=rbf; total time=   2.7s\n",
      "[CV] END .............C=1, degree=3, gamma=auto, kernel=poly; total time=   2.2s\n",
      "[CV] END .............C=1, degree=3, gamma=auto, kernel=poly; total time=   2.2s\n",
      "[CV] END .............C=1, degree=3, gamma=auto, kernel=poly; total time=   2.2s\n",
      "[CV] END .............C=1, degree=3, gamma=scale, kernel=rbf; total time=   2.8s\n",
      "[CV] END .............C=1, degree=3, gamma=scale, kernel=rbf; total time=   2.7s\n",
      "[CV] END .............C=1, degree=3, gamma=scale, kernel=rbf; total time=   2.7s\n",
      "[CV] END ............C=1, degree=3, gamma=scale, kernel=poly; total time=   2.3s\n",
      "[CV] END ............C=1, degree=3, gamma=scale, kernel=poly; total time=   2.1s\n",
      "[CV] END ............C=1, degree=3, gamma=scale, kernel=poly; total time=   2.2s\n",
      "[CV] END ..............C=1, degree=4, gamma=auto, kernel=rbf; total time=   2.7s\n",
      "[CV] END ..............C=1, degree=4, gamma=auto, kernel=rbf; total time=   2.7s\n",
      "[CV] END ..............C=1, degree=4, gamma=auto, kernel=rbf; total time=   2.7s\n",
      "[CV] END .............C=1, degree=4, gamma=auto, kernel=poly; total time=   2.7s\n",
      "[CV] END .............C=1, degree=4, gamma=auto, kernel=poly; total time=   2.9s\n",
      "[CV] END .............C=1, degree=4, gamma=auto, kernel=poly; total time=   3.6s\n",
      "[CV] END .............C=1, degree=4, gamma=scale, kernel=rbf; total time=   2.7s\n",
      "[CV] END .............C=1, degree=4, gamma=scale, kernel=rbf; total time=   2.7s\n",
      "[CV] END .............C=1, degree=4, gamma=scale, kernel=rbf; total time=   2.7s\n",
      "[CV] END ............C=1, degree=4, gamma=scale, kernel=poly; total time=   2.6s\n",
      "[CV] END ............C=1, degree=4, gamma=scale, kernel=poly; total time=   3.1s\n",
      "[CV] END ............C=1, degree=4, gamma=scale, kernel=poly; total time=   2.8s\n",
      "[CV] END ..............C=1, degree=5, gamma=auto, kernel=rbf; total time=   2.7s\n",
      "[CV] END ..............C=1, degree=5, gamma=auto, kernel=rbf; total time=   2.7s\n",
      "[CV] END ..............C=1, degree=5, gamma=auto, kernel=rbf; total time=   2.7s\n",
      "[CV] END .............C=1, degree=5, gamma=auto, kernel=poly; total time=   5.9s\n",
      "[CV] END .............C=1, degree=5, gamma=auto, kernel=poly; total time=   5.6s\n",
      "[CV] END .............C=1, degree=5, gamma=auto, kernel=poly; total time=   5.9s\n",
      "[CV] END .............C=1, degree=5, gamma=scale, kernel=rbf; total time=   2.7s\n",
      "[CV] END .............C=1, degree=5, gamma=scale, kernel=rbf; total time=   2.7s\n",
      "[CV] END .............C=1, degree=5, gamma=scale, kernel=rbf; total time=   2.6s\n",
      "[CV] END ............C=1, degree=5, gamma=scale, kernel=poly; total time=   5.4s\n",
      "[CV] END ............C=1, degree=5, gamma=scale, kernel=poly; total time=   5.6s\n",
      "[CV] END ............C=1, degree=5, gamma=scale, kernel=poly; total time=   5.2s\n",
      "Best Parameters:  {'C': 1, 'degree': 3, 'gamma': 'scale', 'kernel': 'rbf'}\n",
      "Best Score:  312.2916255222552\n",
      "MSE: 319.14878515111286\n",
      "MAE: 7.625739652874322\n",
      "R-squared (R2) Score: 0.5683085129980247\n",
      "MSE: 213.9972825198771\n",
      "MAE: 6.868854029427115\n",
      "R-squared (R2) Score: 0.7105400070326244\n"
     ]
    }
   ],
   "source": [
    "# Initializing input and target features\n",
    "x = feature_set_hourly_ct_subset[['start_census_tract_encoded','hour']]\n",
    "y = feature_set_hourly_ct_subset['trips']\n",
    "\n",
    "# Split\n",
    "x_train_scaled, y_train, x_test_scaled, y_test = split_and_scale(x, y, test_size=0.3)\n",
    "\n",
    "# Perform grid search\n",
    "grid_search_SVR(x_train_scaled, y_train, 3, param_grid)\n",
    "\n",
    "# Train and evaluate model for standard parameters\n",
    "evaluate(x_train_scaled, y_train, x_test_scaled, y_test, params={})\n",
    "# Train and evaluate model for C=1000\n",
    "evaluate(x_train_scaled, y_train, x_test_scaled, y_test, params={'C':1000})"
   ]
  },
  {
   "cell_type": "markdown",
   "metadata": {
    "id": "SWNjuOBTeDUt"
   },
   "source": [
    "Above, we did a  grid search on a basic model with the minimum input features. The optimum parameters are actually the standard parameters of the SVR model. Therfore, we will use these parameters to decide which input features we use."
   ]
  },
  {
   "cell_type": "code",
   "execution_count": 54,
   "metadata": {
    "colab": {
     "base_uri": "https://localhost:8080/"
    },
    "id": "0JDhb8lsa2eh",
    "outputId": "3afbfe30-1d8d-4d00-e194-1c08b1624d21"
   },
   "outputs": [
    {
     "name": "stdout",
     "output_type": "stream",
     "text": [
      "MSE: 344.87471239368654\n",
      "MAE: 7.839704766571254\n",
      "R-squared (R2) Score: 0.5335107500029599\n",
      "MSE: 210.49260014398263\n",
      "MAE: 6.8805894398899445\n",
      "R-squared (R2) Score: 0.7152805594542893\n"
     ]
    }
   ],
   "source": [
    "# Initializing input and target features\n",
    "x = feature_set_hourly_ct_subset[['start_census_tract_encoded','hour','temperature']]\n",
    "y = feature_set_hourly_ct_subset['trips']\n",
    "\n",
    "# Split\n",
    "x_train_scaled, y_train, x_test_scaled, y_test = split_and_scale(x, y, test_size=0.3)\n",
    "\n",
    "# Train and evaluate model for standard parameters\n",
    "evaluate(x_train_scaled, y_train, x_test_scaled, y_test, params={})\n",
    "# Train and evaluate model for C=1000\n",
    "evaluate(x_train_scaled, y_train, x_test_scaled, y_test, params={'C':1000})"
   ]
  },
  {
   "cell_type": "code",
   "execution_count": 55,
   "metadata": {
    "colab": {
     "base_uri": "https://localhost:8080/"
    },
    "id": "dxoeU1CCbCpG",
    "outputId": "a1071a70-e025-458b-8254-ed3a7cbe802d"
   },
   "outputs": [
    {
     "name": "stdout",
     "output_type": "stream",
     "text": [
      "MSE: 351.6542980470835\n",
      "MAE: 7.8410481568705706\n",
      "R-squared (R2) Score: 0.5243404521727912\n",
      "MSE: 220.30599509729694\n",
      "MAE: 6.938054022514453\n",
      "R-squared (R2) Score: 0.7020066281186959\n"
     ]
    }
   ],
   "source": [
    "# Initializing input and target features\n",
    "x = feature_set_hourly_ct_subset[['start_census_tract_encoded','hour','precip']]\n",
    "y = feature_set_hourly_ct_subset['trips']\n",
    "\n",
    "# Split\n",
    "x_train_scaled, y_train, x_test_scaled, y_test = split_and_scale(x, y, test_size=0.3)\n",
    "\n",
    "# Train and evaluate model for standard parameters\n",
    "evaluate(x_train_scaled, y_train, x_test_scaled, y_test, params={})\n",
    "# Train and evaluate model for C=1000\n",
    "evaluate(x_train_scaled, y_train, x_test_scaled, y_test, params={'C':1000})"
   ]
  },
  {
   "cell_type": "markdown",
   "metadata": {
    "id": "-hpi2_evbLxF"
   },
   "source": [
    "First, we initialized a basic model that only containes the spatio-temporal input features, the start census tract and the hour. The following two models added the temperature and the precipitation. As we can see, the weather feature do not really increase the models performance. As shown in the visualization, there is no direkt link between the weather and trip demand.\n",
    "As we saw in the visualization notebook, there is no direct relationship observable between the trip demand and the weather. Therefore, we exclude the wether features from the trip demand prediction."
   ]
  },
  {
   "cell_type": "code",
   "execution_count": 56,
   "metadata": {
    "colab": {
     "base_uri": "https://localhost:8080/"
    },
    "id": "sk496snGbkWO",
    "outputId": "f9907168-deef-4f89-9944-7417f8ac71fb"
   },
   "outputs": [
    {
     "name": "stdout",
     "output_type": "stream",
     "text": [
      "MSE: 287.36250879969253\n",
      "MAE: 7.153185891088198\n",
      "R-squared (R2) Score: 0.6113037100435131\n",
      "MSE: 151.97928995832223\n",
      "MAE: 5.948988153680997\n",
      "R-squared (R2) Score: 0.7944276502743137\n"
     ]
    }
   ],
   "source": [
    "# Initializing input and target features\n",
    "x = feature_set_hourly_ct_subset[['start_census_tract_encoded','hour','week_day']]\n",
    "y = feature_set_hourly_ct_subset['trips']\n",
    "\n",
    "# Split\n",
    "x_train_scaled, y_train, x_test_scaled, y_test = split_and_scale(x, y, test_size=0.3)\n",
    "\n",
    "# Train and evaluate model for standard parameters\n",
    "evaluate(x_train_scaled, y_train, x_test_scaled, y_test, params={})\n",
    "# Train and evaluate model for C=1000\n",
    "evaluate(x_train_scaled, y_train, x_test_scaled, y_test, params={'C':1000})"
   ]
  },
  {
   "cell_type": "code",
   "execution_count": 57,
   "metadata": {
    "colab": {
     "base_uri": "https://localhost:8080/"
    },
    "id": "dNRv7hUtbyT1",
    "outputId": "4f994de2-ec60-4a7e-eda3-bedb393a7226"
   },
   "outputs": [
    {
     "name": "stdout",
     "output_type": "stream",
     "text": [
      "MSE: 306.85608542115096\n",
      "MAE: 7.257877149814573\n",
      "R-squared (R2) Score: 0.5849360361865694\n",
      "MSE: 139.78561649600738\n",
      "MAE: 5.748123232081664\n",
      "R-squared (R2) Score: 0.8109212271697132\n"
     ]
    }
   ],
   "source": [
    "# Initializing input and target features\n",
    "x = feature_set_hourly_ct_subset[['start_census_tract_encoded','hour','week_day','month']]\n",
    "y = feature_set_hourly_ct_subset['trips']\n",
    "\n",
    "# Split\n",
    "x_train_scaled, y_train, x_test_scaled, y_test = split_and_scale(x, y, test_size=0.3)\n",
    "\n",
    "# Train and evaluate model for standard parameters\n",
    "evaluate(x_train_scaled, y_train, x_test_scaled, y_test, params={})\n",
    "# Train and evaluate model for C=1000\n",
    "evaluate(x_train_scaled, y_train, x_test_scaled, y_test, params={'C':1000})"
   ]
  },
  {
   "cell_type": "code",
   "execution_count": 58,
   "metadata": {
    "colab": {
     "base_uri": "https://localhost:8080/"
    },
    "id": "_XVp0ZyfcIuz",
    "outputId": "05ca9d7b-0b71-43f7-d6b5-eafa65e560e0"
   },
   "outputs": [
    {
     "name": "stdout",
     "output_type": "stream",
     "text": [
      "MSE: 300.81480717118916\n",
      "MAE: 7.260459111943171\n",
      "R-squared (R2) Score: 0.5931076743455048\n",
      "MSE: 148.37673633928966\n",
      "MAE: 5.8499583792077345\n",
      "R-squared (R2) Score: 0.7993005866637414\n"
     ]
    }
   ],
   "source": [
    "# Initializing input and target features\n",
    "x = feature_set_hourly_ct_subset[['start_census_tract_encoded','hour','week_day','month','is_holiday']]\n",
    "y = feature_set_hourly_ct_subset['trips']\n",
    "\n",
    "# Split\n",
    "x_train_scaled, y_train, x_test_scaled, y_test = split_and_scale(x, y, test_size=0.3)\n",
    "\n",
    "# Train and evaluate model for standard parameters\n",
    "evaluate(x_train_scaled, y_train, x_test_scaled, y_test, params={})\n",
    "# Train and evaluate model for C=1000\n",
    "evaluate(x_train_scaled, y_train, x_test_scaled, y_test, params={'C':1000})"
   ]
  },
  {
   "cell_type": "code",
   "execution_count": 59,
   "metadata": {
    "colab": {
     "base_uri": "https://localhost:8080/"
    },
    "id": "Gqe2qwR7penR",
    "outputId": "8e4c0daf-5ba9-414d-b8b3-84271a9c46bd"
   },
   "outputs": [
    {
     "name": "stdout",
     "output_type": "stream",
     "text": [
      "MSE: 290.13831371889086\n",
      "MAE: 7.203602016143037\n",
      "R-squared (R2) Score: 0.6075490620268248\n",
      "MSE: 147.7377188546583\n",
      "MAE: 5.852426504877403\n",
      "R-squared (R2) Score: 0.8001649434183196\n"
     ]
    }
   ],
   "source": [
    "# Initializing input and target features\n",
    "x = feature_set_hourly_ct_subset[['start_census_tract_encoded','hour','week_day','poi_count_start']]\n",
    "y = feature_set_hourly_ct_subset['trips']\n",
    "\n",
    "# Split\n",
    "x_train_scaled, y_train, x_test_scaled, y_test = split_and_scale(x, y, test_size=0.3)\n",
    "\n",
    "# Train and evaluate model for standard parameters\n",
    "evaluate(x_train_scaled, y_train, x_test_scaled, y_test, params={})\n",
    "# Train and evaluate model for C=1000\n",
    "evaluate(x_train_scaled, y_train, x_test_scaled, y_test, params={'C':1000})"
   ]
  },
  {
   "cell_type": "code",
   "execution_count": 60,
   "metadata": {
    "colab": {
     "base_uri": "https://localhost:8080/"
    },
    "id": "FAMgi-zpci0K",
    "outputId": "1283b734-e9ce-4d26-c789-4d9aebacc28d"
   },
   "outputs": [
    {
     "name": "stdout",
     "output_type": "stream",
     "text": [
      "MSE: 307.53412640840304\n",
      "MAE: 7.300155545548374\n",
      "R-squared (R2) Score: 0.5840188949168743\n",
      "MSE: 136.1644635359327\n",
      "MAE: 5.688104272364063\n",
      "R-squared (R2) Score: 0.8158193216595797\n"
     ]
    }
   ],
   "source": [
    "# Initializing input and target features\n",
    "x = feature_set_hourly_ct_subset[['start_census_tract_encoded','hour','week_day','month','poi_count_start']]\n",
    "y = feature_set_hourly_ct_subset['trips']\n",
    "\n",
    "# Split\n",
    "x_train_scaled, y_train, x_test_scaled, y_test = split_and_scale(x, y, test_size=0.3)\n",
    "\n",
    "# Train and evaluate model for standard parameters\n",
    "evaluate(x_train_scaled, y_train, x_test_scaled, y_test, params={})\n",
    "# Train and evaluate model for C=1000\n",
    "evaluate(x_train_scaled, y_train, x_test_scaled, y_test, params={'C':1000})"
   ]
  },
  {
   "cell_type": "code",
   "execution_count": 61,
   "metadata": {
    "colab": {
     "base_uri": "https://localhost:8080/"
    },
    "id": "6xCqLHinqFM9",
    "outputId": "3f5fef34-d0c8-41bc-de4a-ab28aeb7e128"
   },
   "outputs": [
    {
     "name": "stdout",
     "output_type": "stream",
     "text": [
      "MSE: 332.7129951435954\n",
      "MAE: 7.496723975858459\n",
      "R-squared (R2) Score: 0.549961101840281\n",
      "MSE: 141.71586662147843\n",
      "MAE: 5.800571168188901\n",
      "R-squared (R2) Score: 0.8083103052871317\n"
     ]
    }
   ],
   "source": [
    "# Initializing input and target features\n",
    "x = feature_set_hourly_ct_subset[['start_census_tract_encoded','hour','week_day','month','poi_count_start','airport_trip']]\n",
    "y = feature_set_hourly_ct_subset['trips']\n",
    "\n",
    "# Split\n",
    "x_train_scaled, y_train, x_test_scaled, y_test = split_and_scale(x, y, test_size=0.3)\n",
    "\n",
    "# Train and evaluate model for standard parameters\n",
    "evaluate(x_train_scaled, y_train, x_test_scaled, y_test, params={})\n",
    "# Train and evaluate model for C=1000\n",
    "evaluate(x_train_scaled, y_train, x_test_scaled, y_test, params={'C':1000})"
   ]
  },
  {
   "cell_type": "code",
   "execution_count": 62,
   "metadata": {
    "colab": {
     "base_uri": "https://localhost:8080/"
    },
    "id": "BtK94sQircOR",
    "outputId": "e0b81d56-ff75-48dc-df99-cc3a6470ef69"
   },
   "outputs": [
    {
     "name": "stdout",
     "output_type": "stream",
     "text": [
      "MSE: 312.0512916074523\n",
      "MAE: 7.380832799596345\n",
      "R-squared (R2) Score: 0.5779088238386221\n",
      "MSE: 138.6249741665401\n",
      "MAE: 5.76878567287283\n",
      "R-squared (R2) Score: 0.8124911514069242\n"
     ]
    }
   ],
   "source": [
    "# Initializing input and target features\n",
    "x = feature_set_hourly_ct_subset[['start_census_tract_encoded','hour','week_day','month','poi_count_start','is_special_date']]\n",
    "y = feature_set_hourly_ct_subset['trips']\n",
    "\n",
    "# Split\n",
    "x_train_scaled, y_train, x_test_scaled, y_test = split_and_scale(x, y, test_size=0.3)\n",
    "\n",
    "# Train and evaluate model for standard parameters\n",
    "evaluate(x_train_scaled, y_train, x_test_scaled, y_test, params={})\n",
    "# Train and evaluate model for C=1000\n",
    "evaluate(x_train_scaled, y_train, x_test_scaled, y_test, params={'C':1000})"
   ]
  },
  {
   "cell_type": "code",
   "execution_count": 63,
   "metadata": {
    "colab": {
     "base_uri": "https://localhost:8080/"
    },
    "id": "EalsPsDgn_-6",
    "outputId": "46952fbf-eaad-4814-9bee-91746c2be164"
   },
   "outputs": [
    {
     "name": "stdout",
     "output_type": "stream",
     "text": [
      "MSE: 308.93797441581313\n",
      "MAE: 7.398610580407414\n",
      "R-squared (R2) Score: 0.5821200024189547\n",
      "MSE: 146.26137842773332\n",
      "MAE: 5.881676832244344\n",
      "R-squared (R2) Score: 0.8021618916251523\n"
     ]
    }
   ],
   "source": [
    "# Initializing input and target features\n",
    "x = feature_set_hourly_ct_subset[['start_census_tract_encoded','hour','week_day','month','is_holiday','poi_count_start','is_special_date']]\n",
    "y = feature_set_hourly_ct_subset['trips']\n",
    "\n",
    "# Split\n",
    "x_train_scaled, y_train, x_test_scaled, y_test = split_and_scale(x, y, test_size=0.3)\n",
    "\n",
    "# Train and evaluate model for standard parameters\n",
    "evaluate(x_train_scaled, y_train, x_test_scaled, y_test, params={})\n",
    "# Train and evaluate model for C=1000\n",
    "evaluate(x_train_scaled, y_train, x_test_scaled, y_test, params={'C':1000})"
   ]
  },
  {
   "cell_type": "code",
   "execution_count": 64,
   "metadata": {
    "colab": {
     "base_uri": "https://localhost:8080/"
    },
    "id": "SKjav9KqFAXt",
    "outputId": "4a24fe4d-330d-4898-9b95-efec05ba8069"
   },
   "outputs": [
    {
     "name": "stdout",
     "output_type": "stream",
     "text": [
      "MSE: 329.99095285507434\n",
      "MAE: 7.55714309025731\n",
      "R-squared (R2) Score: 0.5536430286966141\n",
      "MSE: 148.98432547945123\n",
      "MAE: 5.953757456003969\n",
      "R-squared (R2) Score: 0.7984787409553882\n"
     ]
    }
   ],
   "source": [
    "# Initializing input and target features\n",
    "x = feature_set_hourly_ct_subset[['start_census_tract_encoded','hour','week_day','month','is_holiday','poi_count_start','is_special_date','airport_trip']]\n",
    "y = feature_set_hourly_ct_subset['trips']\n",
    "\n",
    "# Split\n",
    "x_train_scaled, y_train, x_test_scaled, y_test = split_and_scale(x, y, test_size=0.3)\n",
    "\n",
    "# Train and evaluate model for standard parameters\n",
    "evaluate(x_train_scaled, y_train, x_test_scaled, y_test, params={})\n",
    "# Train and evaluate model for C=1000\n",
    "evaluate(x_train_scaled, y_train, x_test_scaled, y_test, params={'C':1000})"
   ]
  },
  {
   "cell_type": "markdown",
   "metadata": {
    "id": "gZ8_jWjWdhnK"
   },
   "source": [
    "Above we tried different combinations of input features. Initially, we started with the standard parameters and did a grid search with 'poly' and 'rbf' as kernels, the regularization parameter C=1, 'scale' and 'auto' as gamma and degree values of 3, 4, and 5. We compare the performances of C=1 and C=1000, as higher values of C indicate the possible performance when starting optimizing the hyperparameters (more on that later). We can see, that the input feature combination \"start_census_tract, hour, week_day, month, poi_count_start\" resulted in the highest performance. Therefore, we will keep using these features as our input features. This was only a start at optimizing the model but is a good indicator for possible performances."
   ]
  },
  {
   "cell_type": "code",
   "execution_count": 65,
   "metadata": {
    "id": "B7vS7tqktO86"
   },
   "outputs": [],
   "source": [
    "input_features_ct = ['start_census_tract_encoded','hour','week_day','month','poi_count_start']\n",
    "input_features_h3_6 = ['h3_hex_6_encoded','hour','week_day','month','poi_count_start']\n",
    "input_features_h3_7 = ['h3_hex_7_encoded','hour','week_day','month','poi_count_start']\n",
    "input_features_h3_8 = ['h3_hex_8_encoded','hour','week_day','month','poi_count_start']"
   ]
  },
  {
   "cell_type": "markdown",
   "metadata": {
    "id": "6QBpLEWEMS6B"
   },
   "source": [
    "Now we will start building the actual prediction models and begin with a grid search."
   ]
  },
  {
   "cell_type": "code",
   "execution_count": 66,
   "metadata": {
    "id": "12D1w3YzDMtz"
   },
   "outputs": [],
   "source": [
    "# Initializing input and target features\n",
    "x = feature_set_hourly_ct_subset[input_features_ct]\n",
    "y = feature_set_hourly_ct_subset['trips']\n",
    "\n",
    "# Split dataset and scale features\n",
    "x_train_scaled, y_train, x_test_scaled, y_test = split_and_scale(x, y, test_size=0.3)"
   ]
  },
  {
   "cell_type": "code",
   "execution_count": 67,
   "metadata": {
    "id": "K4Dtw6710GCz"
   },
   "outputs": [],
   "source": [
    "# Create a list to store metrics for census tract for later comparison\n",
    "svm_metrics_ct = []"
   ]
  },
  {
   "cell_type": "markdown",
   "metadata": {
    "id": "NXQkVT_EM_4n"
   },
   "source": [
    "We want to get a first impression of what hyperparameters might be the right ones to focus on."
   ]
  },
  {
   "cell_type": "code",
   "execution_count": 68,
   "metadata": {
    "id": "9-Ns3ijr_y48"
   },
   "outputs": [],
   "source": [
    "# Define parameters for grid search\n",
    "param_grid = {'kernel':['rbf','poly'], 'C': [1], 'gamma': ['auto','scale'], 'degree':[3,4,5]}"
   ]
  },
  {
   "cell_type": "code",
   "execution_count": 69,
   "metadata": {
    "colab": {
     "base_uri": "https://localhost:8080/"
    },
    "id": "a648I1YjVryw",
    "outputId": "528a9fed-b317-48fd-a466-659c13887e1d"
   },
   "outputs": [
    {
     "name": "stdout",
     "output_type": "stream",
     "text": [
      "Fitting 3 folds for each of 12 candidates, totalling 36 fits\n",
      "[CV] END ..............C=1, degree=3, gamma=auto, kernel=rbf; total time=   2.7s\n",
      "[CV] END ..............C=1, degree=3, gamma=auto, kernel=rbf; total time=   2.7s\n",
      "[CV] END ..............C=1, degree=3, gamma=auto, kernel=rbf; total time=   2.7s\n",
      "[CV] END .............C=1, degree=3, gamma=auto, kernel=poly; total time=   1.9s\n",
      "[CV] END .............C=1, degree=3, gamma=auto, kernel=poly; total time=   1.9s\n",
      "[CV] END .............C=1, degree=3, gamma=auto, kernel=poly; total time=   1.9s\n",
      "[CV] END .............C=1, degree=3, gamma=scale, kernel=rbf; total time=   2.7s\n",
      "[CV] END .............C=1, degree=3, gamma=scale, kernel=rbf; total time=   2.8s\n",
      "[CV] END .............C=1, degree=3, gamma=scale, kernel=rbf; total time=   2.8s\n",
      "[CV] END ............C=1, degree=3, gamma=scale, kernel=poly; total time=   1.9s\n",
      "[CV] END ............C=1, degree=3, gamma=scale, kernel=poly; total time=   1.9s\n",
      "[CV] END ............C=1, degree=3, gamma=scale, kernel=poly; total time=   1.9s\n",
      "[CV] END ..............C=1, degree=4, gamma=auto, kernel=rbf; total time=   2.8s\n",
      "[CV] END ..............C=1, degree=4, gamma=auto, kernel=rbf; total time=   2.8s\n",
      "[CV] END ..............C=1, degree=4, gamma=auto, kernel=rbf; total time=   2.7s\n",
      "[CV] END .............C=1, degree=4, gamma=auto, kernel=poly; total time=   2.0s\n",
      "[CV] END .............C=1, degree=4, gamma=auto, kernel=poly; total time=   2.0s\n",
      "[CV] END .............C=1, degree=4, gamma=auto, kernel=poly; total time=   2.0s\n",
      "[CV] END .............C=1, degree=4, gamma=scale, kernel=rbf; total time=   2.8s\n",
      "[CV] END .............C=1, degree=4, gamma=scale, kernel=rbf; total time=   2.7s\n",
      "[CV] END .............C=1, degree=4, gamma=scale, kernel=rbf; total time=   2.8s\n",
      "[CV] END ............C=1, degree=4, gamma=scale, kernel=poly; total time=   2.0s\n",
      "[CV] END ............C=1, degree=4, gamma=scale, kernel=poly; total time=   2.0s\n",
      "[CV] END ............C=1, degree=4, gamma=scale, kernel=poly; total time=   2.0s\n",
      "[CV] END ..............C=1, degree=5, gamma=auto, kernel=rbf; total time=   2.7s\n",
      "[CV] END ..............C=1, degree=5, gamma=auto, kernel=rbf; total time=   2.8s\n",
      "[CV] END ..............C=1, degree=5, gamma=auto, kernel=rbf; total time=   2.8s\n",
      "[CV] END .............C=1, degree=5, gamma=auto, kernel=poly; total time=   3.0s\n",
      "[CV] END .............C=1, degree=5, gamma=auto, kernel=poly; total time=   3.2s\n",
      "[CV] END .............C=1, degree=5, gamma=auto, kernel=poly; total time=   3.2s\n",
      "[CV] END .............C=1, degree=5, gamma=scale, kernel=rbf; total time=   2.8s\n",
      "[CV] END .............C=1, degree=5, gamma=scale, kernel=rbf; total time=   2.7s\n",
      "[CV] END .............C=1, degree=5, gamma=scale, kernel=rbf; total time=   2.8s\n",
      "[CV] END ............C=1, degree=5, gamma=scale, kernel=poly; total time=   2.8s\n",
      "[CV] END ............C=1, degree=5, gamma=scale, kernel=poly; total time=   3.2s\n",
      "[CV] END ............C=1, degree=5, gamma=scale, kernel=poly; total time=   2.9s\n",
      "Best Parameters:  {'C': 1, 'degree': 3, 'gamma': 'auto', 'kernel': 'rbf'}\n",
      "Best Score:  305.9381423477998\n"
     ]
    }
   ],
   "source": [
    "# Perform grid search\n",
    "grid_search_SVR(x_train_scaled, y_train, 3, param_grid)"
   ]
  },
  {
   "cell_type": "markdown",
   "metadata": {
    "id": "sI3nYwruu5rc"
   },
   "source": [
    "As we can see, the new grid search with the new input features returns the rbf kernel as optimal. We know, that the rbf kernel with high values for C performes way better than the polynomial kernel. The polynomial kernel won't be an option even with optimizing the hyperparameters, as the polynomial kernel is not practical with high values for C (regarding runtime).\n",
    "\n",
    "We will continue with C=1000. C=1000 results in the best performance for C values in the range 1-1000. We will limit it to C=1000 because of the runtime performance and the model performance increase is not significant anymore."
   ]
  },
  {
   "cell_type": "code",
   "execution_count": 70,
   "metadata": {
    "id": "eMMNw8MKoq_C"
   },
   "outputs": [],
   "source": [
    "# Define parameters for grid search\n",
    "param_grid = {'kernel':['rbf'], 'C': [990,1000], 'gamma': ['auto']}"
   ]
  },
  {
   "cell_type": "code",
   "execution_count": 71,
   "metadata": {
    "colab": {
     "base_uri": "https://localhost:8080/"
    },
    "id": "7n1_uIAXozfo",
    "outputId": "6a9900c8-9aab-4e2e-8095-2bfcd2cff182"
   },
   "outputs": [
    {
     "name": "stdout",
     "output_type": "stream",
     "text": [
      "Fitting 3 folds for each of 2 candidates, totalling 6 fits\n",
      "[CV] END ......................C=990, gamma=auto, kernel=rbf; total time=  14.5s\n",
      "[CV] END ......................C=990, gamma=auto, kernel=rbf; total time=  14.3s\n",
      "[CV] END ......................C=990, gamma=auto, kernel=rbf; total time=  14.7s\n",
      "[CV] END .....................C=1000, gamma=auto, kernel=rbf; total time=  16.1s\n",
      "[CV] END .....................C=1000, gamma=auto, kernel=rbf; total time=  15.6s\n",
      "[CV] END .....................C=1000, gamma=auto, kernel=rbf; total time=  15.3s\n",
      "Best Parameters:  {'C': 1000, 'gamma': 'auto', 'kernel': 'rbf'}\n",
      "Best Score:  155.5986507626268\n"
     ]
    }
   ],
   "source": [
    "# Perform grid search\n",
    "grid_search_SVR(x_train_scaled, y_train, 3, param_grid)"
   ]
  },
  {
   "cell_type": "code",
   "execution_count": 72,
   "metadata": {
    "colab": {
     "base_uri": "https://localhost:8080/"
    },
    "id": "Cq4hlvpQFRGO",
    "outputId": "e9386a7c-18d9-4917-a57a-9f22aa610aed"
   },
   "outputs": [
    {
     "name": "stdout",
     "output_type": "stream",
     "text": [
      "MSE: 136.1644635359327\n",
      "MAE: 5.688104272364063\n",
      "R-squared (R2) Score: 0.8158193216595797\n"
     ]
    }
   ],
   "source": [
    "params = {'kernel':'rbf','C': 1000, 'gamma':'auto'}\n",
    "r2 = evaluate_return(x_train_scaled,  y_train, x_test_scaled, y_test, params)\n",
    "svm_metrics_ct.append(r2)"
   ]
  },
  {
   "cell_type": "markdown",
   "metadata": {
    "id": "3bzPsJ7SNm92"
   },
   "source": [
    "From now on, we will repeat the same steps for the other spatio-temporal resolutions."
   ]
  },
  {
   "cell_type": "markdown",
   "metadata": {
    "id": "Uf3D-AN7olO0"
   },
   "source": [
    "#### 2-hourly basis"
   ]
  },
  {
   "cell_type": "code",
   "execution_count": 73,
   "metadata": {
    "id": "VZ7cZbefokzs"
   },
   "outputs": [],
   "source": [
    "# Load census tract feature set\n",
    "feature_set_2hourly_ct = pd.read_pickle('data/feature_set_2hourly_ct.pkl')\n",
    "\n",
    "# Target encoding\n",
    "target_encoding_map = feature_set_2hourly_ct.groupby('start_census_tract')['trips'].mean().to_dict()\n",
    "feature_set_2hourly_ct['start_census_tract_encoded'] = feature_set_2hourly_ct['start_census_tract'].map(target_encoding_map)\n",
    "\n",
    "# Subset for SVM\n",
    "feature_set_2hourly_ct_subset = feature_set_2hourly_ct.sample(n=20000, random_state=42)"
   ]
  },
  {
   "cell_type": "code",
   "execution_count": 74,
   "metadata": {
    "id": "8f8zNeOfo016"
   },
   "outputs": [],
   "source": [
    "# Initializing input and target features\n",
    "x = feature_set_2hourly_ct_subset[input_features_ct]\n",
    "y = feature_set_2hourly_ct_subset['trips']\n",
    "\n",
    "# Split dataset and scale features\n",
    "x_train_scaled, y_train, x_test_scaled, y_test = split_and_scale(x, y, test_size=0.3)"
   ]
  },
  {
   "cell_type": "markdown",
   "metadata": {
    "id": "V6DuiyGhN1VE"
   },
   "source": [
    "We will always check if C=1000 still leads to the highest performance for C in the range of 1-1000."
   ]
  },
  {
   "cell_type": "code",
   "execution_count": 75,
   "metadata": {
    "id": "WQfyz3jI2c8P"
   },
   "outputs": [],
   "source": [
    "# Define parameters for grid search\n",
    "param_grid = {'kernel':['rbf'], 'C': [990,1000], 'gamma': ['auto']}"
   ]
  },
  {
   "cell_type": "code",
   "execution_count": 76,
   "metadata": {
    "colab": {
     "base_uri": "https://localhost:8080/"
    },
    "id": "I-zPcjQopK9-",
    "outputId": "f2c36d22-938a-476d-f950-68a0a06d94fb"
   },
   "outputs": [
    {
     "name": "stdout",
     "output_type": "stream",
     "text": [
      "Fitting 3 folds for each of 2 candidates, totalling 6 fits\n",
      "[CV] END ......................C=990, gamma=auto, kernel=rbf; total time=  12.0s\n",
      "[CV] END ......................C=990, gamma=auto, kernel=rbf; total time=  12.6s\n",
      "[CV] END ......................C=990, gamma=auto, kernel=rbf; total time=  12.4s\n",
      "[CV] END .....................C=1000, gamma=auto, kernel=rbf; total time=  12.7s\n",
      "[CV] END .....................C=1000, gamma=auto, kernel=rbf; total time=  11.9s\n",
      "[CV] END .....................C=1000, gamma=auto, kernel=rbf; total time=  11.4s\n",
      "Best Parameters:  {'C': 1000, 'gamma': 'auto', 'kernel': 'rbf'}\n",
      "Best Score:  510.1864343248339\n"
     ]
    }
   ],
   "source": [
    "# Perform grid search\n",
    "grid_search_SVR(x_train_scaled, y_train, 3, param_grid) # Same grid search parameters as before"
   ]
  },
  {
   "cell_type": "code",
   "execution_count": 77,
   "metadata": {
    "colab": {
     "base_uri": "https://localhost:8080/"
    },
    "id": "xg1UCCE2qpWp",
    "outputId": "68fa4aa7-9d8b-4414-a103-99d4c0311eb2"
   },
   "outputs": [
    {
     "name": "stdout",
     "output_type": "stream",
     "text": [
      "MSE: 440.0419485056896\n",
      "MAE: 9.081438100260224\n",
      "R-squared (R2) Score: 0.8444355830691945\n"
     ]
    }
   ],
   "source": [
    "params = {'kernel':'rbf', 'C': 1000, 'gamma':'auto'}\n",
    "r2 = evaluate_return(x_train_scaled,  y_train, x_test_scaled, y_test, params)\n",
    "svm_metrics_ct.append(r2)"
   ]
  },
  {
   "cell_type": "markdown",
   "metadata": {
    "id": "m53MvGSYq2fA"
   },
   "source": [
    "#### 6-hourly basis"
   ]
  },
  {
   "cell_type": "code",
   "execution_count": 78,
   "metadata": {
    "id": "2miPZk3Cq4eK"
   },
   "outputs": [],
   "source": [
    "# Load census tract feature set\n",
    "feature_set_6hourly_ct = pd.read_pickle('data/feature_set_6hourly_ct.pkl')\n",
    "\n",
    "# Target encoding\n",
    "target_encoding_map = feature_set_6hourly_ct.groupby('start_census_tract')['trips'].mean().to_dict()\n",
    "feature_set_6hourly_ct['start_census_tract_encoded'] = feature_set_6hourly_ct['start_census_tract'].map(target_encoding_map)\n",
    "\n",
    "# Subset for SVM\n",
    "feature_set_6hourly_ct_subset = feature_set_6hourly_ct.sample(n=20000, random_state=42)"
   ]
  },
  {
   "cell_type": "code",
   "execution_count": 79,
   "metadata": {
    "id": "Lxleezltq__R"
   },
   "outputs": [],
   "source": [
    "# Initializing input and target features\n",
    "x = feature_set_6hourly_ct_subset[input_features_ct]\n",
    "y = feature_set_6hourly_ct_subset['trips']\n",
    "\n",
    "# Split dataset and scale features\n",
    "x_train_scaled, y_train, x_test_scaled, y_test = split_and_scale(x, y, test_size=0.3)"
   ]
  },
  {
   "cell_type": "code",
   "execution_count": 80,
   "metadata": {
    "id": "kCjQfJBu24J5"
   },
   "outputs": [],
   "source": [
    "# Define parameters for grid search\n",
    "param_grid = {'kernel':['rbf'], 'C': [990,1000], 'gamma': ['auto']}"
   ]
  },
  {
   "cell_type": "code",
   "execution_count": 81,
   "metadata": {
    "colab": {
     "base_uri": "https://localhost:8080/"
    },
    "id": "bXt8fBQYrLge",
    "outputId": "4e9bf860-b363-4728-f975-6f62d069634b"
   },
   "outputs": [
    {
     "name": "stdout",
     "output_type": "stream",
     "text": [
      "Fitting 3 folds for each of 2 candidates, totalling 6 fits\n",
      "[CV] END ......................C=990, gamma=auto, kernel=rbf; total time=   7.4s\n",
      "[CV] END ......................C=990, gamma=auto, kernel=rbf; total time=   8.4s\n",
      "[CV] END ......................C=990, gamma=auto, kernel=rbf; total time=   7.6s\n",
      "[CV] END .....................C=1000, gamma=auto, kernel=rbf; total time=   8.1s\n",
      "[CV] END .....................C=1000, gamma=auto, kernel=rbf; total time=   8.5s\n",
      "[CV] END .....................C=1000, gamma=auto, kernel=rbf; total time=   7.3s\n",
      "Best Parameters:  {'C': 1000, 'gamma': 'auto', 'kernel': 'rbf'}\n",
      "Best Score:  1886.513573144932\n"
     ]
    }
   ],
   "source": [
    "# Perform grid search\n",
    "grid_search_SVR(x_train_scaled, y_train, 3, param_grid) # Same grid search parameters as before"
   ]
  },
  {
   "cell_type": "code",
   "execution_count": 82,
   "metadata": {
    "colab": {
     "base_uri": "https://localhost:8080/"
    },
    "id": "fz4ugufZrOEY",
    "outputId": "7697a11b-6598-430c-8535-1c1e02391cd0"
   },
   "outputs": [
    {
     "name": "stdout",
     "output_type": "stream",
     "text": [
      "MSE: 1905.7759267706176\n",
      "MAE: 17.380182480184214\n",
      "R-squared (R2) Score: 0.8634995885721118\n"
     ]
    }
   ],
   "source": [
    "params = {'kernel':'rbf','C': 1000, 'gamma':'auto'}\n",
    "r2 = evaluate_return(x_train_scaled,  y_train, x_test_scaled, y_test, params)\n",
    "svm_metrics_ct.append(r2)"
   ]
  },
  {
   "cell_type": "markdown",
   "metadata": {
    "id": "xc3rCNPpreCC"
   },
   "source": [
    "#### Daily basis"
   ]
  },
  {
   "cell_type": "code",
   "execution_count": 178,
   "metadata": {
    "id": "Yt_JCru7rhxD"
   },
   "outputs": [],
   "source": [
    "# Load census tract feature set\n",
    "feature_set_daily_ct = pd.read_pickle('data/feature_set_daily_ct.pkl')\n",
    "\n",
    "# Target encoding\n",
    "target_encoding_map = feature_set_daily_ct.groupby('start_census_tract')['trips'].mean().to_dict()\n",
    "feature_set_daily_ct['start_census_tract_encoded'] = feature_set_daily_ct['start_census_tract'].map(target_encoding_map)\n",
    "\n",
    "# Day columns has to be converted to the day of year (0-364)\n",
    "feature_set_daily_ct['day'] = feature_set_daily_ct['day'].dt.day_of_year\n",
    "\n",
    "# Subset for SVM\n",
    "feature_set_daily_ct_subset = feature_set_daily_ct.sample(n=20000, random_state=42)"
   ]
  },
  {
   "cell_type": "code",
   "execution_count": 85,
   "metadata": {},
   "outputs": [],
   "source": [
    "input_features_ct_daily = ['start_census_tract_encoded','day','week_day','month','poi_count_start']\n",
    "input_features_h3_6_daily = ['h3_hex_6_encoded','day','week_day','month','poi_count_start']\n",
    "input_features_h3_7_daily = ['h3_hex_7_encoded','day','week_day','month','poi_count_start']\n",
    "input_features_h3_8_daily = ['h3_hex_8_encoded','day','week_day','month','poi_count_start']"
   ]
  },
  {
   "cell_type": "code",
   "execution_count": 86,
   "metadata": {
    "id": "1ROTYL7irzZM"
   },
   "outputs": [],
   "source": [
    "# initializing input and target features\n",
    "x = feature_set_daily_ct_subset[input_features_ct_daily]\n",
    "y = feature_set_daily_ct_subset['trips']\n",
    "\n",
    "# Split dataset and scale features\n",
    "x_train_scaled, y_train, x_test_scaled, y_test = split_and_scale(x, y, test_size=0.3)"
   ]
  },
  {
   "cell_type": "code",
   "execution_count": 87,
   "metadata": {
    "id": "BVYgAIBX3QON"
   },
   "outputs": [],
   "source": [
    "# Define parameters for grid search\n",
    "param_grid = {'kernel':['rbf'], 'C': [990,1000], 'gamma': ['auto']}"
   ]
  },
  {
   "cell_type": "code",
   "execution_count": 88,
   "metadata": {
    "colab": {
     "base_uri": "https://localhost:8080/"
    },
    "id": "uMsqN8Tus-j4",
    "outputId": "838cfdef-ce87-4461-b7c7-5f5a53a21a3a"
   },
   "outputs": [
    {
     "name": "stdout",
     "output_type": "stream",
     "text": [
      "Fitting 3 folds for each of 2 candidates, totalling 6 fits\n",
      "[CV] END ......................C=990, gamma=auto, kernel=rbf; total time=   4.9s\n",
      "[CV] END ......................C=990, gamma=auto, kernel=rbf; total time=   4.8s\n",
      "[CV] END ......................C=990, gamma=auto, kernel=rbf; total time=   4.6s\n",
      "[CV] END .....................C=1000, gamma=auto, kernel=rbf; total time=   4.8s\n",
      "[CV] END .....................C=1000, gamma=auto, kernel=rbf; total time=   4.9s\n",
      "[CV] END .....................C=1000, gamma=auto, kernel=rbf; total time=   4.6s\n",
      "Best Parameters:  {'C': 1000, 'gamma': 'auto', 'kernel': 'rbf'}\n",
      "Best Score:  9261.62335022374\n"
     ]
    }
   ],
   "source": [
    "# Perform grid search\n",
    "grid_search_SVR(x_train_scaled, y_train, 3, param_grid) # Same grid search parameters as before"
   ]
  },
  {
   "cell_type": "code",
   "execution_count": 89,
   "metadata": {
    "colab": {
     "base_uri": "https://localhost:8080/"
    },
    "id": "iEeyBSM6tANR",
    "outputId": "13a0c801-1be5-485b-bffd-e219797b17d7"
   },
   "outputs": [
    {
     "name": "stdout",
     "output_type": "stream",
     "text": [
      "MSE: 8512.827937897551\n",
      "MAE: 31.441075724419168\n",
      "R-squared (R2) Score: 0.9272965178264522\n"
     ]
    }
   ],
   "source": [
    "params = {'kernel':'rbf', 'C': 1000, 'gamma':'auto'}\n",
    "r2 = evaluate_return(x_train_scaled,  y_train, x_test_scaled, y_test, params)\n",
    "svm_metrics_ct.append(r2)"
   ]
  },
  {
   "cell_type": "markdown",
   "metadata": {
    "id": "dFCI8pZHWqE_"
   },
   "source": [
    "### H3 Feature Sets"
   ]
  },
  {
   "cell_type": "markdown",
   "metadata": {
    "id": "xfAJW3Y4tVMn"
   },
   "source": [
    "#### Hourly basis"
   ]
  },
  {
   "cell_type": "code",
   "execution_count": 90,
   "metadata": {
    "id": "wRBgwZnsrFcR"
   },
   "outputs": [],
   "source": [
    "# Load h3 feature sets\n",
    "feature_set_hourly_h3_6 = pd.read_pickle('data/feature_set_hourly_h3_6.pkl')\n",
    "feature_set_hourly_h3_7 = pd.read_pickle('data/feature_set_hourly_h3_7.pkl')\n",
    "feature_set_hourly_h3_8 = pd.read_pickle('data/feature_set_hourly_h3_8.pkl')"
   ]
  },
  {
   "cell_type": "code",
   "execution_count": 91,
   "metadata": {
    "colab": {
     "base_uri": "https://localhost:8080/",
     "height": 206
    },
    "id": "OBKuBlWRDvu4",
    "outputId": "0e16abe7-6e24-48ff-ea4c-d2b316645c66"
   },
   "outputs": [
    {
     "data": {
      "text/html": [
       "<div>\n",
       "<style scoped>\n",
       "    .dataframe tbody tr th:only-of-type {\n",
       "        vertical-align: middle;\n",
       "    }\n",
       "\n",
       "    .dataframe tbody tr th {\n",
       "        vertical-align: top;\n",
       "    }\n",
       "\n",
       "    .dataframe thead th {\n",
       "        text-align: right;\n",
       "    }\n",
       "</style>\n",
       "<table border=\"1\" class=\"dataframe\">\n",
       "  <thead>\n",
       "    <tr style=\"text-align: right;\">\n",
       "      <th></th>\n",
       "      <th>h3_hex_6</th>\n",
       "      <th>day</th>\n",
       "      <th>hour</th>\n",
       "      <th>week_day</th>\n",
       "      <th>month</th>\n",
       "      <th>poi_count_start</th>\n",
       "      <th>airport_trip</th>\n",
       "      <th>is_holiday</th>\n",
       "      <th>is_special_date</th>\n",
       "      <th>trips</th>\n",
       "      <th>temperature</th>\n",
       "      <th>precip</th>\n",
       "      <th>h3_hex_6_encoded</th>\n",
       "    </tr>\n",
       "  </thead>\n",
       "  <tbody>\n",
       "    <tr>\n",
       "      <th>0</th>\n",
       "      <td>862664527ffffff</td>\n",
       "      <td>2013-01-01</td>\n",
       "      <td>10</td>\n",
       "      <td>1</td>\n",
       "      <td>1</td>\n",
       "      <td>1.0</td>\n",
       "      <td>1</td>\n",
       "      <td>1</td>\n",
       "      <td>0</td>\n",
       "      <td>1</td>\n",
       "      <td>1.0</td>\n",
       "      <td>0</td>\n",
       "      <td>10.078716</td>\n",
       "    </tr>\n",
       "    <tr>\n",
       "      <th>1</th>\n",
       "      <td>862664527ffffff</td>\n",
       "      <td>2013-01-01</td>\n",
       "      <td>11</td>\n",
       "      <td>1</td>\n",
       "      <td>1</td>\n",
       "      <td>1.0</td>\n",
       "      <td>1</td>\n",
       "      <td>1</td>\n",
       "      <td>0</td>\n",
       "      <td>3</td>\n",
       "      <td>1.0</td>\n",
       "      <td>0</td>\n",
       "      <td>10.078716</td>\n",
       "    </tr>\n",
       "    <tr>\n",
       "      <th>2</th>\n",
       "      <td>862664527ffffff</td>\n",
       "      <td>2013-01-01</td>\n",
       "      <td>12</td>\n",
       "      <td>1</td>\n",
       "      <td>1</td>\n",
       "      <td>1.0</td>\n",
       "      <td>1</td>\n",
       "      <td>1</td>\n",
       "      <td>0</td>\n",
       "      <td>4</td>\n",
       "      <td>1.0</td>\n",
       "      <td>0</td>\n",
       "      <td>10.078716</td>\n",
       "    </tr>\n",
       "    <tr>\n",
       "      <th>3</th>\n",
       "      <td>862664527ffffff</td>\n",
       "      <td>2013-01-01</td>\n",
       "      <td>13</td>\n",
       "      <td>1</td>\n",
       "      <td>1</td>\n",
       "      <td>1.0</td>\n",
       "      <td>1</td>\n",
       "      <td>1</td>\n",
       "      <td>0</td>\n",
       "      <td>5</td>\n",
       "      <td>1.0</td>\n",
       "      <td>0</td>\n",
       "      <td>10.078716</td>\n",
       "    </tr>\n",
       "    <tr>\n",
       "      <th>4</th>\n",
       "      <td>862664527ffffff</td>\n",
       "      <td>2013-01-01</td>\n",
       "      <td>14</td>\n",
       "      <td>1</td>\n",
       "      <td>1</td>\n",
       "      <td>1.0</td>\n",
       "      <td>1</td>\n",
       "      <td>1</td>\n",
       "      <td>0</td>\n",
       "      <td>3</td>\n",
       "      <td>1.0</td>\n",
       "      <td>0</td>\n",
       "      <td>10.078716</td>\n",
       "    </tr>\n",
       "  </tbody>\n",
       "</table>\n",
       "</div>"
      ],
      "text/plain": [
       "          h3_hex_6        day  hour  week_day  month  poi_count_start  \\\n",
       "0  862664527ffffff 2013-01-01    10         1      1              1.0   \n",
       "1  862664527ffffff 2013-01-01    11         1      1              1.0   \n",
       "2  862664527ffffff 2013-01-01    12         1      1              1.0   \n",
       "3  862664527ffffff 2013-01-01    13         1      1              1.0   \n",
       "4  862664527ffffff 2013-01-01    14         1      1              1.0   \n",
       "\n",
       "   airport_trip  is_holiday  is_special_date  trips  temperature precip  \\\n",
       "0             1           1                0      1          1.0      0   \n",
       "1             1           1                0      3          1.0      0   \n",
       "2             1           1                0      4          1.0      0   \n",
       "3             1           1                0      5          1.0      0   \n",
       "4             1           1                0      3          1.0      0   \n",
       "\n",
       "   h3_hex_6_encoded  \n",
       "0         10.078716  \n",
       "1         10.078716  \n",
       "2         10.078716  \n",
       "3         10.078716  \n",
       "4         10.078716  "
      ]
     },
     "execution_count": 91,
     "metadata": {},
     "output_type": "execute_result"
    }
   ],
   "source": [
    "# Target encoding\n",
    "target_encoding_map = feature_set_hourly_h3_6.groupby('h3_hex_6')['trips'].mean().to_dict()\n",
    "feature_set_hourly_h3_6['h3_hex_6_encoded'] = feature_set_hourly_h3_6['h3_hex_6'].map(target_encoding_map)\n",
    "\n",
    "target_encoding_map = feature_set_hourly_h3_7.groupby('h3_hex_7')['trips'].mean().to_dict()\n",
    "feature_set_hourly_h3_7['h3_hex_7_encoded'] = feature_set_hourly_h3_7['h3_hex_7'].map(target_encoding_map)\n",
    "\n",
    "target_encoding_map = feature_set_hourly_h3_8.groupby('h3_hex_8')['trips'].mean().to_dict()\n",
    "feature_set_hourly_h3_8['h3_hex_8_encoded'] = feature_set_hourly_h3_8['h3_hex_8'].map(target_encoding_map)\n",
    "\n",
    "feature_set_hourly_h3_6.head()"
   ]
  },
  {
   "cell_type": "code",
   "execution_count": 92,
   "metadata": {
    "id": "SKIzZg7h19fA"
   },
   "outputs": [],
   "source": [
    "# Subsets for SVM\n",
    "feature_set_hourly_h3_6_subset = feature_set_hourly_h3_6.sample(n=20000, random_state=42)\n",
    "feature_set_hourly_h3_7_subset = feature_set_hourly_h3_7.sample(n=20000, random_state=42)\n",
    "feature_set_hourly_h3_8_subset = feature_set_hourly_h3_8.sample(n=20000, random_state=42)"
   ]
  },
  {
   "cell_type": "code",
   "execution_count": 93,
   "metadata": {
    "id": "ilC0Gt8w49iq"
   },
   "outputs": [],
   "source": [
    "# Initialize the remaining lists that will store the metrics\n",
    "svm_metrics_h3_6 = []\n",
    "svm_metrics_h3_7 = []\n",
    "svm_metrics_h3_8 = []"
   ]
  },
  {
   "cell_type": "markdown",
   "metadata": {
    "id": "BQ45AItAbpSe"
   },
   "source": [
    "Hourly h3 subset (res=6):"
   ]
  },
  {
   "cell_type": "code",
   "execution_count": 94,
   "metadata": {
    "id": "jEoKSPQerr5f"
   },
   "outputs": [],
   "source": [
    "# Initializing input and target features\n",
    "x = feature_set_hourly_h3_6_subset[input_features_h3_6]\n",
    "y = feature_set_hourly_h3_6_subset['trips']\n",
    "\n",
    "# Split dataset and scale features\n",
    "x_train_scaled, y_train, x_test_scaled, y_test = split_and_scale(x, y, test_size=0.3)"
   ]
  },
  {
   "cell_type": "code",
   "execution_count": 95,
   "metadata": {
    "id": "cEui5l2GzB1y"
   },
   "outputs": [],
   "source": [
    "# Define parameters for grid search\n",
    "param_grid = {'kernel':['rbf','poly'], 'C': [1], 'gamma': ['auto','scale'], 'degree':[3,4,5]}"
   ]
  },
  {
   "cell_type": "code",
   "execution_count": 96,
   "metadata": {
    "colab": {
     "base_uri": "https://localhost:8080/"
    },
    "id": "ddYdSS3Mxiqv",
    "outputId": "5dc19fe8-8dd1-4fdd-b651-c56e9dab9353"
   },
   "outputs": [
    {
     "name": "stdout",
     "output_type": "stream",
     "text": [
      "Fitting 3 folds for each of 12 candidates, totalling 36 fits\n",
      "[CV] END ..............C=1, degree=3, gamma=auto, kernel=rbf; total time=   2.8s\n",
      "[CV] END ..............C=1, degree=3, gamma=auto, kernel=rbf; total time=   2.8s\n",
      "[CV] END ..............C=1, degree=3, gamma=auto, kernel=rbf; total time=   2.8s\n",
      "[CV] END .............C=1, degree=3, gamma=auto, kernel=poly; total time=   1.8s\n",
      "[CV] END .............C=1, degree=3, gamma=auto, kernel=poly; total time=   1.8s\n",
      "[CV] END .............C=1, degree=3, gamma=auto, kernel=poly; total time=   1.8s\n",
      "[CV] END .............C=1, degree=3, gamma=scale, kernel=rbf; total time=   2.8s\n",
      "[CV] END .............C=1, degree=3, gamma=scale, kernel=rbf; total time=   2.8s\n",
      "[CV] END .............C=1, degree=3, gamma=scale, kernel=rbf; total time=   2.8s\n",
      "[CV] END ............C=1, degree=3, gamma=scale, kernel=poly; total time=   1.8s\n",
      "[CV] END ............C=1, degree=3, gamma=scale, kernel=poly; total time=   1.8s\n",
      "[CV] END ............C=1, degree=3, gamma=scale, kernel=poly; total time=   1.8s\n",
      "[CV] END ..............C=1, degree=4, gamma=auto, kernel=rbf; total time=   2.8s\n",
      "[CV] END ..............C=1, degree=4, gamma=auto, kernel=rbf; total time=   2.8s\n",
      "[CV] END ..............C=1, degree=4, gamma=auto, kernel=rbf; total time=   2.8s\n",
      "[CV] END .............C=1, degree=4, gamma=auto, kernel=poly; total time=   1.8s\n",
      "[CV] END .............C=1, degree=4, gamma=auto, kernel=poly; total time=   1.8s\n",
      "[CV] END .............C=1, degree=4, gamma=auto, kernel=poly; total time=   1.8s\n",
      "[CV] END .............C=1, degree=4, gamma=scale, kernel=rbf; total time=   2.8s\n",
      "[CV] END .............C=1, degree=4, gamma=scale, kernel=rbf; total time=   2.8s\n",
      "[CV] END .............C=1, degree=4, gamma=scale, kernel=rbf; total time=   2.8s\n",
      "[CV] END ............C=1, degree=4, gamma=scale, kernel=poly; total time=   1.8s\n",
      "[CV] END ............C=1, degree=4, gamma=scale, kernel=poly; total time=   1.8s\n",
      "[CV] END ............C=1, degree=4, gamma=scale, kernel=poly; total time=   1.8s\n",
      "[CV] END ..............C=1, degree=5, gamma=auto, kernel=rbf; total time=   2.8s\n",
      "[CV] END ..............C=1, degree=5, gamma=auto, kernel=rbf; total time=   2.8s\n",
      "[CV] END ..............C=1, degree=5, gamma=auto, kernel=rbf; total time=   2.8s\n",
      "[CV] END .............C=1, degree=5, gamma=auto, kernel=poly; total time=   1.9s\n",
      "[CV] END .............C=1, degree=5, gamma=auto, kernel=poly; total time=   1.9s\n",
      "[CV] END .............C=1, degree=5, gamma=auto, kernel=poly; total time=   1.9s\n",
      "[CV] END .............C=1, degree=5, gamma=scale, kernel=rbf; total time=   2.8s\n",
      "[CV] END .............C=1, degree=5, gamma=scale, kernel=rbf; total time=   2.8s\n",
      "[CV] END .............C=1, degree=5, gamma=scale, kernel=rbf; total time=   2.8s\n",
      "[CV] END ............C=1, degree=5, gamma=scale, kernel=poly; total time=   1.9s\n",
      "[CV] END ............C=1, degree=5, gamma=scale, kernel=poly; total time=   1.9s\n",
      "[CV] END ............C=1, degree=5, gamma=scale, kernel=poly; total time=   1.9s\n",
      "Best Parameters:  {'C': 1, 'degree': 3, 'gamma': 'auto', 'kernel': 'rbf'}\n",
      "Best Score:  54393.18736670775\n"
     ]
    }
   ],
   "source": [
    "# Perform grid search\n",
    "grid_search_SVR(x_train_scaled, y_train, 3, param_grid)"
   ]
  },
  {
   "cell_type": "markdown",
   "metadata": {
    "id": "QP1OPwjfZ1-w"
   },
   "source": [
    "Here we observe the same results as before. "
   ]
  },
  {
   "cell_type": "code",
   "execution_count": 97,
   "metadata": {
    "id": "ZT9Jeo9aaatr"
   },
   "outputs": [],
   "source": [
    "# Define parameters for grid search\n",
    "param_grid = {'kernel':['rbf'], 'C': [990,1000], 'gamma': ['auto']}"
   ]
  },
  {
   "cell_type": "markdown",
   "metadata": {
    "id": "pHABZjglanox"
   },
   "source": [
    "Now we want to check, if C=1000 results in the maximum performance compared to lower values for C, as done for the first part above."
   ]
  },
  {
   "cell_type": "code",
   "execution_count": 98,
   "metadata": {
    "colab": {
     "base_uri": "https://localhost:8080/"
    },
    "id": "Ke4rkHKmahPg",
    "outputId": "cbc4db0f-ec55-4bee-ab26-8c5fdcfb00f2"
   },
   "outputs": [
    {
     "name": "stdout",
     "output_type": "stream",
     "text": [
      "Fitting 3 folds for each of 2 candidates, totalling 6 fits\n",
      "[CV] END ......................C=990, gamma=auto, kernel=rbf; total time=   4.1s\n",
      "[CV] END ......................C=990, gamma=auto, kernel=rbf; total time=   4.2s\n",
      "[CV] END ......................C=990, gamma=auto, kernel=rbf; total time=   4.4s\n",
      "[CV] END .....................C=1000, gamma=auto, kernel=rbf; total time=   4.2s\n",
      "[CV] END .....................C=1000, gamma=auto, kernel=rbf; total time=   4.0s\n",
      "[CV] END .....................C=1000, gamma=auto, kernel=rbf; total time=   4.1s\n",
      "Best Parameters:  {'C': 1000, 'gamma': 'auto', 'kernel': 'rbf'}\n",
      "Best Score:  21177.101551541036\n"
     ]
    }
   ],
   "source": [
    "# Perform grid search\n",
    "grid_search_SVR(x_train_scaled, y_train, 3, param_grid)"
   ]
  },
  {
   "cell_type": "code",
   "execution_count": 99,
   "metadata": {
    "colab": {
     "base_uri": "https://localhost:8080/"
    },
    "id": "FxQc3FlsbRZY",
    "outputId": "693ea18f-463c-498d-aae9-3b6c242530cb"
   },
   "outputs": [
    {
     "name": "stdout",
     "output_type": "stream",
     "text": [
      "MSE: 19484.426618389596\n",
      "MAE: 84.29984430768302\n",
      "R-squared (R2) Score: 0.8549866629134746\n"
     ]
    }
   ],
   "source": [
    "# Test set performance\n",
    "params = {'kernel':'rbf', 'C': 1000,'gamma':'auto'}\n",
    "r2 = evaluate_return(x_train_scaled, y_train, x_test_scaled, y_test, params)\n",
    "svm_metrics_h3_6.append(r2)"
   ]
  },
  {
   "cell_type": "markdown",
   "metadata": {
    "id": "s84kPQ-bbvYs"
   },
   "source": [
    "Hourly h3 subset (res=7):"
   ]
  },
  {
   "cell_type": "code",
   "execution_count": 100,
   "metadata": {
    "id": "dcdRAs5oG1m3"
   },
   "outputs": [],
   "source": [
    "# Initializing input and target features\n",
    "x = feature_set_hourly_h3_7_subset[input_features_h3_7]\n",
    "y = feature_set_hourly_h3_7_subset['trips']\n",
    "\n",
    "# Split dataset and scale features\n",
    "x_train_scaled, y_train, x_test_scaled, y_test = split_and_scale(x, y, test_size=0.3)"
   ]
  },
  {
   "cell_type": "code",
   "execution_count": 101,
   "metadata": {
    "id": "lOG4od1Ided8"
   },
   "outputs": [],
   "source": [
    "# Define parameters for grid search\n",
    "param_grid = {'kernel':['rbf'], 'C': [990,1000], 'gamma': ['auto']}"
   ]
  },
  {
   "cell_type": "code",
   "execution_count": 102,
   "metadata": {
    "colab": {
     "base_uri": "https://localhost:8080/"
    },
    "id": "JgsCVAajdorT",
    "outputId": "0f3e132c-7dfd-4786-eec9-c7a5c2588620"
   },
   "outputs": [
    {
     "name": "stdout",
     "output_type": "stream",
     "text": [
      "Fitting 3 folds for each of 2 candidates, totalling 6 fits\n",
      "[CV] END ......................C=990, gamma=auto, kernel=rbf; total time=   5.5s\n",
      "[CV] END ......................C=990, gamma=auto, kernel=rbf; total time=   5.7s\n",
      "[CV] END ......................C=990, gamma=auto, kernel=rbf; total time=   5.9s\n",
      "[CV] END .....................C=1000, gamma=auto, kernel=rbf; total time=   5.6s\n",
      "[CV] END .....................C=1000, gamma=auto, kernel=rbf; total time=   5.6s\n",
      "[CV] END .....................C=1000, gamma=auto, kernel=rbf; total time=   5.3s\n",
      "Best Parameters:  {'C': 1000, 'gamma': 'auto', 'kernel': 'rbf'}\n",
      "Best Score:  5133.6409828154365\n"
     ]
    }
   ],
   "source": [
    "# Perform grid search\n",
    "grid_search_SVR(x_train_scaled, y_train, 3, param_grid)"
   ]
  },
  {
   "cell_type": "code",
   "execution_count": 103,
   "metadata": {
    "colab": {
     "base_uri": "https://localhost:8080/"
    },
    "id": "m7ap22EydxnP",
    "outputId": "cdb8b26a-48f2-406a-f383-2653bf8f158e"
   },
   "outputs": [
    {
     "name": "stdout",
     "output_type": "stream",
     "text": [
      "MSE: 5086.551081504369\n",
      "MAE: 39.537785479552504\n",
      "R-squared (R2) Score: 0.8665048671877817\n"
     ]
    }
   ],
   "source": [
    "# Test set performance\n",
    "params = {'kernel':'rbf', 'C': 1000,'gamma':'auto'}\n",
    "r2 = evaluate_return(x_train_scaled, y_train, x_test_scaled, y_test, params)\n",
    "svm_metrics_h3_7.append(r2)"
   ]
  },
  {
   "cell_type": "markdown",
   "metadata": {
    "id": "S5PzDmktdr7R"
   },
   "source": [
    "Hourly h3 subset (res=8):"
   ]
  },
  {
   "cell_type": "code",
   "execution_count": 104,
   "metadata": {
    "id": "0w9ZhTP8Htmn"
   },
   "outputs": [],
   "source": [
    "# Initializing input and target features\n",
    "x = feature_set_hourly_h3_8_subset[input_features_h3_8]\n",
    "y = feature_set_hourly_h3_8_subset['trips']\n",
    "\n",
    "# Split dataset and scale features\n",
    "x_train_scaled, y_train, x_test_scaled, y_test = split_and_scale(x, y, test_size=0.3)"
   ]
  },
  {
   "cell_type": "code",
   "execution_count": 105,
   "metadata": {
    "id": "BvGVV5uBfRRG"
   },
   "outputs": [],
   "source": [
    "# Define parameters for grid search\n",
    "param_grid = {'kernel':['rbf'], 'C': [990,1000], 'gamma': ['auto']}"
   ]
  },
  {
   "cell_type": "code",
   "execution_count": 106,
   "metadata": {
    "colab": {
     "base_uri": "https://localhost:8080/"
    },
    "id": "h_ZJAzOkxnCp",
    "outputId": "4910b684-3b00-4831-9291-729a0364dc34"
   },
   "outputs": [
    {
     "name": "stdout",
     "output_type": "stream",
     "text": [
      "Fitting 3 folds for each of 2 candidates, totalling 6 fits\n",
      "[CV] END ......................C=990, gamma=auto, kernel=rbf; total time=  11.9s\n",
      "[CV] END ......................C=990, gamma=auto, kernel=rbf; total time=  12.1s\n",
      "[CV] END ......................C=990, gamma=auto, kernel=rbf; total time=  11.3s\n",
      "[CV] END .....................C=1000, gamma=auto, kernel=rbf; total time=  12.8s\n",
      "[CV] END .....................C=1000, gamma=auto, kernel=rbf; total time=  13.0s\n",
      "[CV] END .....................C=1000, gamma=auto, kernel=rbf; total time=  12.9s\n",
      "Best Parameters:  {'C': 1000, 'gamma': 'auto', 'kernel': 'rbf'}\n",
      "Best Score:  367.51212946708915\n"
     ]
    }
   ],
   "source": [
    "# Perform grid search\n",
    "grid_search_SVR(x_train_scaled, y_train, 3, param_grid)"
   ]
  },
  {
   "cell_type": "code",
   "execution_count": 107,
   "metadata": {
    "colab": {
     "base_uri": "https://localhost:8080/"
    },
    "id": "QFFMOedXHwHq",
    "outputId": "2f51b5cc-62dc-4876-8a48-f1c21faf0f85",
    "scrolled": true
   },
   "outputs": [
    {
     "name": "stdout",
     "output_type": "stream",
     "text": [
      "MSE: 330.7782575105046\n",
      "MAE: 9.643036862379214\n",
      "R-squared (R2) Score: 0.8290951325554159\n"
     ]
    }
   ],
   "source": [
    "# Test set performance\n",
    "params = {'kernel':'rbf', 'C': 1000,'gamma':'auto'}\n",
    "r2 = evaluate_return(x_train_scaled, y_train, x_test_scaled, y_test, params)\n",
    "svm_metrics_h3_8.append(r2)"
   ]
  },
  {
   "cell_type": "code",
   "execution_count": 108,
   "metadata": {},
   "outputs": [
    {
     "data": {
      "text/plain": [
       "48"
      ]
     },
     "execution_count": 108,
     "metadata": {},
     "output_type": "execute_result"
    }
   ],
   "source": [
    "gc.collect()"
   ]
  },
  {
   "cell_type": "markdown",
   "metadata": {
    "id": "QOFIwfl4tndC"
   },
   "source": [
    "#### 2-hourly basis"
   ]
  },
  {
   "cell_type": "code",
   "execution_count": 109,
   "metadata": {
    "id": "3TmrSmOUtpqR"
   },
   "outputs": [],
   "source": [
    "# Load h3 feature sets\n",
    "feature_set_2hourly_h3_6 = pd.read_pickle('data/feature_set_2hourly_h3_6.pkl')\n",
    "feature_set_2hourly_h3_7 = pd.read_pickle('data/feature_set_2hourly_h3_7.pkl')\n",
    "feature_set_2hourly_h3_8 = pd.read_pickle('data/feature_set_2hourly_h3_8.pkl')"
   ]
  },
  {
   "cell_type": "code",
   "execution_count": 110,
   "metadata": {
    "id": "xPtPBNPztrsv"
   },
   "outputs": [],
   "source": [
    "# Target encoding\n",
    "target_encoding_map = feature_set_2hourly_h3_6.groupby('h3_hex_6')['trips'].mean().to_dict()\n",
    "feature_set_2hourly_h3_6['h3_hex_6_encoded'] = feature_set_2hourly_h3_6['h3_hex_6'].map(target_encoding_map)\n",
    "\n",
    "target_encoding_map = feature_set_2hourly_h3_7.groupby('h3_hex_7')['trips'].mean().to_dict()\n",
    "feature_set_2hourly_h3_7['h3_hex_7_encoded'] = feature_set_2hourly_h3_7['h3_hex_7'].map(target_encoding_map)\n",
    "\n",
    "target_encoding_map = feature_set_2hourly_h3_8.groupby('h3_hex_8')['trips'].mean().to_dict()\n",
    "feature_set_2hourly_h3_8['h3_hex_8_encoded'] = feature_set_2hourly_h3_8['h3_hex_8'].map(target_encoding_map)"
   ]
  },
  {
   "cell_type": "code",
   "execution_count": 111,
   "metadata": {
    "id": "jmOQb7IkuIw0"
   },
   "outputs": [],
   "source": [
    "# Subsets for SVM\n",
    "feature_set_2hourly_h3_6_subset = feature_set_2hourly_h3_6.sample(n=20000, random_state=42)\n",
    "feature_set_2hourly_h3_7_subset = feature_set_2hourly_h3_7.sample(n=20000, random_state=42)\n",
    "feature_set_2hourly_h3_8_subset = feature_set_2hourly_h3_8.sample(n=20000, random_state=42)"
   ]
  },
  {
   "cell_type": "markdown",
   "metadata": {
    "id": "QYWhMsn4h5_H"
   },
   "source": [
    "2-hourly h3 subset (res=6):"
   ]
  },
  {
   "cell_type": "code",
   "execution_count": 112,
   "metadata": {
    "id": "5Xr9TVcauOae"
   },
   "outputs": [],
   "source": [
    "# Initializing input and target features\n",
    "x = feature_set_2hourly_h3_6_subset[input_features_h3_6]\n",
    "y = feature_set_2hourly_h3_6_subset['trips']\n",
    "\n",
    "# Split dataset and scale features\n",
    "x_train_scaled, y_train, x_test_scaled, y_test = split_and_scale(x, y, test_size=0.3)"
   ]
  },
  {
   "cell_type": "code",
   "execution_count": 113,
   "metadata": {
    "id": "GihxYvxhunPk"
   },
   "outputs": [],
   "source": [
    "# Define parameters for grid search\n",
    "param_grid = {'kernel':['rbf'], 'C': [990,1000], 'gamma': ['auto']}"
   ]
  },
  {
   "cell_type": "code",
   "execution_count": 114,
   "metadata": {
    "colab": {
     "base_uri": "https://localhost:8080/"
    },
    "id": "fjJjR0x3uowI",
    "outputId": "60587d4c-eb03-4261-a2ca-179dfd7e649c"
   },
   "outputs": [
    {
     "name": "stdout",
     "output_type": "stream",
     "text": [
      "Fitting 3 folds for each of 2 candidates, totalling 6 fits\n",
      "[CV] END ......................C=990, gamma=auto, kernel=rbf; total time=   3.9s\n",
      "[CV] END ......................C=990, gamma=auto, kernel=rbf; total time=   3.9s\n",
      "[CV] END ......................C=990, gamma=auto, kernel=rbf; total time=   3.9s\n",
      "[CV] END .....................C=1000, gamma=auto, kernel=rbf; total time=   3.9s\n",
      "[CV] END .....................C=1000, gamma=auto, kernel=rbf; total time=   3.8s\n",
      "[CV] END .....................C=1000, gamma=auto, kernel=rbf; total time=   3.6s\n",
      "Best Parameters:  {'C': 1000, 'gamma': 'auto', 'kernel': 'rbf'}\n",
      "Best Score:  82976.54917228057\n"
     ]
    }
   ],
   "source": [
    "# Perform grid search\n",
    "grid_search_SVR(x_train_scaled, y_train, 3, param_grid)"
   ]
  },
  {
   "cell_type": "code",
   "execution_count": 115,
   "metadata": {
    "colab": {
     "base_uri": "https://localhost:8080/"
    },
    "id": "3oeji0dmup5Q",
    "outputId": "c8e042a0-0589-4aba-8433-d1e8c49ea5e9"
   },
   "outputs": [
    {
     "name": "stdout",
     "output_type": "stream",
     "text": [
      "MSE: 71454.29528387156\n",
      "MAE: 153.8410723761271\n",
      "R-squared (R2) Score: 0.8600652908004613\n"
     ]
    }
   ],
   "source": [
    "# Test set performance\n",
    "params = {'kernel':'rbf', 'C': 1000,'gamma':'auto'}\n",
    "r2 = evaluate_return(x_train_scaled, y_train, x_test_scaled, y_test, params)\n",
    "svm_metrics_h3_6.append(r2)"
   ]
  },
  {
   "cell_type": "markdown",
   "metadata": {
    "id": "iGtYBYk5h-Aq"
   },
   "source": [
    "2-hourly h3 subset (res=7):"
   ]
  },
  {
   "cell_type": "code",
   "execution_count": 116,
   "metadata": {
    "id": "EshSZneEu6GU"
   },
   "outputs": [],
   "source": [
    "# Initializing input and target features\n",
    "x = feature_set_2hourly_h3_7_subset[input_features_h3_7]\n",
    "y = feature_set_2hourly_h3_7_subset['trips']\n",
    "\n",
    "# Split dataset and scale features\n",
    "x_train_scaled, y_train, x_test_scaled, y_test = split_and_scale(x, y, test_size=0.3)"
   ]
  },
  {
   "cell_type": "code",
   "execution_count": 117,
   "metadata": {
    "id": "uMQFDjKxvHfg"
   },
   "outputs": [],
   "source": [
    "# Define parameters for grid search\n",
    "param_grid = {'kernel':['rbf'], 'C': [990,1000], 'gamma': ['auto']}"
   ]
  },
  {
   "cell_type": "code",
   "execution_count": 118,
   "metadata": {
    "colab": {
     "base_uri": "https://localhost:8080/"
    },
    "id": "UgMITwv0vIrs",
    "outputId": "93335d22-8431-472e-be0d-d087d8479e4d"
   },
   "outputs": [
    {
     "name": "stdout",
     "output_type": "stream",
     "text": [
      "Fitting 3 folds for each of 2 candidates, totalling 6 fits\n",
      "[CV] END ......................C=990, gamma=auto, kernel=rbf; total time=   4.9s\n",
      "[CV] END ......................C=990, gamma=auto, kernel=rbf; total time=   4.7s\n",
      "[CV] END ......................C=990, gamma=auto, kernel=rbf; total time=   4.5s\n",
      "[CV] END .....................C=1000, gamma=auto, kernel=rbf; total time=   4.8s\n",
      "[CV] END .....................C=1000, gamma=auto, kernel=rbf; total time=   4.8s\n",
      "[CV] END .....................C=1000, gamma=auto, kernel=rbf; total time=   4.9s\n",
      "Best Parameters:  {'C': 1000, 'gamma': 'auto', 'kernel': 'rbf'}\n",
      "Best Score:  20051.536974216982\n"
     ]
    }
   ],
   "source": [
    "# Perform grid search\n",
    "grid_search_SVR(x_train_scaled, y_train, 3, param_grid)"
   ]
  },
  {
   "cell_type": "code",
   "execution_count": 119,
   "metadata": {
    "colab": {
     "base_uri": "https://localhost:8080/"
    },
    "id": "JynRgoa4vJiO",
    "outputId": "c632dfca-75de-4cef-ce84-bd99a78dde17"
   },
   "outputs": [
    {
     "name": "stdout",
     "output_type": "stream",
     "text": [
      "MSE: 18268.144585342394\n",
      "MAE: 71.2336136199787\n",
      "R-squared (R2) Score: 0.8704874297238187\n"
     ]
    }
   ],
   "source": [
    "# Test set performance\n",
    "params = {'kernel':'rbf', 'C': 1000,'gamma':'auto'}\n",
    "r2 = evaluate_return(x_train_scaled, y_train, x_test_scaled, y_test, params)\n",
    "svm_metrics_h3_7.append(r2)"
   ]
  },
  {
   "cell_type": "markdown",
   "metadata": {
    "id": "hQToY3lMiQgA"
   },
   "source": [
    "2-hourly h3 subset (res=8):"
   ]
  },
  {
   "cell_type": "code",
   "execution_count": 120,
   "metadata": {
    "id": "nAZTpT1BvKEU"
   },
   "outputs": [],
   "source": [
    "# Initializing input and target features\n",
    "x = feature_set_2hourly_h3_8_subset[input_features_h3_8]\n",
    "y = feature_set_2hourly_h3_8_subset['trips']\n",
    "\n",
    "# Split dataset and scale features\n",
    "x_train_scaled, y_train, x_test_scaled, y_test = split_and_scale(x, y, test_size=0.3)"
   ]
  },
  {
   "cell_type": "code",
   "execution_count": 121,
   "metadata": {
    "id": "7dqAmtX-vQWe"
   },
   "outputs": [],
   "source": [
    "# Define parameters for grid search\n",
    "param_grid = {'kernel':['rbf'], 'C': [990,1000], 'gamma': ['auto']}"
   ]
  },
  {
   "cell_type": "code",
   "execution_count": 122,
   "metadata": {
    "colab": {
     "base_uri": "https://localhost:8080/"
    },
    "id": "8vtkcuzovRUW",
    "outputId": "4cadb889-7680-4e17-c0b7-41c7612bd90a"
   },
   "outputs": [
    {
     "name": "stdout",
     "output_type": "stream",
     "text": [
      "Fitting 3 folds for each of 2 candidates, totalling 6 fits\n",
      "[CV] END ......................C=990, gamma=auto, kernel=rbf; total time=   9.3s\n",
      "[CV] END ......................C=990, gamma=auto, kernel=rbf; total time=   8.4s\n",
      "[CV] END ......................C=990, gamma=auto, kernel=rbf; total time=   9.9s\n",
      "[CV] END .....................C=1000, gamma=auto, kernel=rbf; total time=   9.7s\n",
      "[CV] END .....................C=1000, gamma=auto, kernel=rbf; total time=   8.9s\n",
      "[CV] END .....................C=1000, gamma=auto, kernel=rbf; total time=   9.4s\n",
      "Best Parameters:  {'C': 1000, 'gamma': 'auto', 'kernel': 'rbf'}\n",
      "Best Score:  1197.0141826555166\n"
     ]
    }
   ],
   "source": [
    "# Perform grid search\n",
    "grid_search_SVR(x_train_scaled, y_train, 3, param_grid)"
   ]
  },
  {
   "cell_type": "code",
   "execution_count": 123,
   "metadata": {
    "colab": {
     "base_uri": "https://localhost:8080/"
    },
    "id": "NN9o8itbvSPk",
    "outputId": "a38c8462-11fb-4bec-f050-39cffaa214ae"
   },
   "outputs": [
    {
     "name": "stdout",
     "output_type": "stream",
     "text": [
      "MSE: 1039.8893595144598\n",
      "MAE: 15.629022395124274\n",
      "R-squared (R2) Score: 0.8531194732212746\n"
     ]
    }
   ],
   "source": [
    "# Test set performance\n",
    "params = {'kernel':'rbf', 'C': 1000,'gamma':'auto'}\n",
    "r2 = evaluate_return(x_train_scaled, y_train, x_test_scaled, y_test, params)\n",
    "svm_metrics_h3_8.append(r2)"
   ]
  },
  {
   "cell_type": "markdown",
   "metadata": {
    "id": "kIruKCKSx0QZ"
   },
   "source": [
    "#### 6-hourly basis"
   ]
  },
  {
   "cell_type": "code",
   "execution_count": 124,
   "metadata": {
    "id": "bpQxRgapx3P6"
   },
   "outputs": [],
   "source": [
    "# Load h3 feature sets\n",
    "feature_set_6hourly_h3_6 = pd.read_pickle('data/feature_set_6hourly_h3_6.pkl')\n",
    "feature_set_6hourly_h3_7 = pd.read_pickle('data/feature_set_6hourly_h3_7.pkl')\n",
    "feature_set_6hourly_h3_8 = pd.read_pickle('data/feature_set_6hourly_h3_8.pkl')"
   ]
  },
  {
   "cell_type": "code",
   "execution_count": 125,
   "metadata": {
    "id": "luZgw8E6x9eX"
   },
   "outputs": [],
   "source": [
    "# Target encoding\n",
    "target_encoding_map = feature_set_6hourly_h3_6.groupby('h3_hex_6')['trips'].mean().to_dict()\n",
    "feature_set_6hourly_h3_6['h3_hex_6_encoded'] = feature_set_6hourly_h3_6['h3_hex_6'].map(target_encoding_map)\n",
    "\n",
    "target_encoding_map = feature_set_6hourly_h3_7.groupby('h3_hex_7')['trips'].mean().to_dict()\n",
    "feature_set_6hourly_h3_7['h3_hex_7_encoded'] = feature_set_6hourly_h3_7['h3_hex_7'].map(target_encoding_map)\n",
    "\n",
    "target_encoding_map = feature_set_6hourly_h3_8.groupby('h3_hex_8')['trips'].mean().to_dict()\n",
    "feature_set_6hourly_h3_8['h3_hex_8_encoded'] = feature_set_6hourly_h3_8['h3_hex_8'].map(target_encoding_map)"
   ]
  },
  {
   "cell_type": "code",
   "execution_count": 126,
   "metadata": {
    "id": "6g3LglwByEOO"
   },
   "outputs": [],
   "source": [
    "# Subsets for SVM \n",
    "feature_set_6hourly_h3_6_subset = feature_set_6hourly_h3_6.sample(n=20000, random_state=42)\n",
    "feature_set_6hourly_h3_7_subset = feature_set_6hourly_h3_7.sample(n=20000, random_state=42)\n",
    "feature_set_6hourly_h3_8_subset = feature_set_6hourly_h3_8.sample(n=20000, random_state=42)"
   ]
  },
  {
   "cell_type": "markdown",
   "metadata": {
    "id": "Ixrv9WZQjq3V"
   },
   "source": [
    "6-hourly h3 set (res=6):"
   ]
  },
  {
   "cell_type": "code",
   "execution_count": 127,
   "metadata": {
    "id": "e5eJ0qc2ymWV"
   },
   "outputs": [],
   "source": [
    "# Initializing input and target features\n",
    "x = feature_set_6hourly_h3_6_subset[input_features_h3_6]\n",
    "y = feature_set_6hourly_h3_6_subset['trips']\n",
    "\n",
    "# Split dataset and scale features\n",
    "x_train_scaled, y_train, x_test_scaled, y_test = split_and_scale(x, y, test_size=0.3)"
   ]
  },
  {
   "cell_type": "code",
   "execution_count": 128,
   "metadata": {
    "id": "fS2dwHNGystx"
   },
   "outputs": [],
   "source": [
    "# Define parameters for grid search\n",
    "param_grid = {'kernel':['rbf'], 'C': [990,1000], 'gamma': ['auto']}"
   ]
  },
  {
   "cell_type": "code",
   "execution_count": 129,
   "metadata": {
    "colab": {
     "base_uri": "https://localhost:8080/"
    },
    "id": "BCTizDSSyuCX",
    "outputId": "410e690a-b497-44be-cb6b-374fadbc444b"
   },
   "outputs": [
    {
     "name": "stdout",
     "output_type": "stream",
     "text": [
      "Fitting 3 folds for each of 2 candidates, totalling 6 fits\n",
      "[CV] END ......................C=990, gamma=auto, kernel=rbf; total time=   3.4s\n",
      "[CV] END ......................C=990, gamma=auto, kernel=rbf; total time=   3.3s\n",
      "[CV] END ......................C=990, gamma=auto, kernel=rbf; total time=   3.4s\n",
      "[CV] END .....................C=1000, gamma=auto, kernel=rbf; total time=   3.4s\n",
      "[CV] END .....................C=1000, gamma=auto, kernel=rbf; total time=   3.4s\n",
      "[CV] END .....................C=1000, gamma=auto, kernel=rbf; total time=   3.3s\n",
      "Best Parameters:  {'C': 1000, 'gamma': 'auto', 'kernel': 'rbf'}\n",
      "Best Score:  357526.3308342874\n"
     ]
    }
   ],
   "source": [
    "# Perform grid search\n",
    "grid_search_SVR(x_train_scaled, y_train, 3, param_grid)"
   ]
  },
  {
   "cell_type": "code",
   "execution_count": 130,
   "metadata": {
    "colab": {
     "base_uri": "https://localhost:8080/"
    },
    "id": "YiV6ZJy9yvGC",
    "outputId": "23d8c348-f240-4cbc-bf71-e06909b5567f"
   },
   "outputs": [
    {
     "name": "stdout",
     "output_type": "stream",
     "text": [
      "MSE: 389727.121252227\n",
      "MAE: 319.04436024721093\n",
      "R-squared (R2) Score: 0.900094261996025\n"
     ]
    }
   ],
   "source": [
    "# Test set performance\n",
    "params = {'kernel':'rbf', 'C': 1000,'gamma':'auto'}\n",
    "r2 = evaluate_return(x_train_scaled, y_train, x_test_scaled, y_test, params)\n",
    "svm_metrics_h3_6.append(r2)"
   ]
  },
  {
   "cell_type": "markdown",
   "metadata": {
    "id": "Dffm1PTFjx4z"
   },
   "source": [
    "6-hourly h3 subset (res=7):"
   ]
  },
  {
   "cell_type": "code",
   "execution_count": 131,
   "metadata": {
    "id": "UJfVvwsMywF_"
   },
   "outputs": [],
   "source": [
    "# Initializing input and target features\n",
    "x = feature_set_6hourly_h3_7_subset[input_features_h3_7]\n",
    "y = feature_set_6hourly_h3_7_subset['trips']\n",
    "\n",
    "# Split dataset and scale features\n",
    "x_train_scaled, y_train, x_test_scaled, y_test = split_and_scale(x, y, test_size=0.3)"
   ]
  },
  {
   "cell_type": "code",
   "execution_count": 132,
   "metadata": {
    "id": "Qj32MKZ-y1DP"
   },
   "outputs": [],
   "source": [
    "# Define parameters for grid search\n",
    "param_grid = {'kernel':['rbf'], 'C': [990,1000], 'gamma': ['auto']}"
   ]
  },
  {
   "cell_type": "code",
   "execution_count": 133,
   "metadata": {
    "colab": {
     "base_uri": "https://localhost:8080/"
    },
    "id": "tbUo-kUTy177",
    "outputId": "5c8d2b7f-e3aa-4a6a-bb9a-c17bf3d1c882"
   },
   "outputs": [
    {
     "name": "stdout",
     "output_type": "stream",
     "text": [
      "Fitting 3 folds for each of 2 candidates, totalling 6 fits\n",
      "[CV] END ......................C=990, gamma=auto, kernel=rbf; total time=   4.0s\n",
      "[CV] END ......................C=990, gamma=auto, kernel=rbf; total time=   4.1s\n",
      "[CV] END ......................C=990, gamma=auto, kernel=rbf; total time=   4.0s\n",
      "[CV] END .....................C=1000, gamma=auto, kernel=rbf; total time=   3.8s\n",
      "[CV] END .....................C=1000, gamma=auto, kernel=rbf; total time=   4.1s\n",
      "[CV] END .....................C=1000, gamma=auto, kernel=rbf; total time=   3.8s\n",
      "Best Parameters:  {'C': 1000, 'gamma': 'auto', 'kernel': 'rbf'}\n",
      "Best Score:  93939.68850132595\n"
     ]
    }
   ],
   "source": [
    "# Perform grid search\n",
    "grid_search_SVR(x_train_scaled, y_train, 3, param_grid)"
   ]
  },
  {
   "cell_type": "code",
   "execution_count": 135,
   "metadata": {
    "colab": {
     "base_uri": "https://localhost:8080/"
    },
    "id": "bZsD2JsMy3T-",
    "outputId": "0b7cf0a3-d8e8-4f28-cf07-a5f6ede67896"
   },
   "outputs": [
    {
     "name": "stdout",
     "output_type": "stream",
     "text": [
      "MSE: 88050.8682551077\n",
      "MAE: 143.7714172765913\n",
      "R-squared (R2) Score: 0.9159613748828818\n"
     ]
    }
   ],
   "source": [
    "# Test set performance\n",
    "params = {'kernel':'rbf', 'C': 1000,'gamma':'auto'}\n",
    "r2 = evaluate_return(x_train_scaled, y_train, x_test_scaled, y_test, params)\n",
    "svm_metrics_h3_7.append(r2)"
   ]
  },
  {
   "cell_type": "markdown",
   "metadata": {
    "id": "SGNNwUYgj9Wa"
   },
   "source": [
    "6-hourly h3 subset (res=8):"
   ]
  },
  {
   "cell_type": "code",
   "execution_count": 136,
   "metadata": {
    "id": "Ard6aqi6y46P"
   },
   "outputs": [],
   "source": [
    "# Initializing input and target features\n",
    "x = feature_set_6hourly_h3_8_subset[input_features_h3_8]\n",
    "y = feature_set_6hourly_h3_8_subset['trips']\n",
    "\n",
    "# Split dataset and scale features\n",
    "x_train_scaled, y_train, x_test_scaled, y_test = split_and_scale(x, y, test_size=0.3)"
   ]
  },
  {
   "cell_type": "code",
   "execution_count": 137,
   "metadata": {
    "id": "mSkmybEXzUqo"
   },
   "outputs": [],
   "source": [
    "# Define parameters for grid search\n",
    "param_grid = {'kernel':['rbf'], 'C': [990,1000], 'gamma': ['auto']}"
   ]
  },
  {
   "cell_type": "code",
   "execution_count": 138,
   "metadata": {
    "colab": {
     "base_uri": "https://localhost:8080/"
    },
    "id": "38ySGjbHzW__",
    "outputId": "2e73a250-2cad-4ff1-f0c3-2664c318970b"
   },
   "outputs": [
    {
     "name": "stdout",
     "output_type": "stream",
     "text": [
      "Fitting 3 folds for each of 2 candidates, totalling 6 fits\n",
      "[CV] END ......................C=990, gamma=auto, kernel=rbf; total time=   6.3s\n",
      "[CV] END ......................C=990, gamma=auto, kernel=rbf; total time=   6.8s\n",
      "[CV] END ......................C=990, gamma=auto, kernel=rbf; total time=   6.1s\n",
      "[CV] END .....................C=1000, gamma=auto, kernel=rbf; total time=   5.9s\n",
      "[CV] END .....................C=1000, gamma=auto, kernel=rbf; total time=   6.3s\n",
      "[CV] END .....................C=1000, gamma=auto, kernel=rbf; total time=   6.6s\n",
      "Best Parameters:  {'C': 1000, 'gamma': 'auto', 'kernel': 'rbf'}\n",
      "Best Score:  4884.164028603878\n"
     ]
    }
   ],
   "source": [
    "# Perform grid search\n",
    "grid_search_SVR(x_train_scaled, y_train, 3, param_grid)"
   ]
  },
  {
   "cell_type": "code",
   "execution_count": 139,
   "metadata": {
    "colab": {
     "base_uri": "https://localhost:8080/"
    },
    "id": "KOS5FSGczYXp",
    "outputId": "dfaf40bf-a232-40e8-db8c-8de549a308d5"
   },
   "outputs": [
    {
     "name": "stdout",
     "output_type": "stream",
     "text": [
      "MSE: 4670.2252980693775\n",
      "MAE: 30.693959803761118\n",
      "R-squared (R2) Score: 0.896948366619171\n"
     ]
    }
   ],
   "source": [
    "# Test set performance\n",
    "params = {'kernel':'rbf', 'C': 1000,'gamma':'auto'}\n",
    "r2 = evaluate_return(x_train_scaled, y_train, x_test_scaled, y_test, params)\n",
    "svm_metrics_h3_8.append(r2)"
   ]
  },
  {
   "cell_type": "markdown",
   "metadata": {
    "id": "GY3n0lH10Jtb"
   },
   "source": [
    "#### Daily basis"
   ]
  },
  {
   "cell_type": "code",
   "execution_count": 140,
   "metadata": {
    "id": "bK9VlNby0M_V"
   },
   "outputs": [],
   "source": [
    "# Load h3 feature sets\n",
    "feature_set_daily_h3_6 = pd.read_pickle('data/feature_set_daily_h3_6.pkl')\n",
    "feature_set_daily_h3_7 = pd.read_pickle('data/feature_set_daily_h3_7.pkl')\n",
    "feature_set_daily_h3_8 = pd.read_pickle('data/feature_set_daily_h3_8.pkl')"
   ]
  },
  {
   "cell_type": "code",
   "execution_count": 141,
   "metadata": {
    "id": "NgRzsxi_0TBj"
   },
   "outputs": [],
   "source": [
    "# Target encoding\n",
    "target_encoding_map = feature_set_daily_h3_6.groupby('h3_hex_6')['trips'].mean().to_dict()\n",
    "feature_set_daily_h3_6['h3_hex_6_encoded'] = feature_set_daily_h3_6['h3_hex_6'].map(target_encoding_map)\n",
    "\n",
    "target_encoding_map = feature_set_daily_h3_7.groupby('h3_hex_7')['trips'].mean().to_dict()\n",
    "feature_set_daily_h3_7['h3_hex_7_encoded'] = feature_set_daily_h3_7['h3_hex_7'].map(target_encoding_map)\n",
    "\n",
    "target_encoding_map = feature_set_daily_h3_8.groupby('h3_hex_8')['trips'].mean().to_dict()\n",
    "feature_set_daily_h3_8['h3_hex_8_encoded'] = feature_set_daily_h3_8['h3_hex_8'].map(target_encoding_map)"
   ]
  },
  {
   "cell_type": "code",
   "execution_count": 142,
   "metadata": {
    "id": "LwukfZBE1aOm"
   },
   "outputs": [],
   "source": [
    "# Convert daytime object to integer (day of the year)\n",
    "feature_set_daily_h3_6['day'] = feature_set_daily_h3_6['day'].dt.day_of_year\n",
    "feature_set_daily_h3_7['day'] = feature_set_daily_h3_7['day'].dt.day_of_year\n",
    "feature_set_daily_h3_8['day'] = feature_set_daily_h3_8['day'].dt.day_of_year"
   ]
  },
  {
   "cell_type": "code",
   "execution_count": 143,
   "metadata": {
    "id": "-TFsYeic0qDC"
   },
   "outputs": [],
   "source": [
    "# Subsets for SVM\n",
    "feature_set_daily_h3_6_subset = feature_set_daily_h3_6.sample(n=20000, random_state=42)\n",
    "feature_set_daily_h3_7_subset = feature_set_daily_h3_7.sample(n=20000, random_state=42)\n",
    "feature_set_daily_h3_8_subset = feature_set_daily_h3_8.sample(n=20000, random_state=42)"
   ]
  },
  {
   "cell_type": "markdown",
   "metadata": {
    "id": "Z-rBf0fIlC0s"
   },
   "source": [
    "Daily h3 set (res=6):"
   ]
  },
  {
   "cell_type": "code",
   "execution_count": 144,
   "metadata": {
    "id": "kMFyS0Mm06d2"
   },
   "outputs": [],
   "source": [
    "# Initializing input and target features\n",
    "x = feature_set_daily_h3_6_subset[input_features_h3_6_daily]\n",
    "y = feature_set_daily_h3_6_subset['trips']\n",
    "\n",
    "# Split dataset and scale features\n",
    "x_train_scaled, y_train, x_test_scaled, y_test = split_and_scale(x, y, test_size=0.3)"
   ]
  },
  {
   "cell_type": "code",
   "execution_count": 145,
   "metadata": {
    "id": "vII8n_BR2Dy4"
   },
   "outputs": [],
   "source": [
    "# Define parameters for grid search\n",
    "param_grid = {'kernel':['rbf','poly'], 'C':[10], 'gamma':['auto'], 'degree':[3,4,5]}"
   ]
  },
  {
   "cell_type": "code",
   "execution_count": 146,
   "metadata": {
    "colab": {
     "base_uri": "https://localhost:8080/"
    },
    "id": "tW3YZe432Ecs",
    "outputId": "ed075fee-feeb-469b-9835-e2fa424a5127"
   },
   "outputs": [
    {
     "name": "stdout",
     "output_type": "stream",
     "text": [
      "Fitting 3 folds for each of 6 candidates, totalling 18 fits\n",
      "[CV] END .............C=10, degree=3, gamma=auto, kernel=rbf; total time=   2.8s\n",
      "[CV] END .............C=10, degree=3, gamma=auto, kernel=rbf; total time=   2.9s\n",
      "[CV] END .............C=10, degree=3, gamma=auto, kernel=rbf; total time=   2.9s\n",
      "[CV] END ............C=10, degree=3, gamma=auto, kernel=poly; total time=   1.8s\n",
      "[CV] END ............C=10, degree=3, gamma=auto, kernel=poly; total time=   1.8s\n",
      "[CV] END ............C=10, degree=3, gamma=auto, kernel=poly; total time=   1.8s\n",
      "[CV] END .............C=10, degree=4, gamma=auto, kernel=rbf; total time=   2.8s\n",
      "[CV] END .............C=10, degree=4, gamma=auto, kernel=rbf; total time=   2.8s\n",
      "[CV] END .............C=10, degree=4, gamma=auto, kernel=rbf; total time=   2.8s\n",
      "[CV] END ............C=10, degree=4, gamma=auto, kernel=poly; total time=   1.8s\n",
      "[CV] END ............C=10, degree=4, gamma=auto, kernel=poly; total time=   1.8s\n",
      "[CV] END ............C=10, degree=4, gamma=auto, kernel=poly; total time=   1.8s\n",
      "[CV] END .............C=10, degree=5, gamma=auto, kernel=rbf; total time=   2.8s\n",
      "[CV] END .............C=10, degree=5, gamma=auto, kernel=rbf; total time=   2.8s\n",
      "[CV] END .............C=10, degree=5, gamma=auto, kernel=rbf; total time=   2.8s\n",
      "[CV] END ............C=10, degree=5, gamma=auto, kernel=poly; total time=   1.8s\n",
      "[CV] END ............C=10, degree=5, gamma=auto, kernel=poly; total time=   1.8s\n",
      "[CV] END ............C=10, degree=5, gamma=auto, kernel=poly; total time=   1.8s\n",
      "Best Parameters:  {'C': 10, 'degree': 3, 'gamma': 'auto', 'kernel': 'rbf'}\n",
      "Best Score:  8364226.240554747\n"
     ]
    }
   ],
   "source": [
    "# Perform grid search\n",
    "grid_search_SVR(x_train_scaled, y_train, 3, param_grid)"
   ]
  },
  {
   "cell_type": "code",
   "execution_count": 147,
   "metadata": {
    "colab": {
     "base_uri": "https://localhost:8080/"
    },
    "id": "Fbtxs7rD2GSc",
    "outputId": "9e4ec8e0-c226-47cc-fbe2-7be2268cf126"
   },
   "outputs": [
    {
     "name": "stdout",
     "output_type": "stream",
     "text": [
      "MSE: 2228739.9260453014\n",
      "MAE: 698.6879621911477\n",
      "R-squared (R2) Score: 0.9398868859449282\n"
     ]
    }
   ],
   "source": [
    "# Test set performance\n",
    "params = {'kernel':'rbf', 'C': 1000,'gamma':'auto'}\n",
    "r2 = evaluate_return(x_train_scaled, y_train, x_test_scaled, y_test, params)\n",
    "svm_metrics_h3_6.append(r2)"
   ]
  },
  {
   "cell_type": "markdown",
   "metadata": {
    "id": "ZgClNCXvmjHz"
   },
   "source": [
    "Daily h3 set (res=7):"
   ]
  },
  {
   "cell_type": "code",
   "execution_count": 148,
   "metadata": {
    "id": "aDgD5qow2G47"
   },
   "outputs": [],
   "source": [
    "# Initializing input and target features\n",
    "x = feature_set_daily_h3_7_subset[input_features_h3_7_daily]\n",
    "y = feature_set_daily_h3_7_subset['trips']\n",
    "\n",
    "# Split dataset and scale features\n",
    "x_train_scaled, y_train, x_test_scaled, y_test = split_and_scale(x, y, test_size=0.3)"
   ]
  },
  {
   "cell_type": "code",
   "execution_count": 149,
   "metadata": {
    "id": "PLZQCdfR2K31"
   },
   "outputs": [],
   "source": [
    "# Define parameters for grid search\n",
    "param_grid = {'kernel':['rbf'], 'C': [990,1000], 'gamma': ['auto']}"
   ]
  },
  {
   "cell_type": "code",
   "execution_count": 150,
   "metadata": {
    "colab": {
     "base_uri": "https://localhost:8080/"
    },
    "id": "68JbIB4H2MAm",
    "outputId": "11244b81-e347-45c4-836b-8192d297fe9d"
   },
   "outputs": [
    {
     "name": "stdout",
     "output_type": "stream",
     "text": [
      "Fitting 3 folds for each of 2 candidates, totalling 6 fits\n",
      "[CV] END ......................C=990, gamma=auto, kernel=rbf; total time=   3.3s\n",
      "[CV] END ......................C=990, gamma=auto, kernel=rbf; total time=   3.2s\n",
      "[CV] END ......................C=990, gamma=auto, kernel=rbf; total time=   3.2s\n",
      "[CV] END .....................C=1000, gamma=auto, kernel=rbf; total time=   3.2s\n",
      "[CV] END .....................C=1000, gamma=auto, kernel=rbf; total time=   3.2s\n",
      "[CV] END .....................C=1000, gamma=auto, kernel=rbf; total time=   3.2s\n",
      "Best Parameters:  {'C': 1000, 'gamma': 'auto', 'kernel': 'rbf'}\n",
      "Best Score:  510110.6176823505\n"
     ]
    }
   ],
   "source": [
    "# Perform grid search\n",
    "grid_search_SVR(x_train_scaled, y_train, 3, param_grid)"
   ]
  },
  {
   "cell_type": "code",
   "execution_count": 151,
   "metadata": {
    "colab": {
     "base_uri": "https://localhost:8080/"
    },
    "id": "91Bh_a832Orj",
    "outputId": "33cbb9b4-feb2-45db-eaaa-93174cfed3b6"
   },
   "outputs": [
    {
     "name": "stdout",
     "output_type": "stream",
     "text": [
      "MSE: 520010.8085500689\n",
      "MAE: 293.8260539110841\n",
      "R-squared (R2) Score: 0.948549917632963\n"
     ]
    }
   ],
   "source": [
    "# Test set performance\n",
    "params = {'kernel':'rbf', 'C': 1000,'gamma':'auto'}\n",
    "r2 = evaluate_return(x_train_scaled, y_train, x_test_scaled, y_test, params)\n",
    "svm_metrics_h3_7.append(r2)"
   ]
  },
  {
   "cell_type": "markdown",
   "metadata": {
    "id": "32I33IBbm42G"
   },
   "source": [
    "Daily h3 subset (res=8):"
   ]
  },
  {
   "cell_type": "code",
   "execution_count": 152,
   "metadata": {
    "id": "7HcvWrdg2RN_"
   },
   "outputs": [],
   "source": [
    "# Initializing input and target features\n",
    "x = feature_set_daily_h3_8_subset[input_features_h3_8_daily]\n",
    "y = feature_set_daily_h3_8_subset['trips']\n",
    "\n",
    "# Split dataset and scale features\n",
    "x_train_scaled, y_train, x_test_scaled, y_test = split_and_scale(x, y, test_size=0.3)"
   ]
  },
  {
   "cell_type": "code",
   "execution_count": 153,
   "metadata": {
    "id": "SCrYapbi2Tk6"
   },
   "outputs": [],
   "source": [
    "# Define parameters for grid search\n",
    "param_grid = {'kernel':['rbf'], 'C': [990,1000], 'gamma': ['auto']}"
   ]
  },
  {
   "cell_type": "code",
   "execution_count": 154,
   "metadata": {
    "colab": {
     "base_uri": "https://localhost:8080/"
    },
    "id": "RFjwhfvw2V74",
    "outputId": "6b208b6f-e426-4b66-b672-f10f79c2dc3b"
   },
   "outputs": [
    {
     "name": "stdout",
     "output_type": "stream",
     "text": [
      "Fitting 3 folds for each of 2 candidates, totalling 6 fits\n",
      "[CV] END ......................C=990, gamma=auto, kernel=rbf; total time=   4.1s\n",
      "[CV] END ......................C=990, gamma=auto, kernel=rbf; total time=   4.1s\n",
      "[CV] END ......................C=990, gamma=auto, kernel=rbf; total time=   4.3s\n",
      "[CV] END .....................C=1000, gamma=auto, kernel=rbf; total time=   4.0s\n",
      "[CV] END .....................C=1000, gamma=auto, kernel=rbf; total time=   4.1s\n",
      "[CV] END .....................C=1000, gamma=auto, kernel=rbf; total time=   4.1s\n",
      "Best Parameters:  {'C': 1000, 'gamma': 'auto', 'kernel': 'rbf'}\n",
      "Best Score:  20416.362307928026\n"
     ]
    }
   ],
   "source": [
    "# Perform grid search\n",
    "grid_search_SVR(x_train_scaled, y_train, 3, param_grid)"
   ]
  },
  {
   "cell_type": "code",
   "execution_count": 155,
   "metadata": {
    "colab": {
     "base_uri": "https://localhost:8080/"
    },
    "id": "emICqscX2XW-",
    "outputId": "df904a7c-25de-4443-9f9e-fd08883577c5"
   },
   "outputs": [
    {
     "name": "stdout",
     "output_type": "stream",
     "text": [
      "MSE: 21922.90903653276\n",
      "MAE: 58.98635269063435\n",
      "R-squared (R2) Score: 0.9446916499941649\n"
     ]
    }
   ],
   "source": [
    "# Test set performance\n",
    "params = {'kernel':'rbf', 'C': 1000,'gamma':'auto'}\n",
    "r2 = evaluate_return(x_train_scaled, y_train, x_test_scaled, y_test, params)\n",
    "svm_metrics_h3_8.append(r2)"
   ]
  },
  {
   "cell_type": "markdown",
   "metadata": {
    "id": "khpUR1WZtwJj"
   },
   "source": [
    "#### Summary"
   ]
  },
  {
   "cell_type": "markdown",
   "metadata": {
    "id": "hvOaNILAPKer"
   },
   "source": [
    "To compare the above trained and evaluated models, we will compare the resulting metrics, in the form of R2 scores, that we stored in the corresponding lists. The values in the lists will be in the following order: [hourly, 2-hourly, 6-hourly, daily]"
   ]
  },
  {
   "cell_type": "code",
   "execution_count": 156,
   "metadata": {
    "colab": {
     "base_uri": "https://localhost:8080/"
    },
    "id": "3cVRq1SQ-7N8",
    "outputId": "a4b1c090-c50b-4fac-df99-5bd7dd3cef97"
   },
   "outputs": [
    {
     "name": "stdout",
     "output_type": "stream",
     "text": [
      "R2 Scores for Census Tract: [0.8158193216595797, 0.8444355830691945, 0.8634995885721118, 0.9272965178264522]\n",
      "R2 Scores for H3 Res=6    : [0.8549866629134746, 0.8600652908004613, 0.900094261996025, 0.9398868859449282]\n",
      "R2 Scores for H3 Res=7    : [0.8665048671877817, 0.8704874297238187, 0.9159613748828818, 0.948549917632963]\n",
      "R2 Scores for H3 Res=8    : [0.8290951325554159, 0.8531194732212746, 0.896948366619171, 0.9446916499941649]\n"
     ]
    }
   ],
   "source": [
    "print('R2 Scores for Census Tract:', svm_metrics_ct)\n",
    "print('R2 Scores for H3 Res=6    :', svm_metrics_h3_6)\n",
    "print('R2 Scores for H3 Res=7    :', svm_metrics_h3_7)\n",
    "print('R2 Scores for H3 Res=8    :', svm_metrics_h3_8)"
   ]
  },
  {
   "cell_type": "code",
   "execution_count": 157,
   "metadata": {
    "colab": {
     "base_uri": "https://localhost:8080/",
     "height": 493
    },
    "id": "39NM9uISAFuy",
    "outputId": "ca6c5220-16dd-4a93-eb48-2af5f3307c91"
   },
   "outputs": [
    {
     "data": {
      "image/png": "[encoded data removed]",
      "text/plain": [
       "<Figure size 640x480 with 1 Axes>"
      ]
     },
     "metadata": {},
     "output_type": "display_data"
    }
   ],
   "source": [
    "import matplotlib.pyplot as plt\n",
    "\n",
    "# Create a figure and axis\n",
    "fig, ax = plt.subplots()\n",
    "\n",
    "# Plot the R2 scores for different models\n",
    "ax.plot(svm_metrics_ct, label='Census Tract')\n",
    "ax.plot(svm_metrics_h3_6, label='H3 (Resolution 6)')\n",
    "ax.plot(svm_metrics_h3_7, label='H3 (Resolution 7)')\n",
    "ax.plot(svm_metrics_h3_8, label='H3 (Resolution 8)')\n",
    "\n",
    "# Set labels and title\n",
    "ax.set_xlabel('Metric Index: hourly | 2-hourly | 6-hourly | daily')\n",
    "ax.set_ylabel('R2 Score')\n",
    "ax.set_title('SVR Model: R2 Scores')\n",
    "ax.legend()\n",
    "\n",
    "# Show the plot\n",
    "plt.show()\n",
    "fig.savefig('data/04_prediction_svm_metrics.png')"
   ]
  },
  {
   "cell_type": "markdown",
   "metadata": {
    "id": "seRy9aocQGT1"
   },
   "source": [
    "The results will be discussed in detail in the report. In general, we can observe a trend, that larger time buckets lead to higher performances. The performance of Census Tract and H3 (Res=8) are very similar as well as the performance of H3 (Res=6) and H3 (Res=7). Furthermore, the report will discuss the implications of the models in general regarding the used datasets and of the daily prediction in detail."
   ]
  },
  {
   "cell_type": "markdown",
   "metadata": {
    "id": "NToInjMSYdso"
   },
   "source": [
    "## Deep Learning\n",
    "### Functions"
   ]
  },
  {
   "cell_type": "markdown",
   "metadata": {
    "id": "WV8jzevZE-Lm"
   },
   "source": [
    "For the deep learning section, we first define the following three functions to build the model (with different hyperparameters as arguments), to perform the grid search, and to evaluate the model with the passed parameters, respectively."
   ]
  },
  {
   "cell_type": "code",
   "execution_count": 179,
   "metadata": {
    "id": "hgESMlU6l2oe"
   },
   "outputs": [],
   "source": [
    "import warnings\n",
    "warnings.filterwarnings('ignore')\n",
    "\n",
    "from tensorflow.keras import models, layers\n",
    "from tensorflow.keras.optimizers import RMSprop, Adam, SGD\n",
    "\n",
    "def build_model(optimizer='rmsprop', learning_rate=0.01, neurons=256, activation='relu', hidden_layers=1):\n",
    "    model = models.Sequential()\n",
    "    # Input Layer\n",
    "    model.add(layers.Dense(neurons, activation=activation, input_shape=(x_train_scaled.shape[1],)))\n",
    "    # Hidden Layers\n",
    "    for _ in range(hidden_layers):\n",
    "        model.add(layers.Dense(neurons, activation=activation))\n",
    "    # Output Layer\n",
    "    model.add(layers.Dense(1))\n",
    "\n",
    "    # Optimizer\n",
    "    if optimizer == 'rmsprop':\n",
    "        opt = RMSprop(learning_rate=learning_rate)\n",
    "    elif optimizer == 'adam':\n",
    "        opt = Adam(learning_rate=learning_rate)\n",
    "    else:\n",
    "        opt = SGD(learning_rate=learning_rate)\n",
    "\n",
    "    model.compile(optimizer=opt, loss='mse', metrics=['mae'])\n",
    "    return model"
   ]
  },
  {
   "cell_type": "code",
   "execution_count": 180,
   "metadata": {
    "id": "wHf4lPHXl37s"
   },
   "outputs": [],
   "source": [
    "import numpy as np\n",
    "from sklearn.model_selection import GridSearchCV\n",
    "from tensorflow.keras.wrappers.scikit_learn import KerasRegressor\n",
    "\n",
    "def grid_search_DL(x_train_scaled, y_train, build_model, param_grid = {}, batch_size=512, verbose=0):\n",
    "    if param_grid == {}:\n",
    "      param_grid = {\n",
    "        'optimizer': ['rmsprop', 'adam', 'sgd'],\n",
    "        'learning_rate': [0.01],\n",
    "        'neurons': [128, 256],\n",
    "        'hidden_layers': [1, 2],\n",
    "      }\n",
    "    # Create a KerasRegressor based on build_model function\n",
    "    model = KerasRegressor(build_fn=build_model, epochs=10, batch_size=batch_size, verbose=verbose)\n",
    "\n",
    "    # Create a GridSearchCV instance\n",
    "    grid = GridSearchCV(estimator=model, param_grid=param_grid, scoring='neg_mean_squared_error', cv=3)\n",
    "\n",
    "    # Perform the grid search\n",
    "    grid_result = grid.fit(x_train_scaled, y_train)  # Make sure to replace x_train_scaled and y_train with your actual data\n",
    "\n",
    "    # Print the results\n",
    "    print(\"Best: %f using %s\" % (grid_result.best_score_, grid_result.best_params_))\n",
    "    # means = grid_result.cv_results_['mean_test_score']\n",
    "    # stds = grid_result.cv_results_['std_test_score']\n",
    "    # params = grid_result.cv_results_['params']\n",
    "    # for mean, std, param in zip(means, stds, params):\n",
    "    #     print(\"%f (%f) with: %r\" % (mean, std, param))"
   ]
  },
  {
   "cell_type": "code",
   "execution_count": 181,
   "metadata": {
    "id": "isoAc-rdmC3S"
   },
   "outputs": [],
   "source": [
    "def evaluate_model(x_train_scaled, y_train, x_test_scaled, y_test, build_model, model_params, epochs=30, verbose=0, batch_size=256):\n",
    "    model = build_model(**model_params)\n",
    "    model.fit(x_train_scaled, y_train, epochs=epochs, batch_size=batch_size, verbose=verbose)\n",
    "    test_mse_score, test_mae_score = model.evaluate(x_test_scaled, y_test)\n",
    "\n",
    "    # Calculate R-squared for the test set predictions\n",
    "    y_pred = model.predict(x_test_scaled)\n",
    "    r_squared = r2_score(y_test, y_pred)\n",
    "\n",
    "    # Print the evaluation metrics\n",
    "    print(\"Test MSE:\", test_mse_score)\n",
    "    print(\"Test MAE:\", test_mae_score)\n",
    "    print(\"R-squared:\", r_squared)\n",
    "    return r_squared"
   ]
  },
  {
   "cell_type": "markdown",
   "metadata": {
    "id": "qJMPNrKnob06"
   },
   "source": [
    "### Census Tract Feature Set\n",
    "#### Hourly basis"
   ]
  },
  {
   "cell_type": "code",
   "execution_count": 182,
   "metadata": {
    "id": "-fiPHDW4_xIH"
   },
   "outputs": [],
   "source": [
    "# Create a list to store metrics for census tract for later comparison\n",
    "dl_metrics_ct = []"
   ]
  },
  {
   "cell_type": "code",
   "execution_count": 183,
   "metadata": {
    "colab": {
     "base_uri": "https://localhost:8080/"
    },
    "id": "MI7h47F-l9ia",
    "outputId": "311db5a9-c0bc-42be-e94f-3e3dc41744a2"
   },
   "outputs": [
    {
     "name": "stdout",
     "output_type": "stream",
     "text": [
      "Best: -189.790251 using {'hidden_layers': 2, 'learning_rate': 0.01, 'neurons': 128, 'optimizer': 'adam'}\n"
     ]
    }
   ],
   "source": [
    "x = feature_set_hourly_ct_subset[input_features_ct]\n",
    "y = feature_set_hourly_ct_subset['trips']\n",
    "\n",
    "# Split dataset and scale features\n",
    "x_train_scaled, y_train, x_test_scaled, y_test = split_and_scale(x, y, 0.3)\n",
    "\n",
    "# Grid search\n",
    "grid_search_DL(x_train_scaled, y_train, build_model)"
   ]
  },
  {
   "cell_type": "code",
   "execution_count": 184,
   "metadata": {
    "colab": {
     "base_uri": "https://localhost:8080/"
    },
    "id": "A8UCF_WWl_Ef",
    "outputId": "98e7cabe-4e2b-4a87-feaf-95730a54ac3c"
   },
   "outputs": [
    {
     "name": "stdout",
     "output_type": "stream",
     "text": [
      "5659/5659 [==============================] - 2s 360us/step - loss: 86.7005 - mae: 4.6045\n",
      "5659/5659 [==============================] - 2s 365us/step\n",
      "Test MSE: 86.70050048828125\n",
      "Test MAE: 4.60445499420166\n",
      "R-squared: 0.8851116421450557\n"
     ]
    }
   ],
   "source": [
    "x = feature_set_hourly_ct[input_features_ct]\n",
    "y = feature_set_hourly_ct['trips']\n",
    "\n",
    "# Split dataset and scale features\n",
    "x_train_scaled, y_train, x_test_scaled, y_test = split_and_scale(x, y, 0.3)\n",
    "\n",
    "# Evaluate model on test set\n",
    "params = {'hidden_layers': 2, 'learning_rate': 0.01, 'neurons': 128, 'optimizer': 'rmsprop'}\n",
    "r2 = evaluate_model(x_train_scaled, y_train, x_test_scaled, y_test, build_model, params, batch_size=1024)\n",
    "dl_metrics_ct.append(r2)"
   ]
  },
  {
   "cell_type": "markdown",
   "metadata": {
    "id": "h3sEgU2fot3u"
   },
   "source": [
    "#### 2-hourly basis"
   ]
  },
  {
   "cell_type": "code",
   "execution_count": 185,
   "metadata": {
    "colab": {
     "base_uri": "https://localhost:8080/"
    },
    "id": "1TkkYfVwoyD9",
    "outputId": "4dc2123c-eb1e-4415-8bbe-1ebe771c438a"
   },
   "outputs": [
    {
     "name": "stdout",
     "output_type": "stream",
     "text": [
      "Best: -684.983103 using {'hidden_layers': 2, 'learning_rate': 0.01, 'neurons': 256, 'optimizer': 'adam'}\n"
     ]
    }
   ],
   "source": [
    "x = feature_set_2hourly_ct_subset[input_features_ct]\n",
    "y = feature_set_2hourly_ct_subset['trips']\n",
    "\n",
    "# Split dataset and scale features\n",
    "x_train_scaled, y_train, x_test_scaled, y_test = split_and_scale(x, y, 0.3)\n",
    "\n",
    "# Grid search\n",
    "grid_search_DL(x_train_scaled, y_train, build_model)"
   ]
  },
  {
   "cell_type": "code",
   "execution_count": 186,
   "metadata": {
    "colab": {
     "base_uri": "https://localhost:8080/"
    },
    "id": "lvRhyB0zpOT_",
    "outputId": "b9e1f76c-f61c-4c44-e304-ce3708795eb0"
   },
   "outputs": [
    {
     "name": "stdout",
     "output_type": "stream",
     "text": [
      "3587/3587 [==============================] - 2s 497us/step - loss: 232.5522 - mae: 6.9924\n",
      "3587/3587 [==============================] - 2s 469us/step\n",
      "Test MSE: 232.5521697998047\n",
      "Test MAE: 6.992406845092773\n",
      "R-squared: 0.9109947471473437\n"
     ]
    }
   ],
   "source": [
    "x = feature_set_2hourly_ct[input_features_ct]\n",
    "y = feature_set_2hourly_ct['trips']\n",
    "\n",
    "# Split dataset and scale features\n",
    "x_train_scaled, y_train, x_test_scaled, y_test = split_and_scale(x, y, 0.3)\n",
    "\n",
    "# Evaluate model on test set\n",
    "params = {'hidden_layers': 2, 'learning_rate': 0.01, 'neurons': 256, 'optimizer': 'adam'}\n",
    "r2 = evaluate_model(x_train_scaled, y_train, x_test_scaled, y_test, build_model, params, batch_size=1024)\n",
    "dl_metrics_ct.append(r2)"
   ]
  },
  {
   "cell_type": "markdown",
   "metadata": {
    "id": "tE2PdEtcoyUd"
   },
   "source": [
    "#### 6-hourly basis"
   ]
  },
  {
   "cell_type": "code",
   "execution_count": 187,
   "metadata": {
    "colab": {
     "base_uri": "https://localhost:8080/"
    },
    "id": "kNZS-oa8o0_4",
    "outputId": "038c02f8-99d1-466b-d45a-c552d43d8f51"
   },
   "outputs": [
    {
     "name": "stdout",
     "output_type": "stream",
     "text": [
      "Best: -2393.035244 using {'hidden_layers': 2, 'learning_rate': 0.01, 'neurons': 256, 'optimizer': 'adam'}\n"
     ]
    }
   ],
   "source": [
    "x = feature_set_6hourly_ct_subset[input_features_ct]\n",
    "y = feature_set_6hourly_ct_subset['trips']\n",
    "\n",
    "# Split dataset and scale features\n",
    "x_train_scaled, y_train, x_test_scaled, y_test = split_and_scale(x, y, 0.3)\n",
    "\n",
    "# Grid search\n",
    "grid_search_DL(x_train_scaled, y_train, build_model)"
   ]
  },
  {
   "cell_type": "code",
   "execution_count": 188,
   "metadata": {
    "colab": {
     "base_uri": "https://localhost:8080/"
    },
    "id": "VfzJcO4rrHLz",
    "outputId": "f5ad1215-7d31-4dda-8907-3b0e53f8f35a"
   },
   "outputs": [
    {
     "name": "stdout",
     "output_type": "stream",
     "text": [
      "1761/1761 [==============================] - 1s 503us/step - loss: 1063.5420 - mae: 13.9894\n",
      "1761/1761 [==============================] - 1s 464us/step\n",
      "Test MSE: 1063.5419921875\n",
      "Test MAE: 13.989407539367676\n",
      "R-squared: 0.9319615029394047\n"
     ]
    }
   ],
   "source": [
    "x = feature_set_6hourly_ct[input_features_ct]\n",
    "y = feature_set_6hourly_ct['trips']\n",
    "\n",
    "# Split dataset and scale features\n",
    "x_train_scaled, y_train, x_test_scaled, y_test = split_and_scale(x, y, 0.3)\n",
    "\n",
    "# Evaluate model on test set\n",
    "params = {'hidden_layers': 2, 'learning_rate': 0.01, 'neurons': 256, 'optimizer': 'adam'}\n",
    "r2 = evaluate_model(x_train_scaled, y_train, x_test_scaled, y_test, build_model, params, batch_size=512)\n",
    "dl_metrics_ct.append(r2)"
   ]
  },
  {
   "cell_type": "markdown",
   "metadata": {
    "id": "qFUWQAfuo2Ey"
   },
   "source": [
    "#### Daily basis"
   ]
  },
  {
   "cell_type": "code",
   "execution_count": 189,
   "metadata": {
    "colab": {
     "base_uri": "https://localhost:8080/"
    },
    "id": "HLyFgd1rpMjF",
    "outputId": "af9f3982-f9bd-4127-b231-3683ec8bfeb1"
   },
   "outputs": [
    {
     "name": "stdout",
     "output_type": "stream",
     "text": [
      "Best: -14642.843557 using {'hidden_layers': 2, 'learning_rate': 0.01, 'neurons': 256, 'optimizer': 'adam'}\n"
     ]
    }
   ],
   "source": [
    "# Initializing input and target features\n",
    "x = feature_set_daily_ct_subset[input_features_ct_daily]\n",
    "y = feature_set_daily_ct_subset['trips']\n",
    "\n",
    "# Split dataset and scale features\n",
    "x_train_scaled, y_train, x_test_scaled, y_test = split_and_scale(x, y, 0.3)\n",
    "\n",
    "# Grid search\n",
    "grid_search_DL(x_train_scaled, y_train, build_model)"
   ]
  },
  {
   "cell_type": "code",
   "execution_count": 190,
   "metadata": {
    "colab": {
     "base_uri": "https://localhost:8080/"
    },
    "id": "ctd_mtCDpTgW",
    "outputId": "2641effa-beee-432a-a1a6-efa58ce9b029"
   },
   "outputs": [
    {
     "name": "stdout",
     "output_type": "stream",
     "text": [
      "740/740 [==============================] - 0s 377us/step - loss: 7979.7710 - mae: 34.1673\n",
      "740/740 [==============================] - 0s 327us/step\n",
      "Test MSE: 7979.77099609375\n",
      "Test MAE: 34.16728591918945\n",
      "R-squared: 0.9325633974562613\n"
     ]
    }
   ],
   "source": [
    "# Initializing input and target features\n",
    "x = feature_set_daily_ct[input_features_ct_daily]\n",
    "y = feature_set_daily_ct['trips']\n",
    "\n",
    "# Split dataset and scale features\n",
    "x_train_scaled, y_train, x_test_scaled, y_test = split_and_scale(x, y, 0.3)\n",
    "\n",
    "# Evaluate model on test set\n",
    "params = {'hidden_layers': 2, 'learning_rate': 0.01, 'neurons': 128, 'optimizer': 'adam'}\n",
    "r2 = evaluate_model(x_train_scaled, y_train, x_test_scaled, y_test, build_model, params, batch_size=32)\n",
    "dl_metrics_ct.append(r2)"
   ]
  },
  {
   "cell_type": "markdown",
   "metadata": {
    "id": "jThu5cAu7AE_"
   },
   "source": [
    "### H3 Feature Sets\n",
    "#### Hourly basis"
   ]
  },
  {
   "cell_type": "code",
   "execution_count": 191,
   "metadata": {
    "id": "mMmr8KGu_3F_"
   },
   "outputs": [],
   "source": [
    "# Initialize the remaining lists that will store the metrics\n",
    "dl_metrics_h3_6 = []\n",
    "dl_metrics_h3_7 = []\n",
    "dl_metrics_h3_8 = []"
   ]
  },
  {
   "cell_type": "code",
   "execution_count": 192,
   "metadata": {
    "colab": {
     "base_uri": "https://localhost:8080/"
    },
    "id": "JiHzExnlZJzS",
    "outputId": "2154e89c-f6cf-4095-f152-c42bae495e08"
   },
   "outputs": [
    {
     "name": "stdout",
     "output_type": "stream",
     "text": [
      "Best: -27789.846869 using {'hidden_layers': 2, 'learning_rate': 0.01, 'neurons': 256, 'optimizer': 'adam'}\n"
     ]
    }
   ],
   "source": [
    "# Initializing input and target features\n",
    "x = feature_set_hourly_h3_6_subset[input_features_h3_6]\n",
    "y = feature_set_hourly_h3_6_subset['trips']\n",
    "\n",
    "# Split dataset and scale features\n",
    "x_train_scaled, y_train, x_test_scaled, y_test = split_and_scale(x, y, 0.3)\n",
    "\n",
    "# Grid search\n",
    "grid_search_DL(x_train_scaled, y_train, build_model)"
   ]
  },
  {
   "cell_type": "code",
   "execution_count": 193,
   "metadata": {
    "colab": {
     "base_uri": "https://localhost:8080/"
    },
    "id": "3iCmjfGLmTFi",
    "outputId": "dc9c375a-b46c-49ae-fd6b-7e6dbd2200c2"
   },
   "outputs": [
    {
     "name": "stdout",
     "output_type": "stream",
     "text": [
      "2914/2914 [==============================] - 2s 512us/step - loss: 9515.1436 - mae: 51.2003\n",
      "2914/2914 [==============================] - 1s 491us/step\n",
      "Test MSE: 9515.1435546875\n",
      "Test MAE: 51.2003059387207\n",
      "R-squared: 0.9285926236637809\n"
     ]
    }
   ],
   "source": [
    "# Initializing input and target features\n",
    "x = feature_set_hourly_h3_6[input_features_h3_6]\n",
    "y = feature_set_hourly_h3_6['trips']\n",
    "\n",
    "# Split dataset and scale features\n",
    "x_train_scaled, y_train, x_test_scaled, y_test = split_and_scale(x, y, 0.3)\n",
    "\n",
    "# Evaluate model on test set\n",
    "params = {'hidden_layers': 2, 'learning_rate': 0.01, 'neurons': 256, 'optimizer': 'adam'}\n",
    "r2 = evaluate_model(x_train_scaled, y_train, x_test_scaled, y_test, build_model, params, batch_size=128)\n",
    "dl_metrics_h3_6.append(r2)"
   ]
  },
  {
   "cell_type": "code",
   "execution_count": 194,
   "metadata": {
    "colab": {
     "base_uri": "https://localhost:8080/"
    },
    "id": "uXjzvWjrO_II",
    "outputId": "625e1838-8138-4ebd-f6bc-75dd1afa7d17"
   },
   "outputs": [
    {
     "name": "stdout",
     "output_type": "stream",
     "text": [
      "Best: -5946.841298 using {'hidden_layers': 2, 'learning_rate': 0.01, 'neurons': 256, 'optimizer': 'adam'}\n"
     ]
    }
   ],
   "source": [
    "# Initializing input and target features\n",
    "x = feature_set_hourly_h3_7_subset[input_features_h3_7]\n",
    "y = feature_set_hourly_h3_7_subset['trips']\n",
    "\n",
    "# Split dataset and scale features\n",
    "x_train_scaled, y_train, x_test_scaled, y_test = split_and_scale(x, y, 0.3)\n",
    "\n",
    "# Grid search\n",
    "grid_search_DL(x_train_scaled, y_train, build_model)"
   ]
  },
  {
   "cell_type": "code",
   "execution_count": 195,
   "metadata": {
    "colab": {
     "base_uri": "https://localhost:8080/"
    },
    "id": "67Y1b5xImaZq",
    "outputId": "ddf30ec9-9ff1-476c-cd95-787b0c23af43"
   },
   "outputs": [
    {
     "name": "stdout",
     "output_type": "stream",
     "text": [
      "4154/4154 [==============================] - 2s 505us/step - loss: 2343.2744 - mae: 24.7417\n",
      "4154/4154 [==============================] - 2s 470us/step\n",
      "Test MSE: 2343.2744140625\n",
      "Test MAE: 24.741653442382812\n",
      "R-squared: 0.9388632177632379\n"
     ]
    }
   ],
   "source": [
    "# Initializing input and target features\n",
    "x = feature_set_hourly_h3_7[input_features_h3_7]\n",
    "y = feature_set_hourly_h3_7['trips']\n",
    "\n",
    "# Split dataset and scale features\n",
    "x_train_scaled, y_train, x_test_scaled, y_test = split_and_scale(x, y, 0.3)\n",
    "\n",
    "# Evaluate model on test set\n",
    "params = {'hidden_layers': 2, 'learning_rate': 0.01, 'neurons': 256, 'optimizer': 'adam'}\n",
    "r2 = evaluate_model(x_train_scaled, y_train, x_test_scaled, y_test, build_model, params, batch_size=256)\n",
    "dl_metrics_h3_7.append(r2)"
   ]
  },
  {
   "cell_type": "code",
   "execution_count": 196,
   "metadata": {
    "colab": {
     "base_uri": "https://localhost:8080/"
    },
    "id": "eIXQOwZ1PEWL",
    "outputId": "a356ca0d-8df4-4933-9fd2-cf43821700ab"
   },
   "outputs": [
    {
     "name": "stdout",
     "output_type": "stream",
     "text": [
      "Best: -414.570802 using {'hidden_layers': 2, 'learning_rate': 0.01, 'neurons': 256, 'optimizer': 'adam'}\n"
     ]
    }
   ],
   "source": [
    "# Initializing input and target features\n",
    "x = feature_set_hourly_h3_8_subset[input_features_h3_8]\n",
    "y = feature_set_hourly_h3_8_subset['trips']\n",
    "\n",
    "# Split dataset and scale features\n",
    "x_train_scaled, y_train, x_test_scaled, y_test = split_and_scale(x, y, 0.3)\n",
    "\n",
    "# Grid search\n",
    "grid_search_DL(x_train_scaled, y_train, build_model)"
   ]
  },
  {
   "cell_type": "code",
   "execution_count": 197,
   "metadata": {
    "colab": {
     "base_uri": "https://localhost:8080/"
    },
    "id": "KBoIDTvkmgPX",
    "outputId": "50e6a933-6ca7-497d-9b52-fa741bba927a"
   },
   "outputs": [
    {
     "name": "stdout",
     "output_type": "stream",
     "text": [
      "5190/5190 [==============================] - 3s 493us/step - loss: 169.5864 - mae: 6.8099\n",
      "5190/5190 [==============================] - 2s 459us/step\n",
      "Test MSE: 169.58641052246094\n",
      "Test MAE: 6.809940814971924\n",
      "R-squared: 0.9148245472214839\n"
     ]
    }
   ],
   "source": [
    "# Initializing input and target features\n",
    "x = feature_set_hourly_h3_8[input_features_h3_8]\n",
    "y = feature_set_hourly_h3_8['trips']\n",
    "\n",
    "# Split dataset and scale features\n",
    "x_train_scaled, y_train, x_test_scaled, y_test = split_and_scale(x, y, 0.3)\n",
    "\n",
    "# Evaluate model on test set\n",
    "params = {'hidden_layers': 2, 'learning_rate': 0.01, 'neurons': 256, 'optimizer': 'adam'}\n",
    "r2 = evaluate_model(x_train_scaled, y_train, x_test_scaled, y_test, build_model, params, batch_size=1024)\n",
    "dl_metrics_h3_8.append(r2)"
   ]
  },
  {
   "cell_type": "markdown",
   "metadata": {
    "id": "KAQUxlcpmi-e"
   },
   "source": [
    "#### 2-hourly basis"
   ]
  },
  {
   "cell_type": "code",
   "execution_count": 198,
   "metadata": {
    "colab": {
     "base_uri": "https://localhost:8080/"
    },
    "id": "tU0HmJlopGls",
    "outputId": "474940f6-2524-4df5-bc72-52bc9b38d58c"
   },
   "outputs": [
    {
     "name": "stdout",
     "output_type": "stream",
     "text": [
      "Best: -108528.255230 using {'hidden_layers': 2, 'learning_rate': 0.01, 'neurons': 256, 'optimizer': 'adam'}\n"
     ]
    }
   ],
   "source": [
    "# Initializing input and target features\n",
    "x = feature_set_2hourly_h3_6_subset[input_features_h3_6]\n",
    "y = feature_set_2hourly_h3_6_subset['trips']\n",
    "\n",
    "# Split dataset and scale features\n",
    "x_train_scaled, y_train, x_test_scaled, y_test = split_and_scale(x, y, 0.3)\n",
    "\n",
    "# Grid search\n",
    "grid_search_DL(x_train_scaled, y_train, build_model)"
   ]
  },
  {
   "cell_type": "code",
   "execution_count": 199,
   "metadata": {
    "colab": {
     "base_uri": "https://localhost:8080/"
    },
    "id": "Iglgh0NOpcGl",
    "outputId": "09735db8-1b96-4476-b791-1bc92599ab65"
   },
   "outputs": [
    {
     "name": "stdout",
     "output_type": "stream",
     "text": [
      "1704/1704 [==============================] - 1s 516us/step - loss: 37725.8594 - mae: 100.8699\n",
      "1704/1704 [==============================] - 1s 472us/step\n",
      "Test MSE: 37725.859375\n",
      "Test MAE: 100.86993408203125\n",
      "R-squared: 0.9265522611437618\n"
     ]
    }
   ],
   "source": [
    "# Initializing input and target features\n",
    "x = feature_set_2hourly_h3_6[input_features_h3_6]\n",
    "y = feature_set_2hourly_h3_6['trips']\n",
    "\n",
    "# Split dataset and scale features\n",
    "x_train_scaled, y_train, x_test_scaled, y_test = split_and_scale(x, y, 0.3)\n",
    "\n",
    "# Evaluate model on test set\n",
    "params = {'hidden_layers': 2, 'learning_rate': 0.01, 'neurons': 256, 'optimizer': 'adam'}\n",
    "r2 = evaluate_model(x_train_scaled, y_train, x_test_scaled, y_test, build_model, params, batch_size=32)\n",
    "dl_metrics_h3_6.append(r2)"
   ]
  },
  {
   "cell_type": "code",
   "execution_count": 200,
   "metadata": {
    "colab": {
     "base_uri": "https://localhost:8080/"
    },
    "id": "PJK4M8gvrkBu",
    "outputId": "b9ec63b5-1db2-4a58-9b94-88b4872620bd"
   },
   "outputs": [
    {
     "name": "stdout",
     "output_type": "stream",
     "text": [
      "Best: -22959.258069 using {'hidden_layers': 2, 'learning_rate': 0.01, 'neurons': 256, 'optimizer': 'adam'}\n"
     ]
    }
   ],
   "source": [
    "# Initializing input and target features\n",
    "x = feature_set_2hourly_h3_7_subset[input_features_h3_7]\n",
    "y = feature_set_2hourly_h3_7_subset['trips']\n",
    "\n",
    "# Split dataset and scale features\n",
    "x_train_scaled, y_train, x_test_scaled, y_test = split_and_scale(x, y, 0.3)\n",
    "\n",
    "# Grid search\n",
    "grid_search_DL(x_train_scaled, y_train, build_model)"
   ]
  },
  {
   "cell_type": "code",
   "execution_count": 201,
   "metadata": {
    "colab": {
     "base_uri": "https://localhost:8080/"
    },
    "id": "IxrLLVwvrku1",
    "outputId": "7ec72295-51b5-4d26-bb12-a17a170fd04c"
   },
   "outputs": [
    {
     "name": "stdout",
     "output_type": "stream",
     "text": [
      "2517/2517 [==============================] - 1s 515us/step - loss: 8380.8037 - mae: 43.5297\n",
      "2517/2517 [==============================] - 1s 473us/step\n",
      "Test MSE: 8380.8037109375\n",
      "Test MAE: 43.52971649169922\n",
      "R-squared: 0.9415961664285368\n"
     ]
    }
   ],
   "source": [
    "# Initializing input and target features\n",
    "x = feature_set_2hourly_h3_7[input_features_h3_7]\n",
    "y = feature_set_2hourly_h3_7['trips']\n",
    "\n",
    "# Split dataset and scale features\n",
    "x_train_scaled, y_train, x_test_scaled, y_test = split_and_scale(x, y, 0.3)\n",
    "\n",
    "# Evaluate model on test set\n",
    "params = {'hidden_layers': 2, 'learning_rate': 0.01, 'neurons': 256, 'optimizer': 'adam'}\n",
    "r2 = evaluate_model(x_train_scaled, y_train, x_test_scaled, y_test, build_model, params, batch_size=128)\n",
    "dl_metrics_h3_7.append(r2)"
   ]
  },
  {
   "cell_type": "code",
   "execution_count": 202,
   "metadata": {
    "colab": {
     "base_uri": "https://localhost:8080/"
    },
    "id": "E99jHeaDrpDk",
    "outputId": "e027d120-bcb9-4d9d-f640-eeb57def7eca"
   },
   "outputs": [
    {
     "name": "stdout",
     "output_type": "stream",
     "text": [
      "Best: -1553.649159 using {'hidden_layers': 2, 'learning_rate': 0.01, 'neurons': 256, 'optimizer': 'adam'}\n"
     ]
    }
   ],
   "source": [
    "# Initializing input and target features\n",
    "x = feature_set_2hourly_h3_8_subset[input_features_h3_8]\n",
    "y = feature_set_2hourly_h3_8_subset['trips']\n",
    "\n",
    "# Split dataset and scale features\n",
    "x_train_scaled, y_train, x_test_scaled, y_test = split_and_scale(x, y, 0.3)\n",
    "\n",
    "# Grid search\n",
    "grid_search_DL(x_train_scaled, y_train, build_model)"
   ]
  },
  {
   "cell_type": "code",
   "execution_count": 203,
   "metadata": {
    "colab": {
     "base_uri": "https://localhost:8080/"
    },
    "id": "SmrmCK6Mrpnt",
    "outputId": "57e0a4d4-38bc-4903-cb48-0684c6024d9f"
   },
   "outputs": [
    {
     "name": "stdout",
     "output_type": "stream",
     "text": [
      "3255/3255 [==============================] - 2s 511us/step - loss: 580.2434 - mae: 11.7220\n",
      "3255/3255 [==============================] - 2s 473us/step\n",
      "Test MSE: 580.243408203125\n",
      "Test MAE: 11.721993446350098\n",
      "R-squared: 0.9179423924336646\n"
     ]
    }
   ],
   "source": [
    "# Initializing input and target features\n",
    "x = feature_set_2hourly_h3_8[input_features_h3_8]\n",
    "y = feature_set_2hourly_h3_8['trips']\n",
    "\n",
    "# Split dataset and scale features\n",
    "x_train_scaled, y_train, x_test_scaled, y_test = split_and_scale(x, y, 0.3)\n",
    "\n",
    "# Evaluate model on test set\n",
    "params = {'hidden_layers': 2, 'learning_rate': 0.01, 'neurons': 256, 'optimizer': 'adam'}\n",
    "r2 = evaluate_model(x_train_scaled, y_train, x_test_scaled, y_test, build_model, params, batch_size=256)\n",
    "dl_metrics_h3_8.append(r2)"
   ]
  },
  {
   "cell_type": "markdown",
   "metadata": {
    "id": "OWl-JbQVpIUI"
   },
   "source": [
    "#### 6-hourly basis"
   ]
  },
  {
   "cell_type": "code",
   "execution_count": 204,
   "metadata": {
    "colab": {
     "base_uri": "https://localhost:8080/"
    },
    "id": "9kQ456odpJSN",
    "outputId": "c1a44675-4aa4-4706-b441-adbc4ee92314"
   },
   "outputs": [
    {
     "name": "stdout",
     "output_type": "stream",
     "text": [
      "Best: -620647.576008 using {'hidden_layers': 2, 'learning_rate': 0.01, 'neurons': 256, 'optimizer': 'adam'}\n"
     ]
    }
   ],
   "source": [
    "# Initializing input and target features\n",
    "x = feature_set_6hourly_h3_6_subset[input_features_h3_6]\n",
    "y = feature_set_6hourly_h3_6_subset['trips']\n",
    "\n",
    "# Split dataset and scale features\n",
    "x_train_scaled, y_train, x_test_scaled, y_test = split_and_scale(x, y, 0.3)\n",
    "\n",
    "# Grid search\n",
    "grid_search_DL(x_train_scaled, y_train, build_model)"
   ]
  },
  {
   "cell_type": "code",
   "execution_count": 205,
   "metadata": {
    "colab": {
     "base_uri": "https://localhost:8080/"
    },
    "id": "T9j5liB4rhke",
    "outputId": "3eedb138-945c-429e-8968-3da6de11ff4e"
   },
   "outputs": [
    {
     "name": "stdout",
     "output_type": "stream",
     "text": [
      "738/738 [==============================] - 0s 523us/step - loss: 231792.3906 - mae: 238.1379\n",
      "738/738 [==============================] - 0s 481us/step\n",
      "Test MSE: 231792.390625\n",
      "Test MAE: 238.13787841796875\n",
      "R-squared: 0.9398796133089528\n"
     ]
    }
   ],
   "source": [
    "# Initializing input and target features\n",
    "x = feature_set_6hourly_h3_6[input_features_h3_6]\n",
    "y = feature_set_6hourly_h3_6['trips']\n",
    "\n",
    "# Split dataset and scale features\n",
    "x_train_scaled, y_train, x_test_scaled, y_test = split_and_scale(x, y, 0.3)\n",
    "\n",
    "# Evaluate model on test set\n",
    "params = {'hidden_layers': 2, 'learning_rate': 0.01, 'neurons': 256, 'optimizer': 'adam'}\n",
    "r2 = evaluate_model(x_train_scaled, y_train, x_test_scaled, y_test, build_model, params, batch_size=16)\n",
    "dl_metrics_h3_6.append(r2)"
   ]
  },
  {
   "cell_type": "code",
   "execution_count": 206,
   "metadata": {
    "colab": {
     "base_uri": "https://localhost:8080/"
    },
    "id": "MHIj-CbItb5t",
    "outputId": "73508ae9-cb02-4fe2-aaa9-80b9551f02eb"
   },
   "outputs": [
    {
     "name": "stdout",
     "output_type": "stream",
     "text": [
      "Best: -116184.120560 using {'hidden_layers': 2, 'learning_rate': 0.01, 'neurons': 256, 'optimizer': 'adam'}\n"
     ]
    }
   ],
   "source": [
    "# Initializing input and target features\n",
    "x = feature_set_6hourly_h3_7_subset[input_features_h3_7]\n",
    "y = feature_set_6hourly_h3_7_subset['trips']\n",
    "\n",
    "# Split dataset and scale features\n",
    "x_train_scaled, y_train, x_test_scaled, y_test = split_and_scale(x, y, 0.3)\n",
    "\n",
    "# Grid search\n",
    "grid_search_DL(x_train_scaled, y_train, build_model)"
   ]
  },
  {
   "cell_type": "code",
   "execution_count": 207,
   "metadata": {
    "colab": {
     "base_uri": "https://localhost:8080/"
    },
    "id": "kL6Q8oz53GMp",
    "outputId": "e5390cff-1f51-449d-b576-d09fa795e44c"
   },
   "outputs": [
    {
     "name": "stdout",
     "output_type": "stream",
     "text": [
      "1156/1156 [==============================] - 1s 519us/step - loss: 57706.4805 - mae: 119.2968\n",
      "1156/1156 [==============================] - 1s 480us/step\n",
      "Test MSE: 57706.48046875\n",
      "Test MAE: 119.29684448242188\n",
      "R-squared: 0.9458298907362939\n"
     ]
    }
   ],
   "source": [
    "# Initializing input and target features\n",
    "x = feature_set_6hourly_h3_7[input_features_h3_7]\n",
    "y = feature_set_6hourly_h3_7['trips']\n",
    "\n",
    "# Split dataset and scale features\n",
    "x_train_scaled, y_train, x_test_scaled, y_test = split_and_scale(x, y, 0.3)\n",
    "\n",
    "# Evaluate model on test set\n",
    "params = {'hidden_layers': 2, 'learning_rate': 0.01, 'neurons': 256, 'optimizer': 'adam'}\n",
    "r2 = evaluate_model(x_train_scaled, y_train, x_test_scaled, y_test, build_model, params, batch_size=64)\n",
    "dl_metrics_h3_7.append(r2)"
   ]
  },
  {
   "cell_type": "code",
   "execution_count": 208,
   "metadata": {
    "colab": {
     "base_uri": "https://localhost:8080/"
    },
    "id": "AMAQTy_Pt137",
    "outputId": "06fdcab9-56b4-436f-b1e7-e299bac27a6e"
   },
   "outputs": [
    {
     "name": "stdout",
     "output_type": "stream",
     "text": [
      "Best: -6634.792689 using {'hidden_layers': 2, 'learning_rate': 0.01, 'neurons': 256, 'optimizer': 'adam'}\n"
     ]
    }
   ],
   "source": [
    "# Initializing input and target features\n",
    "x = feature_set_6hourly_h3_8_subset[input_features_h3_8]\n",
    "y = feature_set_6hourly_h3_8_subset['trips']\n",
    "\n",
    "# Split dataset and scale features\n",
    "x_train_scaled, y_train, x_test_scaled, y_test = split_and_scale(x, y, 0.3)\n",
    "\n",
    "# Grid search\n",
    "grid_search_DL(x_train_scaled, y_train, build_model)"
   ]
  },
  {
   "cell_type": "code",
   "execution_count": 209,
   "metadata": {
    "colab": {
     "base_uri": "https://localhost:8080/"
    },
    "id": "OyTCeOz4thAw",
    "outputId": "45f866e5-807c-4725-b922-9de30b1c477f"
   },
   "outputs": [
    {
     "name": "stdout",
     "output_type": "stream",
     "text": [
      "1572/1572 [==============================] - 1s 509us/step - loss: 2823.5469 - mae: 23.9122\n",
      "1572/1572 [==============================] - 1s 477us/step\n",
      "Test MSE: 2823.546875\n",
      "Test MAE: 23.912185668945312\n",
      "R-squared: 0.9380878239071523\n"
     ]
    }
   ],
   "source": [
    "# Initializing input and target features\n",
    "x = feature_set_6hourly_h3_8[input_features_h3_8]\n",
    "y = feature_set_6hourly_h3_8['trips']\n",
    "\n",
    "# Split dataset and scale features\n",
    "x_train_scaled, y_train, x_test_scaled, y_test = split_and_scale(x, y, 0.3)\n",
    "\n",
    "# Evaluate model on test set\n",
    "params = {'hidden_layers': 2, 'learning_rate': 0.01, 'neurons': 256, 'optimizer': 'adam'}\n",
    "r2 = evaluate_model(x_train_scaled, y_train, x_test_scaled, y_test, build_model, params, batch_size=128)\n",
    "dl_metrics_h3_8.append(r2)"
   ]
  },
  {
   "cell_type": "markdown",
   "metadata": {
    "id": "SNQYisWYpJn2"
   },
   "source": [
    "#### Daily basis"
   ]
  },
  {
   "cell_type": "code",
   "execution_count": 210,
   "metadata": {
    "colab": {
     "base_uri": "https://localhost:8080/"
    },
    "id": "W98rZWOXpK_Z",
    "outputId": "6b903812-d9df-41d3-ee50-b1d0b36d1552"
   },
   "outputs": [
    {
     "name": "stdout",
     "output_type": "stream",
     "text": [
      "Best: -3833423.874470 using {'hidden_layers': 2, 'learning_rate': 0.01, 'neurons': 256, 'optimizer': 'rmsprop'}\n"
     ]
    }
   ],
   "source": [
    "# Initializing input and target features\n",
    "x = feature_set_daily_h3_6_subset[input_features_h3_6_daily]\n",
    "y = feature_set_daily_h3_6_subset['trips']\n",
    "\n",
    "# Split dataset and scale features\n",
    "x_train_scaled, y_train, x_test_scaled, y_test = split_and_scale(x, y, 0.3)\n",
    "\n",
    "# Grid search\n",
    "grid_search_DL(x_train_scaled, y_train, build_model)"
   ]
  },
  {
   "cell_type": "code",
   "execution_count": 211,
   "metadata": {
    "colab": {
     "base_uri": "https://localhost:8080/"
    },
    "id": "MN4B9zlEpqJL",
    "outputId": "878c4566-f478-4b93-8861-00f02811f12b"
   },
   "outputs": [
    {
     "name": "stdout",
     "output_type": "stream",
     "text": [
      "247/247 [==============================] - 0s 405us/step - loss: 1736088.5000 - mae: 615.6874\n",
      "247/247 [==============================] - 0s 354us/step\n",
      "Test MSE: 1736088.5\n",
      "Test MAE: 615.6874389648438\n",
      "R-squared: 0.9535474393831112\n"
     ]
    }
   ],
   "source": [
    "# Initializing input and target features\n",
    "x = feature_set_daily_h3_6[input_features_h3_6_daily]\n",
    "y = feature_set_daily_h3_6['trips']\n",
    "\n",
    "# Split dataset and scale features\n",
    "x_train_scaled, y_train, x_test_scaled, y_test = split_and_scale(x, y, 0.3)\n",
    "\n",
    "# Evaluate model on test set\n",
    "params = {'hidden_layers': 2, 'learning_rate': 0.01, 'neurons': 128, 'optimizer': 'rmsprop'}\n",
    "r2 = evaluate_model(x_train_scaled, y_train, x_test_scaled, y_test, build_model, params, batch_size=16)\n",
    "dl_metrics_h3_6.append(r2)"
   ]
  },
  {
   "cell_type": "code",
   "execution_count": 212,
   "metadata": {
    "colab": {
     "base_uri": "https://localhost:8080/"
    },
    "id": "HDm2CuCst68P",
    "outputId": "e5d4cc48-e9b3-4d0c-c111-f89ce3b02df7"
   },
   "outputs": [
    {
     "name": "stdout",
     "output_type": "stream",
     "text": [
      "Best: -681261.133926 using {'hidden_layers': 2, 'learning_rate': 0.01, 'neurons': 256, 'optimizer': 'adam'}\n"
     ]
    }
   ],
   "source": [
    "# Initializing input and target features\n",
    "x = feature_set_daily_h3_7_subset[input_features_h3_7_daily]\n",
    "y = feature_set_daily_h3_7_subset['trips']\n",
    "\n",
    "# Split dataset and scale features\n",
    "x_train_scaled, y_train, x_test_scaled, y_test = split_and_scale(x, y, 0.3)\n",
    "\n",
    "# Grid search\n",
    "grid_search_DL(x_train_scaled, y_train, build_model)"
   ]
  },
  {
   "cell_type": "code",
   "execution_count": 213,
   "metadata": {
    "colab": {
     "base_uri": "https://localhost:8080/"
    },
    "id": "0zmq5U4k69Gi",
    "outputId": "6361a0f3-e7e0-4848-8eb3-33b4fc2b94fd"
   },
   "outputs": [
    {
     "name": "stdout",
     "output_type": "stream",
     "text": [
      "433/433 [==============================] - 0s 385us/step - loss: 360873.8125 - mae: 252.1482\n",
      "433/433 [==============================] - 0s 336us/step\n",
      "Test MSE: 360873.8125\n",
      "Test MAE: 252.1482391357422\n",
      "R-squared: 0.964151796293799\n"
     ]
    }
   ],
   "source": [
    "# Initializing input and target features\n",
    "x = feature_set_daily_h3_7[input_features_h3_7_daily]\n",
    "y = feature_set_daily_h3_7['trips']\n",
    "\n",
    "# Split dataset and scale features\n",
    "x_train_scaled, y_train, x_test_scaled, y_test = split_and_scale(x, y, 0.3)\n",
    "\n",
    "# Evaluate model on test set\n",
    "params = {'hidden_layers': 2, 'learning_rate': 0.01, 'neurons': 128, 'optimizer': 'rmsprop'}\n",
    "r2 = evaluate_model(x_train_scaled, y_train, x_test_scaled, y_test, build_model, params, batch_size=16)\n",
    "dl_metrics_h3_7.append(r2)"
   ]
  },
  {
   "cell_type": "code",
   "execution_count": 214,
   "metadata": {
    "colab": {
     "base_uri": "https://localhost:8080/"
    },
    "id": "XPRU6k4Et7ax",
    "outputId": "f18e9cad-2727-4af4-e90d-bf6e2d74b797"
   },
   "outputs": [
    {
     "name": "stdout",
     "output_type": "stream",
     "text": [
      "Best: -31392.116419 using {'hidden_layers': 2, 'learning_rate': 0.01, 'neurons': 256, 'optimizer': 'adam'}\n"
     ]
    }
   ],
   "source": [
    "# Initializing input and target features\n",
    "x = feature_set_daily_h3_8_subset[input_features_h3_8_daily]\n",
    "y = feature_set_daily_h3_8_subset['trips']\n",
    "\n",
    "# Split dataset and scale features\n",
    "x_train_scaled, y_train, x_test_scaled, y_test = split_and_scale(x, y, 0.3)\n",
    "\n",
    "# Grid search\n",
    "grid_search_DL(x_train_scaled, y_train, build_model)"
   ]
  },
  {
   "cell_type": "code",
   "execution_count": 215,
   "metadata": {
    "colab": {
     "base_uri": "https://localhost:8080/"
    },
    "id": "LN_RNujP69dd",
    "outputId": "b2fc3173-5535-4e6a-8791-19ef12fc657c"
   },
   "outputs": [
    {
     "name": "stdout",
     "output_type": "stream",
     "text": [
      "643/643 [==============================] - 0s 531us/step - loss: 18700.9258 - mae: 57.3724\n",
      "643/643 [==============================] - 0s 480us/step\n",
      "Test MSE: 18700.92578125\n",
      "Test MAE: 57.37240982055664\n",
      "R-squared: 0.9489842357092666\n"
     ]
    }
   ],
   "source": [
    "# Initializing input and target features\n",
    "x = feature_set_daily_h3_8[input_features_h3_8_daily]\n",
    "y = feature_set_daily_h3_8['trips']\n",
    "\n",
    "# Split dataset and scale features\n",
    "x_train_scaled, y_train, x_test_scaled, y_test = split_and_scale(x, y, 0.3)\n",
    "\n",
    "# Evaluate model on test set\n",
    "params = {'hidden_layers': 2, 'learning_rate': 0.01, 'neurons': 256, 'optimizer': 'adam'}\n",
    "r2 = evaluate_model(x_train_scaled, y_train, x_test_scaled, y_test, build_model, params, batch_size=32)\n",
    "dl_metrics_h3_8.append(r2)"
   ]
  },
  {
   "cell_type": "markdown",
   "metadata": {
    "id": "RqqkaDNsVQtR"
   },
   "source": [
    "#### Summary Deep Learning\n",
    "\n",
    "To compare the above trained and evaluated models, we will compare the resulting metrics, in the form of R2 scores, that we stored in the corresponding lists. The values in the lists will be in the following order: [hourly, 2-hourly, 6-hourly, daily]"
   ]
  },
  {
   "cell_type": "code",
   "execution_count": 216,
   "metadata": {
    "colab": {
     "base_uri": "https://localhost:8080/"
    },
    "id": "75MK5dmmV3nG",
    "outputId": "198aff3a-4c5d-430a-b221-779de04ac5e7"
   },
   "outputs": [
    {
     "name": "stdout",
     "output_type": "stream",
     "text": [
      "R2 Scores for Census Tract: [0.8851116421450557, 0.9109947471473437, 0.9319615029394047, 0.9325633974562613]\n",
      "R2 Scores for H3 Res=6    : [0.9285926236637809, 0.9265522611437618, 0.9398796133089528, 0.9535474393831112]\n",
      "R2 Scores for H3 Res=7    : [0.9388632177632379, 0.9415961664285368, 0.9458298907362939, 0.964151796293799]\n",
      "R2 Scores for H3 Res=8    : [0.9148245472214839, 0.9179423924336646, 0.9380878239071523, 0.9489842357092666]\n"
     ]
    }
   ],
   "source": [
    "print('R2 Scores for Census Tract:', dl_metrics_ct)\n",
    "print('R2 Scores for H3 Res=6    :', dl_metrics_h3_6)\n",
    "print('R2 Scores for H3 Res=7    :', dl_metrics_h3_7)\n",
    "print('R2 Scores for H3 Res=8    :', dl_metrics_h3_8)"
   ]
  },
  {
   "cell_type": "code",
   "execution_count": 217,
   "metadata": {
    "colab": {
     "base_uri": "https://localhost:8080/",
     "height": 472
    },
    "id": "qDIqn91jVTfm",
    "outputId": "63421b93-4313-4dc4-c7f6-ae570b26f2de"
   },
   "outputs": [
    {
     "data": {
      "image/png": "[encoded data removed]",
      "text/plain": [
       "<Figure size 640x480 with 1 Axes>"
      ]
     },
     "metadata": {},
     "output_type": "display_data"
    }
   ],
   "source": [
    "import matplotlib.pyplot as plt\n",
    "\n",
    "# Create a figure and axis\n",
    "fig, ax = plt.subplots()\n",
    "\n",
    "# Plot the R2 scores for different models\n",
    "ax.plot(dl_metrics_ct, label='Census Tract')\n",
    "ax.plot(dl_metrics_h3_6, label='H3 (Resolution 6)')\n",
    "ax.plot(dl_metrics_h3_7, label='H3 (Resolution 7)')\n",
    "ax.plot(dl_metrics_h3_8, label='H3 (Resolution 8)')\n",
    "\n",
    "# Set labels and title\n",
    "ax.set_xlabel('Metric Index: hourly | 2-hourly | 6-hourly | daily')\n",
    "ax.set_ylabel('R2 Score')\n",
    "ax.set_title('SVR Model: R2 Scores')\n",
    "ax.legend()\n",
    "\n",
    "# Show the plot\n",
    "plt.show()\n",
    "fig.savefig('data/04_prediction_dl_metrics.png')"
   ]
  },
  {
   "cell_type": "markdown",
   "metadata": {
    "id": "Oy46SWd5WAer"
   },
   "source": [
    "The results will be discussed in detail in the report. In general, we can observe the same trend as with SVM, that larger time buckets lead to higher performances. The performance of Census Tract and H3 (Res=8) are very similar as well as the performance of H3 (Res=6) and H3 (Res=7). Also the R-squared scores of the deep learning models in general appear to be higher than the ones obtained with SVM regression, which is also influenced by the fact that we only used subsets of the data to train the SVM models (since the whole datasets are too large and thus not compatible)."
   ]
  }
 ],
 "metadata": {
  "colab": {
   "provenance": []
  },
  "kernelspec": {
   "display_name": "Python 3 (ipykernel)",
   "language": "python",
   "name": "python3"
  },
  "language_info": {
   "codemirror_mode": {
    "name": "ipython",
    "version": 3
   },
   "file_extension": ".py",
   "mimetype": "text/x-python",
   "name": "python",
   "nbconvert_exporter": "python",
   "pygments_lexer": "ipython3",
   "version": "3.8.17"
  }
 },
 "nbformat": 4,
 "nbformat_minor": 1
}
