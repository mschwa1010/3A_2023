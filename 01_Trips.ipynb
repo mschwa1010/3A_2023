{
 "cells": [
  {
   "cell_type": "markdown",
   "id": "4140d42d",
   "metadata": {},
   "source": [
    "# 01 Trips"
   ]
  },
  {
   "cell_type": "markdown",
   "id": "9c81282c",
   "metadata": {},
   "source": [
    "In this notebook, the 2013 Chicago taxi trips dataset is prepared and cleaned for later usage."
   ]
  },
  {
   "cell_type": "code",
   "execution_count": 1,
   "id": "2347c092",
   "metadata": {},
   "outputs": [],
   "source": [
    "## Import libraries\n",
    "## Until WS05\n",
    "import numpy as np\n",
    "import pandas as pd\n",
    "import datetime\n",
    "\n",
    "## Visualization\n",
    "import matplotlib as mpl\n",
    "import matplotlib.pyplot as plt\n",
    "import seaborn as sns\n",
    "\n",
    "## For saving files\n",
    "from pathlib import Path "
   ]
  },
  {
   "cell_type": "markdown",
   "id": "9dff036f",
   "metadata": {},
   "source": [
    "### Get Data"
   ]
  },
  {
   "cell_type": "code",
   "execution_count": null,
   "id": "ec0fbccc",
   "metadata": {
    "scrolled": true
   },
   "outputs": [],
   "source": [
    "## Load file\n",
    "## Other imports possible (e.g. pyArrow)\n",
    "#df_trips = pd.read_csv(\"Taxi_Trips_-_2013.csv\")\n",
    "df_trips = pd.read_csv(\"Taxi_Trips_-_2013.csv\", parse_dates=['Trip Start Timestamp'], engine=\"pyarrow\")\n",
    "print(\"Number of rows:    \", len(df_trips))\n",
    "print(\"Number of columns: \", len(df_trips.columns))\n",
    "df_trips.head(5)"
   ]
  },
  {
   "cell_type": "markdown",
   "id": "b5448209",
   "metadata": {},
   "source": [
    "Now, we remove all columns that do not offer any kind of additional and potentially important information, as well as all rows that do not have actual values for Trip Seconds or Trip Miles."
   ]
  },
  {
   "cell_type": "code",
   "execution_count": 3,
   "id": "ddf6666d",
   "metadata": {},
   "outputs": [],
   "source": [
    "## Drop columns\n",
    "df_trips = df_trips.drop(['Trip End Timestamp','Extras', 'Payment Type', 'Company', 'Fare', 'Tips', 'Tolls', 'Pickup Centroid Latitude', 'Pickup Centroid Longitude', 'Dropoff Centroid Latitude', 'Dropoff Centroid Longitude'], axis=1)\n",
    "\n",
    "## Drop rows mit NaN or negative / 0 values\n",
    "df_trips = df_trips.dropna(subset=['Trip Seconds', 'Trip Miles'])\n",
    "df_trips = df_trips[(df_trips[['Trip Seconds','Trip Miles']] > 0).all(axis=1)]"
   ]
  },
  {
   "cell_type": "code",
   "execution_count": 4,
   "id": "df067079",
   "metadata": {
    "scrolled": true
   },
   "outputs": [
    {
     "name": "stdout",
     "output_type": "stream",
     "text": [
      "<class 'pandas.core.frame.DataFrame'>\n",
      "Int64Index: 15077204 entries, 0 to 27217707\n",
      "Data columns (total 12 columns):\n",
      " #   Column                      Dtype  \n",
      "---  ------                      -----  \n",
      " 0   Trip ID                     object \n",
      " 1   Taxi ID                     object \n",
      " 2   Trip Start Timestamp        object \n",
      " 3   Trip Seconds                float64\n",
      " 4   Trip Miles                  float64\n",
      " 5   Pickup Census Tract         float64\n",
      " 6   Dropoff Census Tract        float64\n",
      " 7   Pickup Community Area       float64\n",
      " 8   Dropoff Community Area      float64\n",
      " 9   Trip Total                  float64\n",
      " 10  Pickup Centroid Location    object \n",
      " 11  Dropoff Centroid  Location  object \n",
      "dtypes: float64(7), object(5)\n",
      "memory usage: 1.5+ GB\n"
     ]
    }
   ],
   "source": [
    "df_trips.info()"
   ]
  },
  {
   "cell_type": "markdown",
   "id": "3f948776",
   "metadata": {},
   "source": [
    "We can see that the timestamps are not yet in datetime format, and the trip distance is given in miles which is harder to interpret for the target audience (German car manufacturer). "
   ]
  },
  {
   "cell_type": "code",
   "execution_count": 5,
   "id": "6ce1733d",
   "metadata": {
    "scrolled": true
   },
   "outputs": [
    {
     "data": {
      "text/html": [
       "<div>\n",
       "<style scoped>\n",
       "    .dataframe tbody tr th:only-of-type {\n",
       "        vertical-align: middle;\n",
       "    }\n",
       "\n",
       "    .dataframe tbody tr th {\n",
       "        vertical-align: top;\n",
       "    }\n",
       "\n",
       "    .dataframe thead th {\n",
       "        text-align: right;\n",
       "    }\n",
       "</style>\n",
       "<table border=\"1\" class=\"dataframe\">\n",
       "  <thead>\n",
       "    <tr style=\"text-align: right;\">\n",
       "      <th></th>\n",
       "      <th>Trip ID</th>\n",
       "      <th>Taxi ID</th>\n",
       "      <th>Trip Start Timestamp</th>\n",
       "      <th>Trip Seconds</th>\n",
       "      <th>Trip Kilometers</th>\n",
       "      <th>Pickup Census Tract</th>\n",
       "      <th>Dropoff Census Tract</th>\n",
       "      <th>Pickup Community Area</th>\n",
       "      <th>Dropoff Community Area</th>\n",
       "      <th>Trip Total</th>\n",
       "      <th>Pickup Centroid Location</th>\n",
       "      <th>Dropoff Centroid  Location</th>\n",
       "    </tr>\n",
       "  </thead>\n",
       "  <tbody>\n",
       "    <tr>\n",
       "      <th>0</th>\n",
       "      <td>f4eeac57641ccafac957e7640c59be67b3d235d9</td>\n",
       "      <td>1db11e4e66375f35ed6a59eb06eb997fc7e23e3fdcbb3b...</td>\n",
       "      <td>2013-01-20 01:15:00</td>\n",
       "      <td>300.0</td>\n",
       "      <td>1.448410</td>\n",
       "      <td>1.703183e+10</td>\n",
       "      <td>1.703183e+10</td>\n",
       "      <td>28.0</td>\n",
       "      <td>28.0</td>\n",
       "      <td>6.45</td>\n",
       "      <td>POINT (-87.6572331997 41.8852813201)</td>\n",
       "      <td>POINT (-87.6572331997 41.8852813201)</td>\n",
       "    </tr>\n",
       "    <tr>\n",
       "      <th>1</th>\n",
       "      <td>600ea9d83f5fd1b07d698d7a8e4d132c146b3d4c</td>\n",
       "      <td>a0a66f6e978125e040111831d60457ff2551356865bd69...</td>\n",
       "      <td>2013-02-19 10:15:00</td>\n",
       "      <td>540.0</td>\n",
       "      <td>2.092147</td>\n",
       "      <td>1.703132e+10</td>\n",
       "      <td>1.703108e+10</td>\n",
       "      <td>32.0</td>\n",
       "      <td>8.0</td>\n",
       "      <td>7.25</td>\n",
       "      <td>POINT (-87.6209929134 41.8849871918)</td>\n",
       "      <td>POINT (-87.6262105324 41.8991556134)</td>\n",
       "    </tr>\n",
       "    <tr>\n",
       "      <th>2</th>\n",
       "      <td>f20e25252ad57949c37aabdc8d4ad3102ecae22f</td>\n",
       "      <td>4fdfda1ef9a53850fc350d2834bfd9086e4a622f5e06cd...</td>\n",
       "      <td>2013-03-04 17:30:00</td>\n",
       "      <td>300.0</td>\n",
       "      <td>1.287475</td>\n",
       "      <td>1.703108e+10</td>\n",
       "      <td>1.703108e+10</td>\n",
       "      <td>8.0</td>\n",
       "      <td>8.0</td>\n",
       "      <td>6.45</td>\n",
       "      <td>POINT (-87.6188683546 41.8909220259)</td>\n",
       "      <td>POINT (-87.6291051864 41.9002212967)</td>\n",
       "    </tr>\n",
       "    <tr>\n",
       "      <th>3</th>\n",
       "      <td>534eafce867e1da9a4e298f41f997098b7ade02d</td>\n",
       "      <td>fd3dde755823d853a88fa12d98777b10b5708426e575db...</td>\n",
       "      <td>2013-02-28 12:45:00</td>\n",
       "      <td>720.0</td>\n",
       "      <td>4.345229</td>\n",
       "      <td>NaN</td>\n",
       "      <td>NaN</td>\n",
       "      <td>34.0</td>\n",
       "      <td>32.0</td>\n",
       "      <td>11.85</td>\n",
       "      <td>POINT (-87.6339734222 41.8420761168)</td>\n",
       "      <td>POINT (-87.6251921424 41.8788655841)</td>\n",
       "    </tr>\n",
       "    <tr>\n",
       "      <th>4</th>\n",
       "      <td>0c883ed5c2d7a684bdf11071cea591bc72354b6c</td>\n",
       "      <td>12f6dc49f676b830a5b2c718a872f31d784c5e94aae68c...</td>\n",
       "      <td>2013-02-19 15:00:00</td>\n",
       "      <td>120.0</td>\n",
       "      <td>0.482803</td>\n",
       "      <td>1.703108e+10</td>\n",
       "      <td>1.703108e+10</td>\n",
       "      <td>8.0</td>\n",
       "      <td>8.0</td>\n",
       "      <td>3.85</td>\n",
       "      <td>POINT (-87.6262105324 41.8991556134)</td>\n",
       "      <td>POINT (-87.6266589003 41.90752007470001)</td>\n",
       "    </tr>\n",
       "  </tbody>\n",
       "</table>\n",
       "</div>"
      ],
      "text/plain": [
       "                                    Trip ID  \\\n",
       "0  f4eeac57641ccafac957e7640c59be67b3d235d9   \n",
       "1  600ea9d83f5fd1b07d698d7a8e4d132c146b3d4c   \n",
       "2  f20e25252ad57949c37aabdc8d4ad3102ecae22f   \n",
       "3  534eafce867e1da9a4e298f41f997098b7ade02d   \n",
       "4  0c883ed5c2d7a684bdf11071cea591bc72354b6c   \n",
       "\n",
       "                                             Taxi ID Trip Start Timestamp  \\\n",
       "0  1db11e4e66375f35ed6a59eb06eb997fc7e23e3fdcbb3b...  2013-01-20 01:15:00   \n",
       "1  a0a66f6e978125e040111831d60457ff2551356865bd69...  2013-02-19 10:15:00   \n",
       "2  4fdfda1ef9a53850fc350d2834bfd9086e4a622f5e06cd...  2013-03-04 17:30:00   \n",
       "3  fd3dde755823d853a88fa12d98777b10b5708426e575db...  2013-02-28 12:45:00   \n",
       "4  12f6dc49f676b830a5b2c718a872f31d784c5e94aae68c...  2013-02-19 15:00:00   \n",
       "\n",
       "   Trip Seconds  Trip Kilometers  Pickup Census Tract  Dropoff Census Tract  \\\n",
       "0         300.0         1.448410         1.703183e+10          1.703183e+10   \n",
       "1         540.0         2.092147         1.703132e+10          1.703108e+10   \n",
       "2         300.0         1.287475         1.703108e+10          1.703108e+10   \n",
       "3         720.0         4.345229                  NaN                   NaN   \n",
       "4         120.0         0.482803         1.703108e+10          1.703108e+10   \n",
       "\n",
       "   Pickup Community Area  Dropoff Community Area  Trip Total  \\\n",
       "0                   28.0                    28.0        6.45   \n",
       "1                   32.0                     8.0        7.25   \n",
       "2                    8.0                     8.0        6.45   \n",
       "3                   34.0                    32.0       11.85   \n",
       "4                    8.0                     8.0        3.85   \n",
       "\n",
       "               Pickup Centroid Location  \\\n",
       "0  POINT (-87.6572331997 41.8852813201)   \n",
       "1  POINT (-87.6209929134 41.8849871918)   \n",
       "2  POINT (-87.6188683546 41.8909220259)   \n",
       "3  POINT (-87.6339734222 41.8420761168)   \n",
       "4  POINT (-87.6262105324 41.8991556134)   \n",
       "\n",
       "                 Dropoff Centroid  Location  \n",
       "0      POINT (-87.6572331997 41.8852813201)  \n",
       "1      POINT (-87.6262105324 41.8991556134)  \n",
       "2      POINT (-87.6291051864 41.9002212967)  \n",
       "3      POINT (-87.6251921424 41.8788655841)  \n",
       "4  POINT (-87.6266589003 41.90752007470001)  "
      ]
     },
     "execution_count": 5,
     "metadata": {},
     "output_type": "execute_result"
    }
   ],
   "source": [
    "## Convert from miles to kilometers\n",
    "df_trips['Trip Miles'] = df_trips['Trip Miles'] * 1.609344\n",
    "df_trips.rename(columns={\"Trip Miles\": \"Trip Kilometers\"}, inplace = True)\n",
    "df_trips.head(5)"
   ]
  },
  {
   "cell_type": "markdown",
   "id": "c15be641",
   "metadata": {},
   "source": [
    "With the first steps of data preparation done, let us have a look at the distribution of trip duration and trip length."
   ]
  },
  {
   "cell_type": "code",
   "execution_count": 6,
   "id": "8398c445",
   "metadata": {},
   "outputs": [
    {
     "data": {
      "image/png": "[encoded data removed]",
      "text/plain": [
       "<Figure size 640x480 with 1 Axes>"
      ]
     },
     "metadata": {},
     "output_type": "display_data"
    }
   ],
   "source": [
    "## Draw scatterplot\n",
    "ax1 = df_trips.plot.scatter(x='Trip Seconds',\n",
    "                      y='Trip Kilometers',\n",
    "                      c='DarkBlue')"
   ]
  },
  {
   "cell_type": "markdown",
   "id": "8e96f1c6",
   "metadata": {},
   "source": [
    "We can see that there is a number of trips with a high trip duration and/or high trip length. In some cases, the respective ratio is also very unlikely to happen in the real world (e.g. 200 kilometers in less than 3600 seconds = 1 hour or only very few kilometers in more than 10800 seconds = 3 hours). Moreover, even some of these outliers were real, they would occur only very seldomly in the real world. Therefore, we exclude trips with extreme durations or lengths."
   ]
  },
  {
   "cell_type": "code",
   "execution_count": 7,
   "id": "80868ce0",
   "metadata": {},
   "outputs": [
    {
     "data": {
      "text/plain": [
       "0.90     1560.0\n",
       "0.95     2100.0\n",
       "0.96     2280.0\n",
       "0.97     2520.0\n",
       "0.98     2880.0\n",
       "0.99     3480.0\n",
       "1.00    86220.0\n",
       "Name: Trip Seconds, dtype: float64"
      ]
     },
     "execution_count": 7,
     "metadata": {},
     "output_type": "execute_result"
    }
   ],
   "source": [
    "## Show maximum quantiles\n",
    "df_trips['Trip Seconds'].quantile([.9,.95,.96,.97,.98,.99,1])"
   ]
  },
  {
   "cell_type": "code",
   "execution_count": 8,
   "id": "fca13d8d",
   "metadata": {
    "scrolled": true
   },
   "outputs": [
    {
     "data": {
      "text/plain": [
       "0.90      16.415309\n",
       "0.95      27.680717\n",
       "0.96      28.485389\n",
       "0.97      28.968192\n",
       "0.98      30.416602\n",
       "0.99      43.452288\n",
       "1.00    3215.630246\n",
       "Name: Trip Kilometers, dtype: float64"
      ]
     },
     "execution_count": 8,
     "metadata": {},
     "output_type": "execute_result"
    }
   ],
   "source": [
    "## Show maximum quantiles\n",
    "df_trips['Trip Kilometers'].quantile([.9,.95,.96,.97,.98,.99,1])"
   ]
  },
  {
   "cell_type": "markdown",
   "id": "02a2686f",
   "metadata": {},
   "source": [
    "When looking at the quantiles and logical durations and lengths of taxi trips, cutoff values of one hour (= 3600 seconds) and 30 kilometers appear to be reasonable."
   ]
  },
  {
   "cell_type": "code",
   "execution_count": 9,
   "id": "8f2d8872",
   "metadata": {},
   "outputs": [],
   "source": [
    "df_trips = df_trips[(df_trips[['Trip Seconds']] <= 3600).all(axis=1)]\n",
    "df_trips = df_trips[(df_trips[['Trip Kilometers']] <= 30).all(axis=1)]"
   ]
  },
  {
   "cell_type": "markdown",
   "id": "b4f5a8c5",
   "metadata": {},
   "source": [
    "In addition, some entries that are short in duration and/or length might be faulty, as well: When trips are shorter than a minute or 100 meters, for example."
   ]
  },
  {
   "cell_type": "code",
   "execution_count": 10,
   "id": "1bed835d",
   "metadata": {},
   "outputs": [
    {
     "data": {
      "text/plain": [
       "0.00      1.0\n",
       "0.01    120.0\n",
       "0.02    120.0\n",
       "0.03    120.0\n",
       "0.04    180.0\n",
       "0.05    180.0\n",
       "0.10    240.0\n",
       "Name: Trip Seconds, dtype: float64"
      ]
     },
     "execution_count": 10,
     "metadata": {},
     "output_type": "execute_result"
    }
   ],
   "source": [
    "## Show minimum quantiles\n",
    "df_trips['Trip Seconds'].quantile([.0,.01,.02,.03,.04,.05,0.1])"
   ]
  },
  {
   "cell_type": "code",
   "execution_count": 11,
   "id": "e6a04497",
   "metadata": {},
   "outputs": [
    {
     "data": {
      "text/plain": [
       "0.00    0.016093\n",
       "0.01    0.128748\n",
       "0.02    0.160934\n",
       "0.03    0.160934\n",
       "0.04    0.160934\n",
       "0.05    0.160934\n",
       "0.10    0.321869\n",
       "Name: Trip Kilometers, dtype: float64"
      ]
     },
     "execution_count": 11,
     "metadata": {},
     "output_type": "execute_result"
    }
   ],
   "source": [
    "## Show minimum quantiles\n",
    "df_trips['Trip Kilometers'].quantile([.0,.01,.02,.03,.04,.05,0.1])"
   ]
  },
  {
   "cell_type": "code",
   "execution_count": 12,
   "id": "eef84ecf",
   "metadata": {},
   "outputs": [],
   "source": [
    "df_trips = df_trips[(df_trips[['Trip Seconds']] >= 60).all(axis=1)]\n",
    "df_trips = df_trips[(df_trips[['Trip Kilometers']] >= 0.1).all(axis=1)]"
   ]
  },
  {
   "cell_type": "code",
   "execution_count": 13,
   "id": "7f068cbf",
   "metadata": {
    "scrolled": true
   },
   "outputs": [
    {
     "data": {
      "text/html": [
       "<div>\n",
       "<style scoped>\n",
       "    .dataframe tbody tr th:only-of-type {\n",
       "        vertical-align: middle;\n",
       "    }\n",
       "\n",
       "    .dataframe tbody tr th {\n",
       "        vertical-align: top;\n",
       "    }\n",
       "\n",
       "    .dataframe thead th {\n",
       "        text-align: right;\n",
       "    }\n",
       "</style>\n",
       "<table border=\"1\" class=\"dataframe\">\n",
       "  <thead>\n",
       "    <tr style=\"text-align: right;\">\n",
       "      <th></th>\n",
       "      <th>Trip ID</th>\n",
       "      <th>Taxi ID</th>\n",
       "      <th>Trip Start Timestamp</th>\n",
       "      <th>Trip Seconds</th>\n",
       "      <th>Trip Kilometers</th>\n",
       "      <th>Pickup Census Tract</th>\n",
       "      <th>Dropoff Census Tract</th>\n",
       "      <th>Pickup Community Area</th>\n",
       "      <th>Dropoff Community Area</th>\n",
       "      <th>Trip Total</th>\n",
       "      <th>Pickup Centroid Location</th>\n",
       "      <th>Dropoff Centroid  Location</th>\n",
       "    </tr>\n",
       "    <tr>\n",
       "      <th>index</th>\n",
       "      <th></th>\n",
       "      <th></th>\n",
       "      <th></th>\n",
       "      <th></th>\n",
       "      <th></th>\n",
       "      <th></th>\n",
       "      <th></th>\n",
       "      <th></th>\n",
       "      <th></th>\n",
       "      <th></th>\n",
       "      <th></th>\n",
       "      <th></th>\n",
       "    </tr>\n",
       "  </thead>\n",
       "  <tbody>\n",
       "    <tr>\n",
       "      <th>0</th>\n",
       "      <td>f4eeac57641ccafac957e7640c59be67b3d235d9</td>\n",
       "      <td>1db11e4e66375f35ed6a59eb06eb997fc7e23e3fdcbb3b...</td>\n",
       "      <td>2013-01-20 01:15:00</td>\n",
       "      <td>300.0</td>\n",
       "      <td>1.448410</td>\n",
       "      <td>1.703183e+10</td>\n",
       "      <td>1.703183e+10</td>\n",
       "      <td>28.0</td>\n",
       "      <td>28.0</td>\n",
       "      <td>6.45</td>\n",
       "      <td>POINT (-87.6572331997 41.8852813201)</td>\n",
       "      <td>POINT (-87.6572331997 41.8852813201)</td>\n",
       "    </tr>\n",
       "    <tr>\n",
       "      <th>1</th>\n",
       "      <td>600ea9d83f5fd1b07d698d7a8e4d132c146b3d4c</td>\n",
       "      <td>a0a66f6e978125e040111831d60457ff2551356865bd69...</td>\n",
       "      <td>2013-02-19 10:15:00</td>\n",
       "      <td>540.0</td>\n",
       "      <td>2.092147</td>\n",
       "      <td>1.703132e+10</td>\n",
       "      <td>1.703108e+10</td>\n",
       "      <td>32.0</td>\n",
       "      <td>8.0</td>\n",
       "      <td>7.25</td>\n",
       "      <td>POINT (-87.6209929134 41.8849871918)</td>\n",
       "      <td>POINT (-87.6262105324 41.8991556134)</td>\n",
       "    </tr>\n",
       "    <tr>\n",
       "      <th>2</th>\n",
       "      <td>f20e25252ad57949c37aabdc8d4ad3102ecae22f</td>\n",
       "      <td>4fdfda1ef9a53850fc350d2834bfd9086e4a622f5e06cd...</td>\n",
       "      <td>2013-03-04 17:30:00</td>\n",
       "      <td>300.0</td>\n",
       "      <td>1.287475</td>\n",
       "      <td>1.703108e+10</td>\n",
       "      <td>1.703108e+10</td>\n",
       "      <td>8.0</td>\n",
       "      <td>8.0</td>\n",
       "      <td>6.45</td>\n",
       "      <td>POINT (-87.6188683546 41.8909220259)</td>\n",
       "      <td>POINT (-87.6291051864 41.9002212967)</td>\n",
       "    </tr>\n",
       "    <tr>\n",
       "      <th>3</th>\n",
       "      <td>534eafce867e1da9a4e298f41f997098b7ade02d</td>\n",
       "      <td>fd3dde755823d853a88fa12d98777b10b5708426e575db...</td>\n",
       "      <td>2013-02-28 12:45:00</td>\n",
       "      <td>720.0</td>\n",
       "      <td>4.345229</td>\n",
       "      <td>NaN</td>\n",
       "      <td>NaN</td>\n",
       "      <td>34.0</td>\n",
       "      <td>32.0</td>\n",
       "      <td>11.85</td>\n",
       "      <td>POINT (-87.6339734222 41.8420761168)</td>\n",
       "      <td>POINT (-87.6251921424 41.8788655841)</td>\n",
       "    </tr>\n",
       "    <tr>\n",
       "      <th>4</th>\n",
       "      <td>0c883ed5c2d7a684bdf11071cea591bc72354b6c</td>\n",
       "      <td>12f6dc49f676b830a5b2c718a872f31d784c5e94aae68c...</td>\n",
       "      <td>2013-02-19 15:00:00</td>\n",
       "      <td>120.0</td>\n",
       "      <td>0.482803</td>\n",
       "      <td>1.703108e+10</td>\n",
       "      <td>1.703108e+10</td>\n",
       "      <td>8.0</td>\n",
       "      <td>8.0</td>\n",
       "      <td>3.85</td>\n",
       "      <td>POINT (-87.6262105324 41.8991556134)</td>\n",
       "      <td>POINT (-87.6266589003 41.90752007470001)</td>\n",
       "    </tr>\n",
       "    <tr>\n",
       "      <th>...</th>\n",
       "      <td>...</td>\n",
       "      <td>...</td>\n",
       "      <td>...</td>\n",
       "      <td>...</td>\n",
       "      <td>...</td>\n",
       "      <td>...</td>\n",
       "      <td>...</td>\n",
       "      <td>...</td>\n",
       "      <td>...</td>\n",
       "      <td>...</td>\n",
       "      <td>...</td>\n",
       "      <td>...</td>\n",
       "    </tr>\n",
       "    <tr>\n",
       "      <th>14576275</th>\n",
       "      <td>3d427552dcbe75ceed9988f8d0dc28ea385b75ff</td>\n",
       "      <td>11cec1092eb4f4b50433778d436f251983dd37d567f709...</td>\n",
       "      <td>2013-12-11 22:00:00</td>\n",
       "      <td>1320.0</td>\n",
       "      <td>25.105766</td>\n",
       "      <td>1.703108e+10</td>\n",
       "      <td>1.703177e+10</td>\n",
       "      <td>8.0</td>\n",
       "      <td>NaN</td>\n",
       "      <td>32.65</td>\n",
       "      <td>POINT (-87.6188683546 41.8909220259)</td>\n",
       "      <td>POINT (-87.8773053996 41.9827750091)</td>\n",
       "    </tr>\n",
       "    <tr>\n",
       "      <th>14576276</th>\n",
       "      <td>5381c7d996b05f0396560571d1b509891f85951c</td>\n",
       "      <td>93930278eb7df9672cdc277c92e59dae0f82116868ce1c...</td>\n",
       "      <td>2013-08-23 20:15:00</td>\n",
       "      <td>960.0</td>\n",
       "      <td>0.160934</td>\n",
       "      <td>1.703184e+10</td>\n",
       "      <td>1.703108e+10</td>\n",
       "      <td>24.0</td>\n",
       "      <td>8.0</td>\n",
       "      <td>12.05</td>\n",
       "      <td>POINT (-87.6536139825 41.8983058696)</td>\n",
       "      <td>POINT (-87.6262149064 41.8925077809)</td>\n",
       "    </tr>\n",
       "    <tr>\n",
       "      <th>14576277</th>\n",
       "      <td>5c71de11eff2d2083e0656669eb8bd95752389fe</td>\n",
       "      <td>2354c93bbaa7dac1e0d85d0bca366db1f91abf56b9731a...</td>\n",
       "      <td>2013-12-11 19:30:00</td>\n",
       "      <td>360.0</td>\n",
       "      <td>2.574950</td>\n",
       "      <td>1.703108e+10</td>\n",
       "      <td>1.703107e+10</td>\n",
       "      <td>8.0</td>\n",
       "      <td>7.0</td>\n",
       "      <td>6.65</td>\n",
       "      <td>POINT (-87.6266589003 41.90752007470001)</td>\n",
       "      <td>POINT (-87.6341560931 41.922082541)</td>\n",
       "    </tr>\n",
       "    <tr>\n",
       "      <th>14576278</th>\n",
       "      <td>fc22d8799ff4ea8b18347031fac16f8f1a889177</td>\n",
       "      <td>bc709a696db40a46144faa530198a65442402f42513ee4...</td>\n",
       "      <td>2013-12-12 07:45:00</td>\n",
       "      <td>1560.0</td>\n",
       "      <td>11.748211</td>\n",
       "      <td>NaN</td>\n",
       "      <td>NaN</td>\n",
       "      <td>NaN</td>\n",
       "      <td>NaN</td>\n",
       "      <td>18.85</td>\n",
       "      <td>NaN</td>\n",
       "      <td>NaN</td>\n",
       "    </tr>\n",
       "    <tr>\n",
       "      <th>14576279</th>\n",
       "      <td>9baac4e79f505d246e416ac95d39f267347a7ff8</td>\n",
       "      <td>2761b9a6c5c83f387aa289e6605486a5a35e0f210c1412...</td>\n",
       "      <td>2013-12-12 07:30:00</td>\n",
       "      <td>360.0</td>\n",
       "      <td>2.092147</td>\n",
       "      <td>1.703183e+10</td>\n",
       "      <td>1.703108e+10</td>\n",
       "      <td>28.0</td>\n",
       "      <td>8.0</td>\n",
       "      <td>6.25</td>\n",
       "      <td>POINT (-87.6572331997 41.8852813201)</td>\n",
       "      <td>POINT (-87.6318639497 41.8920421365)</td>\n",
       "    </tr>\n",
       "  </tbody>\n",
       "</table>\n",
       "<p>14576280 rows × 12 columns</p>\n",
       "</div>"
      ],
      "text/plain": [
       "                                           Trip ID  \\\n",
       "index                                                \n",
       "0         f4eeac57641ccafac957e7640c59be67b3d235d9   \n",
       "1         600ea9d83f5fd1b07d698d7a8e4d132c146b3d4c   \n",
       "2         f20e25252ad57949c37aabdc8d4ad3102ecae22f   \n",
       "3         534eafce867e1da9a4e298f41f997098b7ade02d   \n",
       "4         0c883ed5c2d7a684bdf11071cea591bc72354b6c   \n",
       "...                                            ...   \n",
       "14576275  3d427552dcbe75ceed9988f8d0dc28ea385b75ff   \n",
       "14576276  5381c7d996b05f0396560571d1b509891f85951c   \n",
       "14576277  5c71de11eff2d2083e0656669eb8bd95752389fe   \n",
       "14576278  fc22d8799ff4ea8b18347031fac16f8f1a889177   \n",
       "14576279  9baac4e79f505d246e416ac95d39f267347a7ff8   \n",
       "\n",
       "                                                    Taxi ID  \\\n",
       "index                                                         \n",
       "0         1db11e4e66375f35ed6a59eb06eb997fc7e23e3fdcbb3b...   \n",
       "1         a0a66f6e978125e040111831d60457ff2551356865bd69...   \n",
       "2         4fdfda1ef9a53850fc350d2834bfd9086e4a622f5e06cd...   \n",
       "3         fd3dde755823d853a88fa12d98777b10b5708426e575db...   \n",
       "4         12f6dc49f676b830a5b2c718a872f31d784c5e94aae68c...   \n",
       "...                                                     ...   \n",
       "14576275  11cec1092eb4f4b50433778d436f251983dd37d567f709...   \n",
       "14576276  93930278eb7df9672cdc277c92e59dae0f82116868ce1c...   \n",
       "14576277  2354c93bbaa7dac1e0d85d0bca366db1f91abf56b9731a...   \n",
       "14576278  bc709a696db40a46144faa530198a65442402f42513ee4...   \n",
       "14576279  2761b9a6c5c83f387aa289e6605486a5a35e0f210c1412...   \n",
       "\n",
       "         Trip Start Timestamp  Trip Seconds  Trip Kilometers  \\\n",
       "index                                                          \n",
       "0         2013-01-20 01:15:00         300.0         1.448410   \n",
       "1         2013-02-19 10:15:00         540.0         2.092147   \n",
       "2         2013-03-04 17:30:00         300.0         1.287475   \n",
       "3         2013-02-28 12:45:00         720.0         4.345229   \n",
       "4         2013-02-19 15:00:00         120.0         0.482803   \n",
       "...                       ...           ...              ...   \n",
       "14576275  2013-12-11 22:00:00        1320.0        25.105766   \n",
       "14576276  2013-08-23 20:15:00         960.0         0.160934   \n",
       "14576277  2013-12-11 19:30:00         360.0         2.574950   \n",
       "14576278  2013-12-12 07:45:00        1560.0        11.748211   \n",
       "14576279  2013-12-12 07:30:00         360.0         2.092147   \n",
       "\n",
       "          Pickup Census Tract  Dropoff Census Tract  Pickup Community Area  \\\n",
       "index                                                                        \n",
       "0                1.703183e+10          1.703183e+10                   28.0   \n",
       "1                1.703132e+10          1.703108e+10                   32.0   \n",
       "2                1.703108e+10          1.703108e+10                    8.0   \n",
       "3                         NaN                   NaN                   34.0   \n",
       "4                1.703108e+10          1.703108e+10                    8.0   \n",
       "...                       ...                   ...                    ...   \n",
       "14576275         1.703108e+10          1.703177e+10                    8.0   \n",
       "14576276         1.703184e+10          1.703108e+10                   24.0   \n",
       "14576277         1.703108e+10          1.703107e+10                    8.0   \n",
       "14576278                  NaN                   NaN                    NaN   \n",
       "14576279         1.703183e+10          1.703108e+10                   28.0   \n",
       "\n",
       "          Dropoff Community Area  Trip Total  \\\n",
       "index                                          \n",
       "0                           28.0        6.45   \n",
       "1                            8.0        7.25   \n",
       "2                            8.0        6.45   \n",
       "3                           32.0       11.85   \n",
       "4                            8.0        3.85   \n",
       "...                          ...         ...   \n",
       "14576275                     NaN       32.65   \n",
       "14576276                     8.0       12.05   \n",
       "14576277                     7.0        6.65   \n",
       "14576278                     NaN       18.85   \n",
       "14576279                     8.0        6.25   \n",
       "\n",
       "                          Pickup Centroid Location  \\\n",
       "index                                                \n",
       "0             POINT (-87.6572331997 41.8852813201)   \n",
       "1             POINT (-87.6209929134 41.8849871918)   \n",
       "2             POINT (-87.6188683546 41.8909220259)   \n",
       "3             POINT (-87.6339734222 41.8420761168)   \n",
       "4             POINT (-87.6262105324 41.8991556134)   \n",
       "...                                            ...   \n",
       "14576275      POINT (-87.6188683546 41.8909220259)   \n",
       "14576276      POINT (-87.6536139825 41.8983058696)   \n",
       "14576277  POINT (-87.6266589003 41.90752007470001)   \n",
       "14576278                                       NaN   \n",
       "14576279      POINT (-87.6572331997 41.8852813201)   \n",
       "\n",
       "                        Dropoff Centroid  Location  \n",
       "index                                               \n",
       "0             POINT (-87.6572331997 41.8852813201)  \n",
       "1             POINT (-87.6262105324 41.8991556134)  \n",
       "2             POINT (-87.6291051864 41.9002212967)  \n",
       "3             POINT (-87.6251921424 41.8788655841)  \n",
       "4         POINT (-87.6266589003 41.90752007470001)  \n",
       "...                                            ...  \n",
       "14576275      POINT (-87.8773053996 41.9827750091)  \n",
       "14576276      POINT (-87.6262149064 41.8925077809)  \n",
       "14576277       POINT (-87.6341560931 41.922082541)  \n",
       "14576278                                       NaN  \n",
       "14576279      POINT (-87.6318639497 41.8920421365)  \n",
       "\n",
       "[14576280 rows x 12 columns]"
      ]
     },
     "execution_count": 13,
     "metadata": {},
     "output_type": "execute_result"
    }
   ],
   "source": [
    "## Add unique index \n",
    "df_trips['index'] = range(0, len(df_trips))\n",
    "df_trips = df_trips.set_index('index')\n",
    "df_trips"
   ]
  },
  {
   "cell_type": "code",
   "execution_count": 15,
   "id": "c6f0c9a3",
   "metadata": {},
   "outputs": [
    {
     "name": "stdout",
     "output_type": "stream",
     "text": [
      "<class 'pandas.core.frame.DataFrame'>\n",
      "Int64Index: 14576280 entries, 0 to 14576279\n",
      "Data columns (total 12 columns):\n",
      " #   Column                      Dtype         \n",
      "---  ------                      -----         \n",
      " 0   Trip ID                     object        \n",
      " 1   Taxi ID                     object        \n",
      " 2   Trip Start Timestamp        datetime64[ns]\n",
      " 3   Trip Seconds                float64       \n",
      " 4   Trip Kilometers             float64       \n",
      " 5   Pickup Census Tract         float64       \n",
      " 6   Dropoff Census Tract        float64       \n",
      " 7   Pickup Community Area       float64       \n",
      " 8   Dropoff Community Area      float64       \n",
      " 9   Trip Total                  float64       \n",
      " 10  Pickup Centroid Location    object        \n",
      " 11  Dropoff Centroid  Location  object        \n",
      "dtypes: datetime64[ns](1), float64(7), object(4)\n",
      "memory usage: 1.4+ GB\n"
     ]
    }
   ],
   "source": [
    "df_trips.info()"
   ]
  },
  {
   "cell_type": "markdown",
   "id": "d7b4c7bb",
   "metadata": {},
   "source": [
    "Mehr rauswerfen? Round trips (also Start GPS = End GPS rauswerfen?) Datetime umwandeln"
   ]
  },
  {
   "cell_type": "code",
   "execution_count": 18,
   "id": "ea9e2209",
   "metadata": {},
   "outputs": [],
   "source": [
    "## Save as pickle\n",
    "import pickle\n",
    "\n",
    "# Saving\n",
    "pickle.dump(df_trips, open(\"trips.pkl\",\"wb\"))"
   ]
  }
 ],
 "metadata": {
  "kernelspec": {
   "display_name": "Python 3 (ipykernel)",
   "language": "python",
   "name": "python3"
  },
  "language_info": {
   "codemirror_mode": {
    "name": "ipython",
    "version": 3
   },
   "file_extension": ".py",
   "mimetype": "text/x-python",
   "name": "python",
   "nbconvert_exporter": "python",
   "pygments_lexer": "ipython3",
   "version": "3.9.13"
  }
 },
 "nbformat": 4,
 "nbformat_minor": 5
}
